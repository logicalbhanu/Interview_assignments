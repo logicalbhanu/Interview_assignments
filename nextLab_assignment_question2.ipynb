{
  "cells": [
    {
      "cell_type": "markdown",
      "metadata": {
        "id": "view-in-github",
        "colab_type": "text"
      },
      "source": [
        "<a href=\"https://colab.research.google.com/github/logicalbhanu/Interview_assignments/blob/main/nextLab_assignment_question2.ipynb\" target=\"_parent\"><img src=\"https://colab.research.google.com/assets/colab-badge.svg\" alt=\"Open In Colab\"/></a>"
      ]
    },
    {
      "cell_type": "markdown",
      "metadata": {
        "id": "X6DsTyusjRDs"
      },
      "source": [
        "## Installing the fastai library"
      ]
    },
    {
      "cell_type": "code",
      "metadata": {
        "id": "pHZ3ysEZ_Sre",
        "outputId": "509f46c0-e463-47b5-fe56-d81788ea730f",
        "colab": {
          "base_uri": "https://localhost:8080/"
        }
      },
      "source": [
        "!pip install wget\n",
        "from fastai.text import *"
      ],
      "execution_count": null,
      "outputs": [
        {
          "output_type": "stream",
          "name": "stdout",
          "text": [
            "Requirement already satisfied: wget in /usr/local/lib/python3.7/dist-packages (3.2)\n"
          ]
        }
      ]
    },
    {
      "cell_type": "markdown",
      "metadata": {
        "id": "fUtNy-gmjtnd"
      },
      "source": [
        "## Downloading the Dataset."
      ]
    },
    {
      "cell_type": "markdown",
      "metadata": {
        "id": "LUsl_g2Lj9W8"
      },
      "source": [
        "We'll use The Corpus of Linguistic Acceptability (CoLA) dataset for single sentence classification. It's a set of sentences labeled as grammatically correct or incorrect. It was first published in May of 2018, and is one of the tests included in the \"GLUE Benchmark\" on which models like BERT are competing."
      ]
    },
    {
      "cell_type": "code",
      "metadata": {
        "id": "Fw7ZsloO_lhX",
        "outputId": "05f19fd1-d06b-4225-814d-9eb10ad5ef3f",
        "colab": {
          "base_uri": "https://localhost:8080/"
        }
      },
      "source": [
        "import wget\n",
        "import os\n",
        "%tensorflow_version 2.x\n",
        "\n",
        "import tensorflow as tf\n",
        "print('Downloading dataset...')\n",
        "\n",
        "# The URL for the dataset zip file.\n",
        "url = 'https://nyu-mll.github.io/CoLA/cola_public_1.1.zip'\n",
        "\n",
        "# Download the file (if we haven't already)\n",
        "if not os.path.exists('./cola_public_1.1.zip'):\n",
        "    wget.download(url, './cola_public_1.1.zip')"
      ],
      "execution_count": null,
      "outputs": [
        {
          "output_type": "stream",
          "name": "stdout",
          "text": [
            "2.8.0\n",
            "Downloading dataset...\n"
          ]
        }
      ]
    },
    {
      "cell_type": "code",
      "metadata": {
        "id": "PXYMS9JY_oiI"
      },
      "source": [
        "# Unzip the dataset (if we haven't already)\n",
        "if not os.path.exists('./cola_public/'):\n",
        "    !unzip cola_public_1.1.zip"
      ],
      "execution_count": null,
      "outputs": []
    },
    {
      "cell_type": "markdown",
      "metadata": {
        "id": "NNFDiZqPkXmE"
      },
      "source": [
        "## Parsing the training and testing data."
      ]
    },
    {
      "cell_type": "code",
      "metadata": {
        "id": "Qc3YyvENAJko",
        "outputId": "559f3935-01b9-4d6d-b941-76fc4999182a",
        "colab": {
          "base_uri": "https://localhost:8080/",
          "height": 397
        }
      },
      "source": [
        "df = pd.read_csv(\"./cola_public/raw/in_domain_train.tsv\", delimiter='\\t', header=None, names=['sentence_source', 'label', 'label_notes', 'sentence'])\n",
        "\n",
        "# Report the number of sentences.\n",
        "print('Number of training sentences: {:,}\\n'.format(df.shape[0]))\n",
        "\n",
        "# Display 10 random rows from the data.\n",
        "df.sample(10)"
      ],
      "execution_count": null,
      "outputs": [
        {
          "output_type": "stream",
          "name": "stdout",
          "text": [
            "Number of training sentences: 8,551\n",
            "\n"
          ]
        },
        {
          "output_type": "execute_result",
          "data": {
            "text/plain": [
              "     sentence_source  label label_notes  \\\n",
              "489             bc01      1         NaN   \n",
              "6257            c_13      1         NaN   \n",
              "3786            ks08      1         NaN   \n",
              "2686            l-93      0           *   \n",
              "5658            c_13      1         NaN   \n",
              "2834            l-93      1         NaN   \n",
              "2977            l-93      1         NaN   \n",
              "8061            ad03      1         NaN   \n",
              "4299            ks08      0           *   \n",
              "5106            ks08      0           *   \n",
              "\n",
              "                                               sentence  \n",
              "489                                         John tried.  \n",
              "6257                 Robert knows that it is essential.  \n",
              "3786  They would inform Mary of any success they hav...  \n",
              "2686           Nora brought at the book to the meeting.  \n",
              "5658                            The cat ate the spider.  \n",
              "2834         Alison poked the needle through the cloth.  \n",
              "2977                Her cousin clerked for Judge Davis.  \n",
              "8061                            Julie felt he was there  \n",
              "4299  Stephen persuaded there to be a fountain in th...  \n",
              "5106             Order one first is what you should do.  "
            ],
            "text/html": [
              "\n",
              "  <div id=\"df-2e25a1b3-122d-407b-b5e5-375d444aeeff\">\n",
              "    <div class=\"colab-df-container\">\n",
              "      <div>\n",
              "<style scoped>\n",
              "    .dataframe tbody tr th:only-of-type {\n",
              "        vertical-align: middle;\n",
              "    }\n",
              "\n",
              "    .dataframe tbody tr th {\n",
              "        vertical-align: top;\n",
              "    }\n",
              "\n",
              "    .dataframe thead th {\n",
              "        text-align: right;\n",
              "    }\n",
              "</style>\n",
              "<table border=\"1\" class=\"dataframe\">\n",
              "  <thead>\n",
              "    <tr style=\"text-align: right;\">\n",
              "      <th></th>\n",
              "      <th>sentence_source</th>\n",
              "      <th>label</th>\n",
              "      <th>label_notes</th>\n",
              "      <th>sentence</th>\n",
              "    </tr>\n",
              "  </thead>\n",
              "  <tbody>\n",
              "    <tr>\n",
              "      <th>489</th>\n",
              "      <td>bc01</td>\n",
              "      <td>1</td>\n",
              "      <td>NaN</td>\n",
              "      <td>John tried.</td>\n",
              "    </tr>\n",
              "    <tr>\n",
              "      <th>6257</th>\n",
              "      <td>c_13</td>\n",
              "      <td>1</td>\n",
              "      <td>NaN</td>\n",
              "      <td>Robert knows that it is essential.</td>\n",
              "    </tr>\n",
              "    <tr>\n",
              "      <th>3786</th>\n",
              "      <td>ks08</td>\n",
              "      <td>1</td>\n",
              "      <td>NaN</td>\n",
              "      <td>They would inform Mary of any success they hav...</td>\n",
              "    </tr>\n",
              "    <tr>\n",
              "      <th>2686</th>\n",
              "      <td>l-93</td>\n",
              "      <td>0</td>\n",
              "      <td>*</td>\n",
              "      <td>Nora brought at the book to the meeting.</td>\n",
              "    </tr>\n",
              "    <tr>\n",
              "      <th>5658</th>\n",
              "      <td>c_13</td>\n",
              "      <td>1</td>\n",
              "      <td>NaN</td>\n",
              "      <td>The cat ate the spider.</td>\n",
              "    </tr>\n",
              "    <tr>\n",
              "      <th>2834</th>\n",
              "      <td>l-93</td>\n",
              "      <td>1</td>\n",
              "      <td>NaN</td>\n",
              "      <td>Alison poked the needle through the cloth.</td>\n",
              "    </tr>\n",
              "    <tr>\n",
              "      <th>2977</th>\n",
              "      <td>l-93</td>\n",
              "      <td>1</td>\n",
              "      <td>NaN</td>\n",
              "      <td>Her cousin clerked for Judge Davis.</td>\n",
              "    </tr>\n",
              "    <tr>\n",
              "      <th>8061</th>\n",
              "      <td>ad03</td>\n",
              "      <td>1</td>\n",
              "      <td>NaN</td>\n",
              "      <td>Julie felt he was there</td>\n",
              "    </tr>\n",
              "    <tr>\n",
              "      <th>4299</th>\n",
              "      <td>ks08</td>\n",
              "      <td>0</td>\n",
              "      <td>*</td>\n",
              "      <td>Stephen persuaded there to be a fountain in th...</td>\n",
              "    </tr>\n",
              "    <tr>\n",
              "      <th>5106</th>\n",
              "      <td>ks08</td>\n",
              "      <td>0</td>\n",
              "      <td>*</td>\n",
              "      <td>Order one first is what you should do.</td>\n",
              "    </tr>\n",
              "  </tbody>\n",
              "</table>\n",
              "</div>\n",
              "      <button class=\"colab-df-convert\" onclick=\"convertToInteractive('df-2e25a1b3-122d-407b-b5e5-375d444aeeff')\"\n",
              "              title=\"Convert this dataframe to an interactive table.\"\n",
              "              style=\"display:none;\">\n",
              "        \n",
              "  <svg xmlns=\"http://www.w3.org/2000/svg\" height=\"24px\"viewBox=\"0 0 24 24\"\n",
              "       width=\"24px\">\n",
              "    <path d=\"M0 0h24v24H0V0z\" fill=\"none\"/>\n",
              "    <path d=\"M18.56 5.44l.94 2.06.94-2.06 2.06-.94-2.06-.94-.94-2.06-.94 2.06-2.06.94zm-11 1L8.5 8.5l.94-2.06 2.06-.94-2.06-.94L8.5 2.5l-.94 2.06-2.06.94zm10 10l.94 2.06.94-2.06 2.06-.94-2.06-.94-.94-2.06-.94 2.06-2.06.94z\"/><path d=\"M17.41 7.96l-1.37-1.37c-.4-.4-.92-.59-1.43-.59-.52 0-1.04.2-1.43.59L10.3 9.45l-7.72 7.72c-.78.78-.78 2.05 0 2.83L4 21.41c.39.39.9.59 1.41.59.51 0 1.02-.2 1.41-.59l7.78-7.78 2.81-2.81c.8-.78.8-2.07 0-2.86zM5.41 20L4 18.59l7.72-7.72 1.47 1.35L5.41 20z\"/>\n",
              "  </svg>\n",
              "      </button>\n",
              "      \n",
              "  <style>\n",
              "    .colab-df-container {\n",
              "      display:flex;\n",
              "      flex-wrap:wrap;\n",
              "      gap: 12px;\n",
              "    }\n",
              "\n",
              "    .colab-df-convert {\n",
              "      background-color: #E8F0FE;\n",
              "      border: none;\n",
              "      border-radius: 50%;\n",
              "      cursor: pointer;\n",
              "      display: none;\n",
              "      fill: #1967D2;\n",
              "      height: 32px;\n",
              "      padding: 0 0 0 0;\n",
              "      width: 32px;\n",
              "    }\n",
              "\n",
              "    .colab-df-convert:hover {\n",
              "      background-color: #E2EBFA;\n",
              "      box-shadow: 0px 1px 2px rgba(60, 64, 67, 0.3), 0px 1px 3px 1px rgba(60, 64, 67, 0.15);\n",
              "      fill: #174EA6;\n",
              "    }\n",
              "\n",
              "    [theme=dark] .colab-df-convert {\n",
              "      background-color: #3B4455;\n",
              "      fill: #D2E3FC;\n",
              "    }\n",
              "\n",
              "    [theme=dark] .colab-df-convert:hover {\n",
              "      background-color: #434B5C;\n",
              "      box-shadow: 0px 1px 3px 1px rgba(0, 0, 0, 0.15);\n",
              "      filter: drop-shadow(0px 1px 2px rgba(0, 0, 0, 0.3));\n",
              "      fill: #FFFFFF;\n",
              "    }\n",
              "  </style>\n",
              "\n",
              "      <script>\n",
              "        const buttonEl =\n",
              "          document.querySelector('#df-2e25a1b3-122d-407b-b5e5-375d444aeeff button.colab-df-convert');\n",
              "        buttonEl.style.display =\n",
              "          google.colab.kernel.accessAllowed ? 'block' : 'none';\n",
              "\n",
              "        async function convertToInteractive(key) {\n",
              "          const element = document.querySelector('#df-2e25a1b3-122d-407b-b5e5-375d444aeeff');\n",
              "          const dataTable =\n",
              "            await google.colab.kernel.invokeFunction('convertToInteractive',\n",
              "                                                     [key], {});\n",
              "          if (!dataTable) return;\n",
              "\n",
              "          const docLinkHtml = 'Like what you see? Visit the ' +\n",
              "            '<a target=\"_blank\" href=https://colab.research.google.com/notebooks/data_table.ipynb>data table notebook</a>'\n",
              "            + ' to learn more about interactive tables.';\n",
              "          element.innerHTML = '';\n",
              "          dataTable['output_type'] = 'display_data';\n",
              "          await google.colab.output.renderOutput(dataTable, element);\n",
              "          const docLink = document.createElement('div');\n",
              "          docLink.innerHTML = docLinkHtml;\n",
              "          element.appendChild(docLink);\n",
              "        }\n",
              "      </script>\n",
              "    </div>\n",
              "  </div>\n",
              "  "
            ]
          },
          "metadata": {},
          "execution_count": 4
        }
      ]
    },
    {
      "cell_type": "markdown",
      "metadata": {
        "id": "K7FShqNFgpJk"
      },
      "source": [
        "The two properties we actually care about are the the `sentence` and its `label`, which is referred to as the \"weather it is grammatically correct or not\" (0=unacceptable, 1=acceptable)."
      ]
    },
    {
      "cell_type": "code",
      "source": [
        "from sklearn.model_selection import train_test_split\n",
        "\n",
        "train_sentences = df.sentence\n",
        "train_labels = df.label\n",
        "train_set = pd.concat([train_labels,train_sentences], axis=1)\n",
        "new_train_set, new_val_set= train_test_split(train_set,test_size=0.10,shuffle=False)\n",
        "new_train_set"
      ],
      "metadata": {
        "id": "VESy43z0DD1b",
        "colab": {
          "base_uri": "https://localhost:8080/",
          "height": 423
        },
        "outputId": "6b39c8ec-32fe-4d58-a72c-2583acdd7f9a"
      },
      "execution_count": null,
      "outputs": [
        {
          "output_type": "execute_result",
          "data": {
            "text/plain": [
              "      label                                           sentence\n",
              "0         1  Our friends won't buy this analysis, let alone...\n",
              "1         1  One more pseudo generalization and I'm giving up.\n",
              "2         1   One more pseudo generalization or I'm giving up.\n",
              "3         1     The more we study verbs, the crazier they get.\n",
              "4         1          Day by day the facts are getting murkier.\n",
              "...     ...                                                ...\n",
              "7690      1                              I sent money to Mary.\n",
              "7691      0                  I sent Bill money to Mary to Sam.\n",
              "7692      1  I worked on Sunday in the city on that project...\n",
              "7693      1                                    I praised Mary.\n",
              "7694      0                                         I praised.\n",
              "\n",
              "[7695 rows x 2 columns]"
            ],
            "text/html": [
              "\n",
              "  <div id=\"df-7ca30497-e3fc-4121-86ce-b118f68ee916\">\n",
              "    <div class=\"colab-df-container\">\n",
              "      <div>\n",
              "<style scoped>\n",
              "    .dataframe tbody tr th:only-of-type {\n",
              "        vertical-align: middle;\n",
              "    }\n",
              "\n",
              "    .dataframe tbody tr th {\n",
              "        vertical-align: top;\n",
              "    }\n",
              "\n",
              "    .dataframe thead th {\n",
              "        text-align: right;\n",
              "    }\n",
              "</style>\n",
              "<table border=\"1\" class=\"dataframe\">\n",
              "  <thead>\n",
              "    <tr style=\"text-align: right;\">\n",
              "      <th></th>\n",
              "      <th>label</th>\n",
              "      <th>sentence</th>\n",
              "    </tr>\n",
              "  </thead>\n",
              "  <tbody>\n",
              "    <tr>\n",
              "      <th>0</th>\n",
              "      <td>1</td>\n",
              "      <td>Our friends won't buy this analysis, let alone...</td>\n",
              "    </tr>\n",
              "    <tr>\n",
              "      <th>1</th>\n",
              "      <td>1</td>\n",
              "      <td>One more pseudo generalization and I'm giving up.</td>\n",
              "    </tr>\n",
              "    <tr>\n",
              "      <th>2</th>\n",
              "      <td>1</td>\n",
              "      <td>One more pseudo generalization or I'm giving up.</td>\n",
              "    </tr>\n",
              "    <tr>\n",
              "      <th>3</th>\n",
              "      <td>1</td>\n",
              "      <td>The more we study verbs, the crazier they get.</td>\n",
              "    </tr>\n",
              "    <tr>\n",
              "      <th>4</th>\n",
              "      <td>1</td>\n",
              "      <td>Day by day the facts are getting murkier.</td>\n",
              "    </tr>\n",
              "    <tr>\n",
              "      <th>...</th>\n",
              "      <td>...</td>\n",
              "      <td>...</td>\n",
              "    </tr>\n",
              "    <tr>\n",
              "      <th>7690</th>\n",
              "      <td>1</td>\n",
              "      <td>I sent money to Mary.</td>\n",
              "    </tr>\n",
              "    <tr>\n",
              "      <th>7691</th>\n",
              "      <td>0</td>\n",
              "      <td>I sent Bill money to Mary to Sam.</td>\n",
              "    </tr>\n",
              "    <tr>\n",
              "      <th>7692</th>\n",
              "      <td>1</td>\n",
              "      <td>I worked on Sunday in the city on that project...</td>\n",
              "    </tr>\n",
              "    <tr>\n",
              "      <th>7693</th>\n",
              "      <td>1</td>\n",
              "      <td>I praised Mary.</td>\n",
              "    </tr>\n",
              "    <tr>\n",
              "      <th>7694</th>\n",
              "      <td>0</td>\n",
              "      <td>I praised.</td>\n",
              "    </tr>\n",
              "  </tbody>\n",
              "</table>\n",
              "<p>7695 rows × 2 columns</p>\n",
              "</div>\n",
              "      <button class=\"colab-df-convert\" onclick=\"convertToInteractive('df-7ca30497-e3fc-4121-86ce-b118f68ee916')\"\n",
              "              title=\"Convert this dataframe to an interactive table.\"\n",
              "              style=\"display:none;\">\n",
              "        \n",
              "  <svg xmlns=\"http://www.w3.org/2000/svg\" height=\"24px\"viewBox=\"0 0 24 24\"\n",
              "       width=\"24px\">\n",
              "    <path d=\"M0 0h24v24H0V0z\" fill=\"none\"/>\n",
              "    <path d=\"M18.56 5.44l.94 2.06.94-2.06 2.06-.94-2.06-.94-.94-2.06-.94 2.06-2.06.94zm-11 1L8.5 8.5l.94-2.06 2.06-.94-2.06-.94L8.5 2.5l-.94 2.06-2.06.94zm10 10l.94 2.06.94-2.06 2.06-.94-2.06-.94-.94-2.06-.94 2.06-2.06.94z\"/><path d=\"M17.41 7.96l-1.37-1.37c-.4-.4-.92-.59-1.43-.59-.52 0-1.04.2-1.43.59L10.3 9.45l-7.72 7.72c-.78.78-.78 2.05 0 2.83L4 21.41c.39.39.9.59 1.41.59.51 0 1.02-.2 1.41-.59l7.78-7.78 2.81-2.81c.8-.78.8-2.07 0-2.86zM5.41 20L4 18.59l7.72-7.72 1.47 1.35L5.41 20z\"/>\n",
              "  </svg>\n",
              "      </button>\n",
              "      \n",
              "  <style>\n",
              "    .colab-df-container {\n",
              "      display:flex;\n",
              "      flex-wrap:wrap;\n",
              "      gap: 12px;\n",
              "    }\n",
              "\n",
              "    .colab-df-convert {\n",
              "      background-color: #E8F0FE;\n",
              "      border: none;\n",
              "      border-radius: 50%;\n",
              "      cursor: pointer;\n",
              "      display: none;\n",
              "      fill: #1967D2;\n",
              "      height: 32px;\n",
              "      padding: 0 0 0 0;\n",
              "      width: 32px;\n",
              "    }\n",
              "\n",
              "    .colab-df-convert:hover {\n",
              "      background-color: #E2EBFA;\n",
              "      box-shadow: 0px 1px 2px rgba(60, 64, 67, 0.3), 0px 1px 3px 1px rgba(60, 64, 67, 0.15);\n",
              "      fill: #174EA6;\n",
              "    }\n",
              "\n",
              "    [theme=dark] .colab-df-convert {\n",
              "      background-color: #3B4455;\n",
              "      fill: #D2E3FC;\n",
              "    }\n",
              "\n",
              "    [theme=dark] .colab-df-convert:hover {\n",
              "      background-color: #434B5C;\n",
              "      box-shadow: 0px 1px 3px 1px rgba(0, 0, 0, 0.15);\n",
              "      filter: drop-shadow(0px 1px 2px rgba(0, 0, 0, 0.3));\n",
              "      fill: #FFFFFF;\n",
              "    }\n",
              "  </style>\n",
              "\n",
              "      <script>\n",
              "        const buttonEl =\n",
              "          document.querySelector('#df-7ca30497-e3fc-4121-86ce-b118f68ee916 button.colab-df-convert');\n",
              "        buttonEl.style.display =\n",
              "          google.colab.kernel.accessAllowed ? 'block' : 'none';\n",
              "\n",
              "        async function convertToInteractive(key) {\n",
              "          const element = document.querySelector('#df-7ca30497-e3fc-4121-86ce-b118f68ee916');\n",
              "          const dataTable =\n",
              "            await google.colab.kernel.invokeFunction('convertToInteractive',\n",
              "                                                     [key], {});\n",
              "          if (!dataTable) return;\n",
              "\n",
              "          const docLinkHtml = 'Like what you see? Visit the ' +\n",
              "            '<a target=\"_blank\" href=https://colab.research.google.com/notebooks/data_table.ipynb>data table notebook</a>'\n",
              "            + ' to learn more about interactive tables.';\n",
              "          element.innerHTML = '';\n",
              "          dataTable['output_type'] = 'display_data';\n",
              "          await google.colab.output.renderOutput(dataTable, element);\n",
              "          const docLink = document.createElement('div');\n",
              "          docLink.innerHTML = docLinkHtml;\n",
              "          element.appendChild(docLink);\n",
              "        }\n",
              "      </script>\n",
              "    </div>\n",
              "  </div>\n",
              "  "
            ]
          },
          "metadata": {},
          "execution_count": 5
        }
      ]
    },
    {
      "cell_type": "code",
      "metadata": {
        "id": "b9_HtPJ6D9Xi",
        "outputId": "36502cc1-c57a-4cec-edca-c8a598bf9775",
        "colab": {
          "base_uri": "https://localhost:8080/",
          "height": 423
        }
      },
      "source": [
        "df = pd.read_csv(\"./cola_public/raw/out_of_domain_dev.tsv\", delimiter='\\t', header=None, names=['sentence_source', 'label', 'label_notes', 'sentence'])\n",
        "test_sentences = df.sentence\n",
        "test_labels = df.label\n",
        "new_test_set = pd.concat([test_labels,test_sentences], axis=1)\n",
        "new_val_set"
      ],
      "execution_count": null,
      "outputs": [
        {
          "output_type": "execute_result",
          "data": {
            "text/plain": [
              "      label                                           sentence\n",
              "7695      1                    The moon glows in the darkness.\n",
              "7696      1                                    The moon glows.\n",
              "7697      1  I sang a song with Mary while you did so with ...\n",
              "7698      1           What Mary did with Bill was sing a song.\n",
              "7699      1                                 She tried to leave\n",
              "...     ...                                                ...\n",
              "8546      0                   Poseidon appears to own a dragon\n",
              "8547      0                     Digitize is my happiest memory\n",
              "8548      1                     It is easy to slay the Gorgon.\n",
              "8549      1       I had the strangest feeling that I knew you.\n",
              "8550      1                What all did you get for Christmas?\n",
              "\n",
              "[856 rows x 2 columns]"
            ],
            "text/html": [
              "\n",
              "  <div id=\"df-c7b494bb-888b-4489-a05a-7e808bc4557b\">\n",
              "    <div class=\"colab-df-container\">\n",
              "      <div>\n",
              "<style scoped>\n",
              "    .dataframe tbody tr th:only-of-type {\n",
              "        vertical-align: middle;\n",
              "    }\n",
              "\n",
              "    .dataframe tbody tr th {\n",
              "        vertical-align: top;\n",
              "    }\n",
              "\n",
              "    .dataframe thead th {\n",
              "        text-align: right;\n",
              "    }\n",
              "</style>\n",
              "<table border=\"1\" class=\"dataframe\">\n",
              "  <thead>\n",
              "    <tr style=\"text-align: right;\">\n",
              "      <th></th>\n",
              "      <th>label</th>\n",
              "      <th>sentence</th>\n",
              "    </tr>\n",
              "  </thead>\n",
              "  <tbody>\n",
              "    <tr>\n",
              "      <th>7695</th>\n",
              "      <td>1</td>\n",
              "      <td>The moon glows in the darkness.</td>\n",
              "    </tr>\n",
              "    <tr>\n",
              "      <th>7696</th>\n",
              "      <td>1</td>\n",
              "      <td>The moon glows.</td>\n",
              "    </tr>\n",
              "    <tr>\n",
              "      <th>7697</th>\n",
              "      <td>1</td>\n",
              "      <td>I sang a song with Mary while you did so with ...</td>\n",
              "    </tr>\n",
              "    <tr>\n",
              "      <th>7698</th>\n",
              "      <td>1</td>\n",
              "      <td>What Mary did with Bill was sing a song.</td>\n",
              "    </tr>\n",
              "    <tr>\n",
              "      <th>7699</th>\n",
              "      <td>1</td>\n",
              "      <td>She tried to leave</td>\n",
              "    </tr>\n",
              "    <tr>\n",
              "      <th>...</th>\n",
              "      <td>...</td>\n",
              "      <td>...</td>\n",
              "    </tr>\n",
              "    <tr>\n",
              "      <th>8546</th>\n",
              "      <td>0</td>\n",
              "      <td>Poseidon appears to own a dragon</td>\n",
              "    </tr>\n",
              "    <tr>\n",
              "      <th>8547</th>\n",
              "      <td>0</td>\n",
              "      <td>Digitize is my happiest memory</td>\n",
              "    </tr>\n",
              "    <tr>\n",
              "      <th>8548</th>\n",
              "      <td>1</td>\n",
              "      <td>It is easy to slay the Gorgon.</td>\n",
              "    </tr>\n",
              "    <tr>\n",
              "      <th>8549</th>\n",
              "      <td>1</td>\n",
              "      <td>I had the strangest feeling that I knew you.</td>\n",
              "    </tr>\n",
              "    <tr>\n",
              "      <th>8550</th>\n",
              "      <td>1</td>\n",
              "      <td>What all did you get for Christmas?</td>\n",
              "    </tr>\n",
              "  </tbody>\n",
              "</table>\n",
              "<p>856 rows × 2 columns</p>\n",
              "</div>\n",
              "      <button class=\"colab-df-convert\" onclick=\"convertToInteractive('df-c7b494bb-888b-4489-a05a-7e808bc4557b')\"\n",
              "              title=\"Convert this dataframe to an interactive table.\"\n",
              "              style=\"display:none;\">\n",
              "        \n",
              "  <svg xmlns=\"http://www.w3.org/2000/svg\" height=\"24px\"viewBox=\"0 0 24 24\"\n",
              "       width=\"24px\">\n",
              "    <path d=\"M0 0h24v24H0V0z\" fill=\"none\"/>\n",
              "    <path d=\"M18.56 5.44l.94 2.06.94-2.06 2.06-.94-2.06-.94-.94-2.06-.94 2.06-2.06.94zm-11 1L8.5 8.5l.94-2.06 2.06-.94-2.06-.94L8.5 2.5l-.94 2.06-2.06.94zm10 10l.94 2.06.94-2.06 2.06-.94-2.06-.94-.94-2.06-.94 2.06-2.06.94z\"/><path d=\"M17.41 7.96l-1.37-1.37c-.4-.4-.92-.59-1.43-.59-.52 0-1.04.2-1.43.59L10.3 9.45l-7.72 7.72c-.78.78-.78 2.05 0 2.83L4 21.41c.39.39.9.59 1.41.59.51 0 1.02-.2 1.41-.59l7.78-7.78 2.81-2.81c.8-.78.8-2.07 0-2.86zM5.41 20L4 18.59l7.72-7.72 1.47 1.35L5.41 20z\"/>\n",
              "  </svg>\n",
              "      </button>\n",
              "      \n",
              "  <style>\n",
              "    .colab-df-container {\n",
              "      display:flex;\n",
              "      flex-wrap:wrap;\n",
              "      gap: 12px;\n",
              "    }\n",
              "\n",
              "    .colab-df-convert {\n",
              "      background-color: #E8F0FE;\n",
              "      border: none;\n",
              "      border-radius: 50%;\n",
              "      cursor: pointer;\n",
              "      display: none;\n",
              "      fill: #1967D2;\n",
              "      height: 32px;\n",
              "      padding: 0 0 0 0;\n",
              "      width: 32px;\n",
              "    }\n",
              "\n",
              "    .colab-df-convert:hover {\n",
              "      background-color: #E2EBFA;\n",
              "      box-shadow: 0px 1px 2px rgba(60, 64, 67, 0.3), 0px 1px 3px 1px rgba(60, 64, 67, 0.15);\n",
              "      fill: #174EA6;\n",
              "    }\n",
              "\n",
              "    [theme=dark] .colab-df-convert {\n",
              "      background-color: #3B4455;\n",
              "      fill: #D2E3FC;\n",
              "    }\n",
              "\n",
              "    [theme=dark] .colab-df-convert:hover {\n",
              "      background-color: #434B5C;\n",
              "      box-shadow: 0px 1px 3px 1px rgba(0, 0, 0, 0.15);\n",
              "      filter: drop-shadow(0px 1px 2px rgba(0, 0, 0, 0.3));\n",
              "      fill: #FFFFFF;\n",
              "    }\n",
              "  </style>\n",
              "\n",
              "      <script>\n",
              "        const buttonEl =\n",
              "          document.querySelector('#df-c7b494bb-888b-4489-a05a-7e808bc4557b button.colab-df-convert');\n",
              "        buttonEl.style.display =\n",
              "          google.colab.kernel.accessAllowed ? 'block' : 'none';\n",
              "\n",
              "        async function convertToInteractive(key) {\n",
              "          const element = document.querySelector('#df-c7b494bb-888b-4489-a05a-7e808bc4557b');\n",
              "          const dataTable =\n",
              "            await google.colab.kernel.invokeFunction('convertToInteractive',\n",
              "                                                     [key], {});\n",
              "          if (!dataTable) return;\n",
              "\n",
              "          const docLinkHtml = 'Like what you see? Visit the ' +\n",
              "            '<a target=\"_blank\" href=https://colab.research.google.com/notebooks/data_table.ipynb>data table notebook</a>'\n",
              "            + ' to learn more about interactive tables.';\n",
              "          element.innerHTML = '';\n",
              "          dataTable['output_type'] = 'display_data';\n",
              "          await google.colab.output.renderOutput(dataTable, element);\n",
              "          const docLink = document.createElement('div');\n",
              "          docLink.innerHTML = docLinkHtml;\n",
              "          element.appendChild(docLink);\n",
              "        }\n",
              "      </script>\n",
              "    </div>\n",
              "  </div>\n",
              "  "
            ]
          },
          "metadata": {},
          "execution_count": 6
        }
      ]
    },
    {
      "cell_type": "code",
      "source": [
        "new_train_set['label'].value_counts()"
      ],
      "metadata": {
        "colab": {
          "base_uri": "https://localhost:8080/"
        },
        "id": "UagXyByYdipj",
        "outputId": "c822c0a4-20f2-40b8-d2ce-352fc6d2690a"
      },
      "execution_count": null,
      "outputs": [
        {
          "output_type": "execute_result",
          "data": {
            "text/plain": [
              "1    5407\n",
              "0    2288\n",
              "Name: label, dtype: int64"
            ]
          },
          "metadata": {},
          "execution_count": 7
        }
      ]
    },
    {
      "cell_type": "code",
      "source": [
        "new_val_set['label'].value_counts()"
      ],
      "metadata": {
        "colab": {
          "base_uri": "https://localhost:8080/"
        },
        "id": "GDOHNkDod3oB",
        "outputId": "8ddab464-5546-4d89-ce40-5c818b286db3"
      },
      "execution_count": null,
      "outputs": [
        {
          "output_type": "execute_result",
          "data": {
            "text/plain": [
              "1    616\n",
              "0    240\n",
              "Name: label, dtype: int64"
            ]
          },
          "metadata": {},
          "execution_count": 8
        }
      ]
    },
    {
      "cell_type": "code",
      "execution_count": null,
      "metadata": {
        "id": "wOtG4cf0qVAZ",
        "tags": []
      },
      "outputs": [],
      "source": [
        "#all imports\n",
        "import numpy as np\n",
        "import pandas as pd\n",
        "import tensorflow as tf\n",
        "import tensorflow_hub as hub\n",
        "from tensorflow.keras.models import Model\n",
        "import re\n",
        "import matplotlib.pyplot as plt\n",
        "from sklearn.model_selection import train_test_split"
      ]
    },
    {
      "cell_type": "code",
      "execution_count": null,
      "metadata": {
        "execution": {
          "iopub.execute_input": "2022-03-10T06:16:23.117769Z",
          "iopub.status.busy": "2022-03-10T06:16:23.117480Z",
          "iopub.status.idle": "2022-03-10T06:16:25.061260Z",
          "shell.execute_reply": "2022-03-10T06:16:25.060552Z",
          "shell.execute_reply.started": "2022-03-10T06:16:23.117734Z"
        },
        "id": "OcmiHdAJqVAi",
        "colab": {
          "base_uri": "https://localhost:8080/",
          "height": 37
        },
        "outputId": "488cac3e-6ad5-414d-ac25-80bdb2f8ef62"
      },
      "outputs": [
        {
          "output_type": "execute_result",
          "data": {
            "text/plain": [
              "''"
            ],
            "application/vnd.google.colaboratory.intrinsic+json": {
              "type": "string"
            }
          },
          "metadata": {},
          "execution_count": 10
        }
      ],
      "source": [
        "tf.test.gpu_device_name()"
      ]
    },
    {
      "cell_type": "markdown",
      "metadata": {
        "id": "ZTWRqbrBqVAu"
      },
      "source": [
        "<pre><font size=6>Part-1: Preprocessing</font></pre>"
      ]
    },
    {
      "cell_type": "code",
      "execution_count": null,
      "metadata": {
        "tags": [],
        "colab": {
          "base_uri": "https://localhost:8080/"
        },
        "id": "JlvmxWfzdxV7",
        "outputId": "e5ee47df-a0af-4a97-c4ed-6c547cf377de"
      },
      "outputs": [
        {
          "output_type": "execute_result",
          "data": {
            "text/plain": [
              "50"
            ]
          },
          "metadata": {},
          "execution_count": 11
        }
      ],
      "source": [
        "import gc\n",
        "gc.collect()"
      ]
    },
    {
      "cell_type": "code",
      "source": [
        "train_set.head()"
      ],
      "metadata": {
        "colab": {
          "base_uri": "https://localhost:8080/",
          "height": 206
        },
        "id": "Y80j2p8-h3Uy",
        "outputId": "8f4c63ef-302e-4888-9372-4f215d1a888a"
      },
      "execution_count": null,
      "outputs": [
        {
          "output_type": "execute_result",
          "data": {
            "text/plain": [
              "   label                                           sentence\n",
              "0      1  Our friends won't buy this analysis, let alone...\n",
              "1      1  One more pseudo generalization and I'm giving up.\n",
              "2      1   One more pseudo generalization or I'm giving up.\n",
              "3      1     The more we study verbs, the crazier they get.\n",
              "4      1          Day by day the facts are getting murkier."
            ],
            "text/html": [
              "\n",
              "  <div id=\"df-fc6058e0-0a67-44ab-ba77-10cba5a83403\">\n",
              "    <div class=\"colab-df-container\">\n",
              "      <div>\n",
              "<style scoped>\n",
              "    .dataframe tbody tr th:only-of-type {\n",
              "        vertical-align: middle;\n",
              "    }\n",
              "\n",
              "    .dataframe tbody tr th {\n",
              "        vertical-align: top;\n",
              "    }\n",
              "\n",
              "    .dataframe thead th {\n",
              "        text-align: right;\n",
              "    }\n",
              "</style>\n",
              "<table border=\"1\" class=\"dataframe\">\n",
              "  <thead>\n",
              "    <tr style=\"text-align: right;\">\n",
              "      <th></th>\n",
              "      <th>label</th>\n",
              "      <th>sentence</th>\n",
              "    </tr>\n",
              "  </thead>\n",
              "  <tbody>\n",
              "    <tr>\n",
              "      <th>0</th>\n",
              "      <td>1</td>\n",
              "      <td>Our friends won't buy this analysis, let alone...</td>\n",
              "    </tr>\n",
              "    <tr>\n",
              "      <th>1</th>\n",
              "      <td>1</td>\n",
              "      <td>One more pseudo generalization and I'm giving up.</td>\n",
              "    </tr>\n",
              "    <tr>\n",
              "      <th>2</th>\n",
              "      <td>1</td>\n",
              "      <td>One more pseudo generalization or I'm giving up.</td>\n",
              "    </tr>\n",
              "    <tr>\n",
              "      <th>3</th>\n",
              "      <td>1</td>\n",
              "      <td>The more we study verbs, the crazier they get.</td>\n",
              "    </tr>\n",
              "    <tr>\n",
              "      <th>4</th>\n",
              "      <td>1</td>\n",
              "      <td>Day by day the facts are getting murkier.</td>\n",
              "    </tr>\n",
              "  </tbody>\n",
              "</table>\n",
              "</div>\n",
              "      <button class=\"colab-df-convert\" onclick=\"convertToInteractive('df-fc6058e0-0a67-44ab-ba77-10cba5a83403')\"\n",
              "              title=\"Convert this dataframe to an interactive table.\"\n",
              "              style=\"display:none;\">\n",
              "        \n",
              "  <svg xmlns=\"http://www.w3.org/2000/svg\" height=\"24px\"viewBox=\"0 0 24 24\"\n",
              "       width=\"24px\">\n",
              "    <path d=\"M0 0h24v24H0V0z\" fill=\"none\"/>\n",
              "    <path d=\"M18.56 5.44l.94 2.06.94-2.06 2.06-.94-2.06-.94-.94-2.06-.94 2.06-2.06.94zm-11 1L8.5 8.5l.94-2.06 2.06-.94-2.06-.94L8.5 2.5l-.94 2.06-2.06.94zm10 10l.94 2.06.94-2.06 2.06-.94-2.06-.94-.94-2.06-.94 2.06-2.06.94z\"/><path d=\"M17.41 7.96l-1.37-1.37c-.4-.4-.92-.59-1.43-.59-.52 0-1.04.2-1.43.59L10.3 9.45l-7.72 7.72c-.78.78-.78 2.05 0 2.83L4 21.41c.39.39.9.59 1.41.59.51 0 1.02-.2 1.41-.59l7.78-7.78 2.81-2.81c.8-.78.8-2.07 0-2.86zM5.41 20L4 18.59l7.72-7.72 1.47 1.35L5.41 20z\"/>\n",
              "  </svg>\n",
              "      </button>\n",
              "      \n",
              "  <style>\n",
              "    .colab-df-container {\n",
              "      display:flex;\n",
              "      flex-wrap:wrap;\n",
              "      gap: 12px;\n",
              "    }\n",
              "\n",
              "    .colab-df-convert {\n",
              "      background-color: #E8F0FE;\n",
              "      border: none;\n",
              "      border-radius: 50%;\n",
              "      cursor: pointer;\n",
              "      display: none;\n",
              "      fill: #1967D2;\n",
              "      height: 32px;\n",
              "      padding: 0 0 0 0;\n",
              "      width: 32px;\n",
              "    }\n",
              "\n",
              "    .colab-df-convert:hover {\n",
              "      background-color: #E2EBFA;\n",
              "      box-shadow: 0px 1px 2px rgba(60, 64, 67, 0.3), 0px 1px 3px 1px rgba(60, 64, 67, 0.15);\n",
              "      fill: #174EA6;\n",
              "    }\n",
              "\n",
              "    [theme=dark] .colab-df-convert {\n",
              "      background-color: #3B4455;\n",
              "      fill: #D2E3FC;\n",
              "    }\n",
              "\n",
              "    [theme=dark] .colab-df-convert:hover {\n",
              "      background-color: #434B5C;\n",
              "      box-shadow: 0px 1px 3px 1px rgba(0, 0, 0, 0.15);\n",
              "      filter: drop-shadow(0px 1px 2px rgba(0, 0, 0, 0.3));\n",
              "      fill: #FFFFFF;\n",
              "    }\n",
              "  </style>\n",
              "\n",
              "      <script>\n",
              "        const buttonEl =\n",
              "          document.querySelector('#df-fc6058e0-0a67-44ab-ba77-10cba5a83403 button.colab-df-convert');\n",
              "        buttonEl.style.display =\n",
              "          google.colab.kernel.accessAllowed ? 'block' : 'none';\n",
              "\n",
              "        async function convertToInteractive(key) {\n",
              "          const element = document.querySelector('#df-fc6058e0-0a67-44ab-ba77-10cba5a83403');\n",
              "          const dataTable =\n",
              "            await google.colab.kernel.invokeFunction('convertToInteractive',\n",
              "                                                     [key], {});\n",
              "          if (!dataTable) return;\n",
              "\n",
              "          const docLinkHtml = 'Like what you see? Visit the ' +\n",
              "            '<a target=\"_blank\" href=https://colab.research.google.com/notebooks/data_table.ipynb>data table notebook</a>'\n",
              "            + ' to learn more about interactive tables.';\n",
              "          element.innerHTML = '';\n",
              "          dataTable['output_type'] = 'display_data';\n",
              "          await google.colab.output.renderOutput(dataTable, element);\n",
              "          const docLink = document.createElement('div');\n",
              "          docLink.innerHTML = docLinkHtml;\n",
              "          element.appendChild(docLink);\n",
              "        }\n",
              "      </script>\n",
              "    </div>\n",
              "  </div>\n",
              "  "
            ]
          },
          "metadata": {},
          "execution_count": 12
        }
      ]
    },
    {
      "cell_type": "code",
      "execution_count": null,
      "metadata": {
        "id": "xYZ-UB9UqVA-",
        "tags": [],
        "colab": {
          "base_uri": "https://localhost:8080/"
        },
        "outputId": "9c965462-0083-40e1-def4-04986ad0ac8e"
      },
      "outputs": [
        {
          "output_type": "stream",
          "name": "stdout",
          "text": [
            "0 th percentile = 2.0\n",
            "9 th percentile = 4.0\n",
            "18 th percentile = 5.0\n",
            "27 th percentile = 5.0\n",
            "36 th percentile = 6.0\n",
            "45 th percentile = 7.0\n",
            "54 th percentile = 7.0\n",
            "63 th percentile = 8.0\n",
            "72 th percentile = 9.0\n",
            "81 th percentile = 10.0\n",
            "90 th percentile = 12.0\n",
            "99 th percentile = 20.0\n"
          ]
        }
      ],
      "source": [
        "def get_wordlen(x):\n",
        "    return len(x.split())\n",
        "train_set['len'] = train_set.sentence.apply(get_wordlen)\n",
        "for i in range(0,100,9):\n",
        "  print(i,'th percentile =',train_set.len.quantile(i/100))"
      ]
    },
    {
      "cell_type": "code",
      "source": [
        "train_set.len.quantile(1)"
      ],
      "metadata": {
        "colab": {
          "base_uri": "https://localhost:8080/"
        },
        "id": "0-KxkGcRkIDs",
        "outputId": "94f7ec97-d9a5-4760-8d82-1b92b4d474a5"
      },
      "execution_count": null,
      "outputs": [
        {
          "output_type": "execute_result",
          "data": {
            "text/plain": [
              "42.0"
            ]
          },
          "metadata": {},
          "execution_count": 14
        }
      ]
    },
    {
      "cell_type": "code",
      "source": [
        "max_len = 21\n",
        "train_set = train_set[train_set.len<max_len]\n",
        "# sampling 100000 samples randomly\n",
        "#train_set = train_set.sample(n=100000, random_state=30)"
      ],
      "metadata": {
        "id": "WauV8yPyiyJh"
      },
      "execution_count": null,
      "outputs": []
    },
    {
      "cell_type": "code",
      "execution_count": null,
      "metadata": {
        "id": "NsYDd3okqVBF",
        "tags": []
      },
      "outputs": [],
      "source": [
        "#split the data into train and test data(20%) with Stratify sampling, random state 33, \n",
        "from sklearn.model_selection import train_test_split\n",
        "X_train, X_test, y_train, y_test = train_test_split(train_set['sentence'], train_set['label'], \n",
        "                                                    random_state=33, test_size=0.2, \n",
        "                                                    stratify=train_set['label'])"
      ]
    },
    {
      "cell_type": "code",
      "execution_count": null,
      "metadata": {
        "tags": [],
        "colab": {
          "base_uri": "https://localhost:8080/"
        },
        "id": "eS80BoYZdxWN",
        "outputId": "9b22c3d8-40ba-4717-9e29-326a91880e9d"
      },
      "outputs": [
        {
          "output_type": "execute_result",
          "data": {
            "text/plain": [
              "(6785,)"
            ]
          },
          "metadata": {},
          "execution_count": 17
        }
      ],
      "source": [
        "y_train.shape"
      ]
    },
    {
      "cell_type": "code",
      "execution_count": null,
      "metadata": {
        "tags": [],
        "colab": {
          "base_uri": "https://localhost:8080/"
        },
        "id": "tNur76rqdxWO",
        "outputId": "155d58c0-2ebf-4a92-9e73-ca0b7dbe3bd6"
      },
      "outputs": [
        {
          "output_type": "execute_result",
          "data": {
            "text/plain": [
              "2002"
            ]
          },
          "metadata": {},
          "execution_count": 18
        }
      ],
      "source": [
        "len(y_train[y_train==0])"
      ]
    },
    {
      "cell_type": "code",
      "execution_count": null,
      "metadata": {
        "id": "-Q6OAcrOqVBI",
        "tags": [],
        "colab": {
          "base_uri": "https://localhost:8080/",
          "height": 268
        },
        "outputId": "3b091f59-e985-46c9-8c93-df33ba54c54a"
      },
      "outputs": [
        {
          "output_type": "display_data",
          "data": {
            "text/plain": [
              "<Figure size 432x288 with 1 Axes>"
            ],
            "image/png": "[encoded data removed]"
          },
          "metadata": {
            "needs_background": "light"
          }
        }
      ],
      "source": [
        "#plot bar graphs of y_train and y_test\n",
        "import matplotlib.pyplot as plt\n",
        "\n",
        "# https://pythonguides.com/matplotlib-multiple-bar-chart/\n",
        "# Define Data\n",
        "score_0 = [len(y_train[y_train==0]), len(y_test[y_test==0])]\n",
        "score_1 = [len(y_train[y_train==1]), len(y_test[y_test==1])]\n",
        "x_axis = np.arange(len(score_0))\n",
        "\n",
        "# Multi bar Chart\n",
        "plt.bar(x_axis -0.2, score_0, width=0.4, label = 'Score_0')\n",
        "plt.bar(x_axis +0.2, score_1, width=0.4, label = 'Score_1')\n",
        "# shifting the x-axis coordinate with -0.2 and 0.2 would create\n",
        "# a width of 0.4, thus width=0.4 to have perfect separation\n",
        "# between the two bars\n",
        "\n",
        "# Xticks\n",
        "plt.xticks(x_axis, ['train','test'])\n",
        "\n",
        "# Add legend\n",
        "plt.legend()\n",
        "\n",
        "# Display\n",
        "plt.show()\n",
        "\n",
        "# In the above code, we import libraries\n",
        "# such as numpy and matplotlib.pyplot.\n",
        "# After this, we define data for plotting.\n",
        "# np.arange() method is used to create a range of values.\n",
        "# Then plt.bar() function is used to plot multiple bar charts.\n",
        "# Then we shift bars -0.2 and 0.2 units from the x-axis to avoid overlapping.\n",
        "# Then we set the width of the bars to 0.4."
      ]
    },
    {
      "cell_type": "code",
      "execution_count": null,
      "metadata": {
        "tags": [],
        "colab": {
          "base_uri": "https://localhost:8080/",
          "height": 37
        },
        "id": "YHDsuJDKdxWP",
        "outputId": "1353629d-d64d-428f-8632-0d22226e4d9d"
      },
      "outputs": [
        {
          "output_type": "execute_result",
          "data": {
            "text/plain": [
              "'Who did you introduce Athena to?'"
            ],
            "application/vnd.google.colaboratory.intrinsic+json": {
              "type": "string"
            }
          },
          "metadata": {},
          "execution_count": 20
        }
      ],
      "source": [
        "X_train.values[716]"
      ]
    },
    {
      "cell_type": "code",
      "execution_count": null,
      "metadata": {
        "execution": {
          "iopub.execute_input": "2022-03-10T06:16:32.779479Z",
          "iopub.status.busy": "2022-03-10T06:16:32.777564Z",
          "iopub.status.idle": "2022-03-10T06:16:33.759211Z",
          "shell.execute_reply": "2022-03-10T06:16:33.758467Z",
          "shell.execute_reply.started": "2022-03-10T06:16:32.779413Z"
        },
        "id": "Up-z5boWqVBK"
      },
      "outputs": [],
      "source": [
        "#saving to disk. if we need, we can load preprocessed data directly. \n",
        "train_set.to_csv('preprocessed.csv', index=False)"
      ]
    },
    {
      "cell_type": "markdown",
      "metadata": {
        "id": "bBtqNGN9qVBM"
      },
      "source": [
        "<pre><font size=6>Part-2: Creating BERT Model</font> \n"
      ]
    },
    {
      "cell_type": "code",
      "source": [
        "!pip install sentence_transformers"
      ],
      "metadata": {
        "colab": {
          "base_uri": "https://localhost:8080/"
        },
        "id": "g3DWaYWeuj1I",
        "outputId": "cfb9c594-8026-41ff-c561-2020392a7ac2"
      },
      "execution_count": null,
      "outputs": [
        {
          "output_type": "stream",
          "name": "stdout",
          "text": [
            "Requirement already satisfied: sentence_transformers in /usr/local/lib/python3.7/dist-packages (2.2.0)\n",
            "Requirement already satisfied: tqdm in /usr/local/lib/python3.7/dist-packages (from sentence_transformers) (4.64.0)\n",
            "Requirement already satisfied: transformers<5.0.0,>=4.6.0 in /usr/local/lib/python3.7/dist-packages (from sentence_transformers) (4.19.1)\n",
            "Requirement already satisfied: huggingface-hub in /usr/local/lib/python3.7/dist-packages (from sentence_transformers) (0.6.0)\n",
            "Requirement already satisfied: numpy in /usr/local/lib/python3.7/dist-packages (from sentence_transformers) (1.21.6)\n",
            "Requirement already satisfied: scikit-learn in /usr/local/lib/python3.7/dist-packages (from sentence_transformers) (1.0.2)\n",
            "Requirement already satisfied: torchvision in /usr/local/lib/python3.7/dist-packages (from sentence_transformers) (0.12.0+cu113)\n",
            "Requirement already satisfied: sentencepiece in /usr/local/lib/python3.7/dist-packages (from sentence_transformers) (0.1.96)\n",
            "Requirement already satisfied: torch>=1.6.0 in /usr/local/lib/python3.7/dist-packages (from sentence_transformers) (1.11.0+cu113)\n",
            "Requirement already satisfied: nltk in /usr/local/lib/python3.7/dist-packages (from sentence_transformers) (3.2.5)\n",
            "Requirement already satisfied: scipy in /usr/local/lib/python3.7/dist-packages (from sentence_transformers) (1.4.1)\n",
            "Requirement already satisfied: typing-extensions in /usr/local/lib/python3.7/dist-packages (from torch>=1.6.0->sentence_transformers) (4.2.0)\n",
            "Requirement already satisfied: filelock in /usr/local/lib/python3.7/dist-packages (from transformers<5.0.0,>=4.6.0->sentence_transformers) (3.6.0)\n",
            "Requirement already satisfied: packaging>=20.0 in /usr/local/lib/python3.7/dist-packages (from transformers<5.0.0,>=4.6.0->sentence_transformers) (21.3)\n",
            "Requirement already satisfied: regex!=2019.12.17 in /usr/local/lib/python3.7/dist-packages (from transformers<5.0.0,>=4.6.0->sentence_transformers) (2019.12.20)\n",
            "Requirement already satisfied: requests in /usr/local/lib/python3.7/dist-packages (from transformers<5.0.0,>=4.6.0->sentence_transformers) (2.23.0)\n",
            "Requirement already satisfied: importlib-metadata in /usr/local/lib/python3.7/dist-packages (from transformers<5.0.0,>=4.6.0->sentence_transformers) (4.11.3)\n",
            "Requirement already satisfied: pyyaml>=5.1 in /usr/local/lib/python3.7/dist-packages (from transformers<5.0.0,>=4.6.0->sentence_transformers) (6.0)\n",
            "Requirement already satisfied: tokenizers!=0.11.3,<0.13,>=0.11.1 in /usr/local/lib/python3.7/dist-packages (from transformers<5.0.0,>=4.6.0->sentence_transformers) (0.12.1)\n",
            "Requirement already satisfied: pyparsing!=3.0.5,>=2.0.2 in /usr/local/lib/python3.7/dist-packages (from packaging>=20.0->transformers<5.0.0,>=4.6.0->sentence_transformers) (3.0.8)\n",
            "Requirement already satisfied: zipp>=0.5 in /usr/local/lib/python3.7/dist-packages (from importlib-metadata->transformers<5.0.0,>=4.6.0->sentence_transformers) (3.8.0)\n",
            "Requirement already satisfied: six in /usr/local/lib/python3.7/dist-packages (from nltk->sentence_transformers) (1.15.0)\n",
            "Requirement already satisfied: idna<3,>=2.5 in /usr/local/lib/python3.7/dist-packages (from requests->transformers<5.0.0,>=4.6.0->sentence_transformers) (2.10)\n",
            "Requirement already satisfied: urllib3!=1.25.0,!=1.25.1,<1.26,>=1.21.1 in /usr/local/lib/python3.7/dist-packages (from requests->transformers<5.0.0,>=4.6.0->sentence_transformers) (1.24.3)\n",
            "Requirement already satisfied: chardet<4,>=3.0.2 in /usr/local/lib/python3.7/dist-packages (from requests->transformers<5.0.0,>=4.6.0->sentence_transformers) (3.0.4)\n",
            "Requirement already satisfied: certifi>=2017.4.17 in /usr/local/lib/python3.7/dist-packages (from requests->transformers<5.0.0,>=4.6.0->sentence_transformers) (2021.10.8)\n",
            "Requirement already satisfied: threadpoolctl>=2.0.0 in /usr/local/lib/python3.7/dist-packages (from scikit-learn->sentence_transformers) (3.1.0)\n",
            "Requirement already satisfied: joblib>=0.11 in /usr/local/lib/python3.7/dist-packages (from scikit-learn->sentence_transformers) (1.1.0)\n",
            "Requirement already satisfied: pillow!=8.3.*,>=5.3.0 in /usr/local/lib/python3.7/dist-packages (from torchvision->sentence_transformers) (7.1.2)\n"
          ]
        }
      ]
    },
    {
      "cell_type": "code",
      "source": [
        "X_train[:10]"
      ],
      "metadata": {
        "colab": {
          "base_uri": "https://localhost:8080/"
        },
        "id": "tQ3gGDUmvTRc",
        "outputId": "fb51e88c-bf01-4e33-8d6e-848f89989ba5"
      },
      "execution_count": null,
      "outputs": [
        {
          "output_type": "execute_result",
          "data": {
            "text/plain": [
              "6997    I consider that a rude remark and in very bad ...\n",
              "8385                              I looked the number up.\n",
              "8021                        Moya said she liked football.\n",
              "1651      Here's a knife for you to say was on the table.\n",
              "4678              This should be attended to immediately.\n",
              "506                         I would like for John to win.\n",
              "6331    Heidi said that pictures of herself were embar...\n",
              "4228    The effectiveness of teaching and learning dep...\n",
              "4492              Speaking not English is a disadvantage.\n",
              "1233                            Max gave the car a shove.\n",
              "Name: sentence, dtype: object"
            ]
          },
          "metadata": {},
          "execution_count": 27
        }
      ]
    },
    {
      "cell_type": "code",
      "source": [
        "from sentence_transformers import SentenceTransformer\n",
        "\n",
        "model = SentenceTransformer('bert-base-nli-mean-tokens')\n",
        "\n"
      ],
      "metadata": {
        "id": "HHsKtWeWtx9S"
      },
      "execution_count": null,
      "outputs": []
    },
    {
      "cell_type": "code",
      "source": [
        "sentence_embeddings = []\n",
        "for i in X_train:\n",
        "  try:\n",
        "\n",
        "    sentence_embeddings.append(model.encode([i]))\n",
        "  except:\n",
        "    print(i)\n",
        "\n",
        "\n",
        "sentence_embeddings = np.array(sentence_embeddings).squeeze()\n",
        "print(sentence_embeddings.shape)\n",
        "X_train_embeddings = sentence_embeddings"
      ],
      "metadata": {
        "colab": {
          "base_uri": "https://localhost:8080/"
        },
        "id": "h1wU7vT_xZeO",
        "outputId": "db600917-c5d2-4dd4-9588-70d974c04433"
      },
      "execution_count": null,
      "outputs": [
        {
          "output_type": "stream",
          "name": "stdout",
          "text": [
            "(6785, 768)\n"
          ]
        }
      ]
    },
    {
      "cell_type": "code",
      "source": [
        "\n",
        "sentence_embeddings = []\n",
        "for i in X_test:\n",
        "  try:\n",
        "\n",
        "    sentence_embeddings.append(model.encode([i]))\n",
        "  except:\n",
        "    print(i)\n",
        "\n",
        "\n",
        "sentence_embeddings = np.array(sentence_embeddings).squeeze()\n",
        "print(sentence_embeddings.shape)\n",
        "X_test_embeddings = sentence_embeddings"
      ],
      "metadata": {
        "colab": {
          "base_uri": "https://localhost:8080/"
        },
        "id": "rNPVtIlj2Dii",
        "outputId": "bf6cf16b-b691-4ab0-b699-07dd3fa159a1"
      },
      "execution_count": null,
      "outputs": [
        {
          "output_type": "stream",
          "name": "stdout",
          "text": [
            "(1697, 768)\n"
          ]
        }
      ]
    },
    {
      "cell_type": "code",
      "source": [
        ""
      ],
      "metadata": {
        "id": "JDNynnCM2bIb"
      },
      "execution_count": null,
      "outputs": []
    },
    {
      "cell_type": "markdown",
      "metadata": {
        "id": "oYwS1QbAqVCD"
      },
      "source": [
        "<pre><font size=6>Part-3: Training a NN with 768 features</font>\n"
      ]
    },
    {
      "cell_type": "code",
      "execution_count": null,
      "metadata": {
        "id": "od8PQlYRqVCE",
        "tags": []
      },
      "outputs": [],
      "source": [
        "##imports\n",
        "from tensorflow.keras.layers import Input, Dense, Activation, Dropout, LSTM, BatchNormalization\n",
        "from tensorflow.keras.models import Model"
      ]
    },
    {
      "cell_type": "code",
      "execution_count": null,
      "metadata": {
        "tags": [],
        "id": "7mFFM_NedxWg"
      },
      "outputs": [],
      "source": [
        "from sklearn.metrics import roc_auc_score \n",
        " \n",
        "def auc1(y_true, y_pred): \n",
        "    try:\n",
        "        return roc_auc_score(y_true, y_pred)\n",
        "    except:\n",
        "        return 0.5 # this has been done to prevent only one class presence in y_true in any batch\n",
        "def auroc(y_true, y_pred): \n",
        "    return  tf.py_function(auc1, (y_true, y_pred), tf.double) #tf.function(auc1)(y_true, y_pred)"
      ]
    },
    {
      "cell_type": "code",
      "execution_count": null,
      "metadata": {
        "tags": [],
        "id": "ewvfG31GdxWg"
      },
      "outputs": [],
      "source": [
        "tf.keras.backend.clear_session() "
      ]
    },
    {
      "cell_type": "code",
      "execution_count": null,
      "metadata": {
        "tags": [],
        "id": "Uqc92ccidxWh"
      },
      "outputs": [],
      "source": [
        "input_layer=Input(shape=(X_train_embeddings.shape[1],))\n",
        "Dense_1 = Dense(256)(input_layer)\n",
        "dropout_1 = Dropout(0.2)(Dense_1)\n",
        "Dense_2 = Dense(128)(dropout_1)\n",
        "dropout_2 = Dropout(0.2)(Dense_2)\n",
        "Dense_3 = Dense(64)(dropout_2)\n",
        "Batch_norm = BatchNormalization()(Dense_3)\n",
        "output_layer = Dense(1, activation='sigmoid')(Batch_norm)\n",
        "model_1 = Model(inputs = input_layer, outputs=output_layer)\n"
      ]
    },
    {
      "cell_type": "code",
      "execution_count": null,
      "metadata": {
        "tags": [],
        "id": "Qfz1pJZndxWh"
      },
      "outputs": [],
      "source": [
        "import datetime,os\n",
        "log_dir = os.path.join(\"logs\",'fits', datetime.datetime.now().strftime(\"%Y%m%d-%H%M%S\")) \n",
        "tensorboard_callback = tf.keras.callbacks.TensorBoard(log_dir=log_dir,histogram_freq=1,write_graph=True) "
      ]
    },
    {
      "cell_type": "code",
      "execution_count": null,
      "metadata": {
        "tags": [],
        "id": "2E7wZYTHdxWh"
      },
      "outputs": [],
      "source": [
        "from tensorflow.keras.callbacks import ModelCheckpoint \n",
        "filepath=\"model_save/weights_m2-{epoch:02d}-{val_accuracy:.4f}.hdf5\" \n",
        "checkpoint = ModelCheckpoint(filepath=filepath, monitor='val_loss', save_best_only=False, mode='auto') "
      ]
    },
    {
      "cell_type": "code",
      "execution_count": null,
      "metadata": {
        "tags": [],
        "id": "ycgrPCi1dxWh"
      },
      "outputs": [],
      "source": [
        "from tensorflow.keras.callbacks import EarlyStopping \n",
        "# this is to stop the training if val_accuracy doesn't improves more than  \n",
        "# 0.0001 in two epochs \n",
        "earlystop = EarlyStopping(monitor='val_accuracy', min_delta=0.0001, patience=4, mode='max') "
      ]
    },
    {
      "cell_type": "code",
      "execution_count": null,
      "metadata": {
        "tags": [],
        "colab": {
          "base_uri": "https://localhost:8080/"
        },
        "id": "PHY3RNj2dxWi",
        "outputId": "29e5eec2-de39-46df-96e2-588d0166f616"
      },
      "outputs": [
        {
          "output_type": "stream",
          "name": "stdout",
          "text": [
            "Model: \"model\"\n",
            "_________________________________________________________________\n",
            " Layer (type)                Output Shape              Param #   \n",
            "=================================================================\n",
            " input_1 (InputLayer)        [(None, 768)]             0         \n",
            "                                                                 \n",
            " dense (Dense)               (None, 256)               196864    \n",
            "                                                                 \n",
            " dropout (Dropout)           (None, 256)               0         \n",
            "                                                                 \n",
            " dense_1 (Dense)             (None, 128)               32896     \n",
            "                                                                 \n",
            " dropout_1 (Dropout)         (None, 128)               0         \n",
            "                                                                 \n",
            " dense_2 (Dense)             (None, 64)                8256      \n",
            "                                                                 \n",
            " batch_normalization (BatchN  (None, 64)               256       \n",
            " ormalization)                                                   \n",
            "                                                                 \n",
            " dense_3 (Dense)             (None, 1)                 65        \n",
            "                                                                 \n",
            "=================================================================\n",
            "Total params: 238,337\n",
            "Trainable params: 238,209\n",
            "Non-trainable params: 128\n",
            "_________________________________________________________________\n"
          ]
        }
      ],
      "source": [
        "model_1.summary()"
      ]
    },
    {
      "cell_type": "code",
      "execution_count": null,
      "metadata": {
        "tags": [],
        "id": "-s08HZQUdxWi"
      },
      "outputs": [],
      "source": [
        "model_1.compile(optimizer = tf.keras.optimizers.Adam(learning_rate=0.001), \n",
        "                loss='binary_crossentropy', metrics=['accuracy',auroc])"
      ]
    },
    {
      "cell_type": "code",
      "execution_count": null,
      "metadata": {
        "tags": [],
        "colab": {
          "base_uri": "https://localhost:8080/"
        },
        "id": "UPw3CQA2dxWi",
        "outputId": "d2ec8332-d345-4437-c69d-362fa2b32549"
      },
      "outputs": [
        {
          "output_type": "execute_result",
          "data": {
            "text/plain": [
              "numpy.ndarray"
            ]
          },
          "metadata": {},
          "execution_count": 49
        }
      ],
      "source": [
        "type(X_train_embeddings)"
      ]
    },
    {
      "cell_type": "code",
      "execution_count": null,
      "metadata": {
        "tags": [],
        "colab": {
          "base_uri": "https://localhost:8080/"
        },
        "id": "OitHSWACdxWi",
        "outputId": "f9e4ebf9-16f5-4ef7-9535-24715d5943f3"
      },
      "outputs": [
        {
          "output_type": "stream",
          "name": "stdout",
          "text": [
            "Epoch 1/55\n",
            "107/107 [==============================] - 2s 17ms/step - loss: 0.4634 - accuracy: 0.7826 - auroc: 0.8170 - val_loss: 0.5703 - val_accuracy: 0.7236 - val_auroc: 0.7188\n",
            "Epoch 2/55\n",
            "107/107 [==============================] - 1s 9ms/step - loss: 0.4617 - accuracy: 0.7794 - auroc: 0.8229 - val_loss: 0.5628 - val_accuracy: 0.7254 - val_auroc: 0.7189\n",
            "Epoch 3/55\n",
            "107/107 [==============================] - 1s 9ms/step - loss: 0.4608 - accuracy: 0.7813 - auroc: 0.8201 - val_loss: 0.5703 - val_accuracy: 0.7118 - val_auroc: 0.7117\n",
            "Epoch 4/55\n",
            "107/107 [==============================] - 1s 8ms/step - loss: 0.4633 - accuracy: 0.7828 - auroc: 0.8169 - val_loss: 0.5709 - val_accuracy: 0.7289 - val_auroc: 0.7126\n",
            "Epoch 5/55\n",
            "107/107 [==============================] - 1s 8ms/step - loss: 0.4630 - accuracy: 0.7788 - auroc: 0.8206 - val_loss: 0.5759 - val_accuracy: 0.7219 - val_auroc: 0.7158\n",
            "Epoch 6/55\n",
            "107/107 [==============================] - 1s 8ms/step - loss: 0.4607 - accuracy: 0.7814 - auroc: 0.8194 - val_loss: 0.5779 - val_accuracy: 0.7154 - val_auroc: 0.7108\n",
            "Epoch 7/55\n",
            "107/107 [==============================] - 1s 8ms/step - loss: 0.4602 - accuracy: 0.7813 - auroc: 0.8200 - val_loss: 0.5790 - val_accuracy: 0.7236 - val_auroc: 0.7117\n",
            "Epoch 8/55\n",
            "107/107 [==============================] - 1s 8ms/step - loss: 0.4601 - accuracy: 0.7826 - auroc: 0.8220 - val_loss: 0.5646 - val_accuracy: 0.7171 - val_auroc: 0.7210\n",
            "Epoch 9/55\n",
            "107/107 [==============================] - 1s 9ms/step - loss: 0.4610 - accuracy: 0.7775 - auroc: 0.8208 - val_loss: 0.5739 - val_accuracy: 0.7201 - val_auroc: 0.7159\n",
            "Epoch 10/55\n",
            "107/107 [==============================] - 1s 8ms/step - loss: 0.4591 - accuracy: 0.7811 - auroc: 0.8221 - val_loss: 0.5681 - val_accuracy: 0.7260 - val_auroc: 0.7095\n",
            "Epoch 11/55\n",
            "107/107 [==============================] - 1s 8ms/step - loss: 0.4588 - accuracy: 0.7816 - auroc: 0.8197 - val_loss: 0.5720 - val_accuracy: 0.7230 - val_auroc: 0.7133\n",
            "Epoch 12/55\n",
            "107/107 [==============================] - 1s 8ms/step - loss: 0.4611 - accuracy: 0.7801 - auroc: 0.8221 - val_loss: 0.5729 - val_accuracy: 0.7213 - val_auroc: 0.7108\n",
            "Epoch 13/55\n",
            "107/107 [==============================] - 1s 9ms/step - loss: 0.4618 - accuracy: 0.7859 - auroc: 0.8191 - val_loss: 0.5715 - val_accuracy: 0.7236 - val_auroc: 0.7124\n",
            "Epoch 14/55\n",
            "107/107 [==============================] - 1s 8ms/step - loss: 0.4616 - accuracy: 0.7882 - auroc: 0.8202 - val_loss: 0.5759 - val_accuracy: 0.7248 - val_auroc: 0.7146\n",
            "Epoch 15/55\n",
            "107/107 [==============================] - 1s 8ms/step - loss: 0.4637 - accuracy: 0.7783 - auroc: 0.8191 - val_loss: 0.5678 - val_accuracy: 0.7177 - val_auroc: 0.7126\n",
            "Epoch 16/55\n",
            "107/107 [==============================] - 1s 9ms/step - loss: 0.4593 - accuracy: 0.7831 - auroc: 0.8198 - val_loss: 0.5799 - val_accuracy: 0.7130 - val_auroc: 0.7163\n",
            "Epoch 17/55\n",
            "107/107 [==============================] - 1s 9ms/step - loss: 0.4623 - accuracy: 0.7798 - auroc: 0.8214 - val_loss: 0.5835 - val_accuracy: 0.7278 - val_auroc: 0.7078\n",
            "Epoch 18/55\n",
            "107/107 [==============================] - 1s 8ms/step - loss: 0.4578 - accuracy: 0.7850 - auroc: 0.8220 - val_loss: 0.5761 - val_accuracy: 0.7195 - val_auroc: 0.7130\n",
            "Epoch 19/55\n",
            "107/107 [==============================] - 1s 8ms/step - loss: 0.4586 - accuracy: 0.7850 - auroc: 0.8233 - val_loss: 0.5729 - val_accuracy: 0.7254 - val_auroc: 0.7163\n",
            "Epoch 20/55\n",
            "107/107 [==============================] - 1s 8ms/step - loss: 0.4585 - accuracy: 0.7810 - auroc: 0.8227 - val_loss: 0.5682 - val_accuracy: 0.7266 - val_auroc: 0.7147\n",
            "Epoch 21/55\n",
            "107/107 [==============================] - 1s 8ms/step - loss: 0.4624 - accuracy: 0.7776 - auroc: 0.8172 - val_loss: 0.5720 - val_accuracy: 0.7177 - val_auroc: 0.7128\n",
            "Epoch 22/55\n",
            "107/107 [==============================] - 1s 8ms/step - loss: 0.4631 - accuracy: 0.7823 - auroc: 0.8183 - val_loss: 0.5765 - val_accuracy: 0.7171 - val_auroc: 0.7147\n",
            "Epoch 23/55\n",
            "107/107 [==============================] - 1s 9ms/step - loss: 0.4621 - accuracy: 0.7841 - auroc: 0.8188 - val_loss: 0.5652 - val_accuracy: 0.7177 - val_auroc: 0.7162\n",
            "Epoch 24/55\n",
            "107/107 [==============================] - 1s 8ms/step - loss: 0.4585 - accuracy: 0.7839 - auroc: 0.8209 - val_loss: 0.5716 - val_accuracy: 0.7236 - val_auroc: 0.7083\n",
            "Epoch 25/55\n",
            "107/107 [==============================] - 1s 8ms/step - loss: 0.4599 - accuracy: 0.7853 - auroc: 0.8207 - val_loss: 0.5708 - val_accuracy: 0.7124 - val_auroc: 0.7131\n",
            "Epoch 26/55\n",
            "107/107 [==============================] - 1s 9ms/step - loss: 0.4600 - accuracy: 0.7826 - auroc: 0.8198 - val_loss: 0.5662 - val_accuracy: 0.7266 - val_auroc: 0.7200\n",
            "Epoch 27/55\n",
            "107/107 [==============================] - 1s 8ms/step - loss: 0.4602 - accuracy: 0.7848 - auroc: 0.8181 - val_loss: 0.5737 - val_accuracy: 0.7289 - val_auroc: 0.7106\n",
            "Epoch 28/55\n",
            "107/107 [==============================] - 1s 8ms/step - loss: 0.4623 - accuracy: 0.7755 - auroc: 0.8173 - val_loss: 0.5679 - val_accuracy: 0.7301 - val_auroc: 0.7179\n",
            "Epoch 29/55\n",
            "107/107 [==============================] - 1s 8ms/step - loss: 0.4619 - accuracy: 0.7808 - auroc: 0.8168 - val_loss: 0.5725 - val_accuracy: 0.7266 - val_auroc: 0.7161\n",
            "Epoch 30/55\n",
            "107/107 [==============================] - 1s 8ms/step - loss: 0.4574 - accuracy: 0.7860 - auroc: 0.8227 - val_loss: 0.5832 - val_accuracy: 0.7236 - val_auroc: 0.7117\n",
            "Epoch 31/55\n",
            "107/107 [==============================] - 1s 8ms/step - loss: 0.4634 - accuracy: 0.7810 - auroc: 0.8174 - val_loss: 0.5818 - val_accuracy: 0.7201 - val_auroc: 0.7082\n",
            "Epoch 32/55\n",
            "107/107 [==============================] - 1s 8ms/step - loss: 0.4604 - accuracy: 0.7836 - auroc: 0.8177 - val_loss: 0.5641 - val_accuracy: 0.7219 - val_auroc: 0.7163\n",
            "Epoch 33/55\n",
            "107/107 [==============================] - 1s 9ms/step - loss: 0.4588 - accuracy: 0.7801 - auroc: 0.8224 - val_loss: 0.5730 - val_accuracy: 0.7236 - val_auroc: 0.7061\n",
            "Epoch 34/55\n",
            "107/107 [==============================] - 1s 9ms/step - loss: 0.4596 - accuracy: 0.7800 - auroc: 0.8190 - val_loss: 0.5786 - val_accuracy: 0.7295 - val_auroc: 0.7062\n",
            "Epoch 35/55\n",
            "107/107 [==============================] - 1s 8ms/step - loss: 0.4594 - accuracy: 0.7878 - auroc: 0.8208 - val_loss: 0.5745 - val_accuracy: 0.7225 - val_auroc: 0.7129\n",
            "Epoch 36/55\n",
            "107/107 [==============================] - 1s 9ms/step - loss: 0.4600 - accuracy: 0.7847 - auroc: 0.8214 - val_loss: 0.5787 - val_accuracy: 0.7242 - val_auroc: 0.7103\n",
            "Epoch 37/55\n",
            "107/107 [==============================] - 1s 9ms/step - loss: 0.4629 - accuracy: 0.7788 - auroc: 0.8203 - val_loss: 0.5708 - val_accuracy: 0.7289 - val_auroc: 0.7181\n",
            "Epoch 38/55\n",
            "107/107 [==============================] - 1s 8ms/step - loss: 0.4621 - accuracy: 0.7810 - auroc: 0.8211 - val_loss: 0.5707 - val_accuracy: 0.7260 - val_auroc: 0.7108\n",
            "Epoch 39/55\n",
            "107/107 [==============================] - 1s 8ms/step - loss: 0.4583 - accuracy: 0.7847 - auroc: 0.8211 - val_loss: 0.5815 - val_accuracy: 0.7230 - val_auroc: 0.7069\n",
            "Epoch 40/55\n",
            "107/107 [==============================] - 1s 8ms/step - loss: 0.4597 - accuracy: 0.7833 - auroc: 0.8199 - val_loss: 0.5762 - val_accuracy: 0.7278 - val_auroc: 0.7109\n",
            "Epoch 41/55\n",
            "107/107 [==============================] - 1s 9ms/step - loss: 0.4594 - accuracy: 0.7808 - auroc: 0.8216 - val_loss: 0.5810 - val_accuracy: 0.7213 - val_auroc: 0.7106\n",
            "Epoch 42/55\n",
            "107/107 [==============================] - 1s 9ms/step - loss: 0.4615 - accuracy: 0.7844 - auroc: 0.8206 - val_loss: 0.5738 - val_accuracy: 0.7195 - val_auroc: 0.7096\n",
            "Epoch 43/55\n",
            "107/107 [==============================] - 1s 9ms/step - loss: 0.4597 - accuracy: 0.7826 - auroc: 0.8219 - val_loss: 0.5712 - val_accuracy: 0.7142 - val_auroc: 0.7169\n",
            "Epoch 44/55\n",
            "107/107 [==============================] - 1s 8ms/step - loss: 0.4603 - accuracy: 0.7839 - auroc: 0.8201 - val_loss: 0.5751 - val_accuracy: 0.7160 - val_auroc: 0.7130\n",
            "Epoch 45/55\n",
            "107/107 [==============================] - 1s 8ms/step - loss: 0.4606 - accuracy: 0.7817 - auroc: 0.8230 - val_loss: 0.5784 - val_accuracy: 0.7130 - val_auroc: 0.7131\n",
            "Epoch 46/55\n",
            "107/107 [==============================] - 1s 8ms/step - loss: 0.4595 - accuracy: 0.7864 - auroc: 0.8221 - val_loss: 0.5764 - val_accuracy: 0.7160 - val_auroc: 0.7143\n",
            "Epoch 47/55\n",
            "107/107 [==============================] - 1s 9ms/step - loss: 0.4575 - accuracy: 0.7888 - auroc: 0.8228 - val_loss: 0.5816 - val_accuracy: 0.7124 - val_auroc: 0.7054\n",
            "Epoch 48/55\n",
            "107/107 [==============================] - 1s 9ms/step - loss: 0.4612 - accuracy: 0.7854 - auroc: 0.8207 - val_loss: 0.5622 - val_accuracy: 0.7189 - val_auroc: 0.7221\n",
            "Epoch 49/55\n",
            "107/107 [==============================] - 1s 9ms/step - loss: 0.4589 - accuracy: 0.7856 - auroc: 0.8234 - val_loss: 0.5836 - val_accuracy: 0.7254 - val_auroc: 0.7100\n",
            "Epoch 50/55\n",
            "107/107 [==============================] - 1s 9ms/step - loss: 0.4624 - accuracy: 0.7782 - auroc: 0.8212 - val_loss: 0.5780 - val_accuracy: 0.7166 - val_auroc: 0.7130\n",
            "Epoch 51/55\n",
            "107/107 [==============================] - 1s 9ms/step - loss: 0.4608 - accuracy: 0.7825 - auroc: 0.8216 - val_loss: 0.5743 - val_accuracy: 0.7207 - val_auroc: 0.7121\n",
            "Epoch 52/55\n",
            "107/107 [==============================] - 1s 8ms/step - loss: 0.4585 - accuracy: 0.7833 - auroc: 0.8225 - val_loss: 0.5669 - val_accuracy: 0.7266 - val_auroc: 0.7129\n",
            "Epoch 53/55\n",
            "107/107 [==============================] - 1s 8ms/step - loss: 0.4577 - accuracy: 0.7861 - auroc: 0.8240 - val_loss: 0.5789 - val_accuracy: 0.7248 - val_auroc: 0.7126\n",
            "Epoch 54/55\n",
            "107/107 [==============================] - 1s 9ms/step - loss: 0.4579 - accuracy: 0.7856 - auroc: 0.8227 - val_loss: 0.5717 - val_accuracy: 0.7195 - val_auroc: 0.7132\n",
            "Epoch 55/55\n",
            "107/107 [==============================] - 1s 8ms/step - loss: 0.4592 - accuracy: 0.7848 - auroc: 0.8212 - val_loss: 0.5818 - val_accuracy: 0.7242 - val_auroc: 0.7116\n"
          ]
        },
        {
          "output_type": "execute_result",
          "data": {
            "text/plain": [
              "<keras.callbacks.History at 0x7f80e977ee10>"
            ]
          },
          "metadata": {},
          "execution_count": 54
        }
      ],
      "source": [
        "model_1.fit(x=X_train_embeddings,  \n",
        "          y=y_train,  \n",
        "          epochs=55,  \n",
        "          batch_size=64,\n",
        "          validation_data=(X_test_embeddings, y_test),  \n",
        "          callbacks=[ checkpoint, tensorboard_callback]) "
      ]
    },
    {
      "cell_type": "code",
      "source": [
        "!pip install gdown"
      ],
      "metadata": {
        "colab": {
          "base_uri": "https://localhost:8080/"
        },
        "id": "K_eO7KjJJ9ll",
        "outputId": "299e855c-84d9-4dbe-bcc7-159f764a65da"
      },
      "execution_count": null,
      "outputs": [
        {
          "output_type": "stream",
          "name": "stdout",
          "text": [
            "Requirement already satisfied: gdown in /usr/local/lib/python3.7/dist-packages (4.4.0)\n",
            "Requirement already satisfied: tqdm in /usr/local/lib/python3.7/dist-packages (from gdown) (4.64.0)\n",
            "Requirement already satisfied: requests[socks] in /usr/local/lib/python3.7/dist-packages (from gdown) (2.23.0)\n",
            "Requirement already satisfied: filelock in /usr/local/lib/python3.7/dist-packages (from gdown) (3.6.0)\n",
            "Requirement already satisfied: beautifulsoup4 in /usr/local/lib/python3.7/dist-packages (from gdown) (4.6.3)\n",
            "Requirement already satisfied: six in /usr/local/lib/python3.7/dist-packages (from gdown) (1.15.0)\n",
            "Requirement already satisfied: chardet<4,>=3.0.2 in /usr/local/lib/python3.7/dist-packages (from requests[socks]->gdown) (3.0.4)\n",
            "Requirement already satisfied: idna<3,>=2.5 in /usr/local/lib/python3.7/dist-packages (from requests[socks]->gdown) (2.10)\n",
            "Requirement already satisfied: certifi>=2017.4.17 in /usr/local/lib/python3.7/dist-packages (from requests[socks]->gdown) (2021.10.8)\n",
            "Requirement already satisfied: urllib3!=1.25.0,!=1.25.1,<1.26,>=1.21.1 in /usr/local/lib/python3.7/dist-packages (from requests[socks]->gdown) (1.24.3)\n",
            "Requirement already satisfied: PySocks!=1.5.7,>=1.5.6 in /usr/local/lib/python3.7/dist-packages (from requests[socks]->gdown) (1.7.1)\n"
          ]
        }
      ]
    },
    {
      "cell_type": "markdown",
      "source": [
        "### Downloading and preprocessing the prediction dataset"
      ],
      "metadata": {
        "id": "FQhtBJkP0ORG"
      }
    },
    {
      "cell_type": "code",
      "source": [
        "!gdown 1LTI5KNqPrtxrYRgJk2AxI30KgYyNcRpD"
      ],
      "metadata": {
        "colab": {
          "base_uri": "https://localhost:8080/"
        },
        "id": "h82VwJw9KCa4",
        "outputId": "914cabc7-a61e-4a1c-cff6-e3fe02e74045"
      },
      "execution_count": null,
      "outputs": [
        {
          "output_type": "stream",
          "name": "stdout",
          "text": [
            "Downloading...\n",
            "From: https://drive.google.com/uc?id=1LTI5KNqPrtxrYRgJk2AxI30KgYyNcRpD\n",
            "To: /content/review_data.csv\n",
            "\r  0% 0.00/2.71M [00:00<?, ?B/s]\r100% 2.71M/2.71M [00:00<00:00, 72.2MB/s]\n"
          ]
        }
      ]
    },
    {
      "cell_type": "code",
      "source": [
        "testing = pd.read_csv('/content/review_data.csv')"
      ],
      "metadata": {
        "id": "TgjZvNLFKOu1"
      },
      "execution_count": null,
      "outputs": []
    },
    {
      "cell_type": "code",
      "source": [
        "testing.head()"
      ],
      "metadata": {
        "colab": {
          "base_uri": "https://localhost:8080/",
          "height": 206
        },
        "id": "YwODiLPQKcer",
        "outputId": "ef828aba-c752-4d46-892f-9cc2b5aaa74c"
      },
      "execution_count": null,
      "outputs": [
        {
          "output_type": "execute_result",
          "data": {
            "text/plain": [
              "                                                text  star  \\\n",
              "0                                    Anathi Khanyile     5   \n",
              "1  Tony bahut funny hai Hill climbing racing my f...     5   \n",
              "2                                            Teturwu     1   \n",
              "3  Hoooooooooooyaaaaaaaaa what a game hoooooooooo...     5   \n",
              "4                                  This game is nice     5   \n",
              "\n",
              "                     app_id reviewDate  \n",
              "0  com.fingersoft.hillclimb   18/03/21  \n",
              "1  com.fingersoft.hillclimb   18/03/21  \n",
              "2  com.fingersoft.hillclimb   18/03/21  \n",
              "3  com.fingersoft.hillclimb   18/03/21  \n",
              "4  com.fingersoft.hillclimb   18/03/21  "
            ],
            "text/html": [
              "\n",
              "  <div id=\"df-34a682c9-19f8-409c-bea2-9a377d961c14\">\n",
              "    <div class=\"colab-df-container\">\n",
              "      <div>\n",
              "<style scoped>\n",
              "    .dataframe tbody tr th:only-of-type {\n",
              "        vertical-align: middle;\n",
              "    }\n",
              "\n",
              "    .dataframe tbody tr th {\n",
              "        vertical-align: top;\n",
              "    }\n",
              "\n",
              "    .dataframe thead th {\n",
              "        text-align: right;\n",
              "    }\n",
              "</style>\n",
              "<table border=\"1\" class=\"dataframe\">\n",
              "  <thead>\n",
              "    <tr style=\"text-align: right;\">\n",
              "      <th></th>\n",
              "      <th>text</th>\n",
              "      <th>star</th>\n",
              "      <th>app_id</th>\n",
              "      <th>reviewDate</th>\n",
              "    </tr>\n",
              "  </thead>\n",
              "  <tbody>\n",
              "    <tr>\n",
              "      <th>0</th>\n",
              "      <td>Anathi Khanyile</td>\n",
              "      <td>5</td>\n",
              "      <td>com.fingersoft.hillclimb</td>\n",
              "      <td>18/03/21</td>\n",
              "    </tr>\n",
              "    <tr>\n",
              "      <th>1</th>\n",
              "      <td>Tony bahut funny hai Hill climbing racing my f...</td>\n",
              "      <td>5</td>\n",
              "      <td>com.fingersoft.hillclimb</td>\n",
              "      <td>18/03/21</td>\n",
              "    </tr>\n",
              "    <tr>\n",
              "      <th>2</th>\n",
              "      <td>Teturwu</td>\n",
              "      <td>1</td>\n",
              "      <td>com.fingersoft.hillclimb</td>\n",
              "      <td>18/03/21</td>\n",
              "    </tr>\n",
              "    <tr>\n",
              "      <th>3</th>\n",
              "      <td>Hoooooooooooyaaaaaaaaa what a game hoooooooooo...</td>\n",
              "      <td>5</td>\n",
              "      <td>com.fingersoft.hillclimb</td>\n",
              "      <td>18/03/21</td>\n",
              "    </tr>\n",
              "    <tr>\n",
              "      <th>4</th>\n",
              "      <td>This game is nice</td>\n",
              "      <td>5</td>\n",
              "      <td>com.fingersoft.hillclimb</td>\n",
              "      <td>18/03/21</td>\n",
              "    </tr>\n",
              "  </tbody>\n",
              "</table>\n",
              "</div>\n",
              "      <button class=\"colab-df-convert\" onclick=\"convertToInteractive('df-34a682c9-19f8-409c-bea2-9a377d961c14')\"\n",
              "              title=\"Convert this dataframe to an interactive table.\"\n",
              "              style=\"display:none;\">\n",
              "        \n",
              "  <svg xmlns=\"http://www.w3.org/2000/svg\" height=\"24px\"viewBox=\"0 0 24 24\"\n",
              "       width=\"24px\">\n",
              "    <path d=\"M0 0h24v24H0V0z\" fill=\"none\"/>\n",
              "    <path d=\"M18.56 5.44l.94 2.06.94-2.06 2.06-.94-2.06-.94-.94-2.06-.94 2.06-2.06.94zm-11 1L8.5 8.5l.94-2.06 2.06-.94-2.06-.94L8.5 2.5l-.94 2.06-2.06.94zm10 10l.94 2.06.94-2.06 2.06-.94-2.06-.94-.94-2.06-.94 2.06-2.06.94z\"/><path d=\"M17.41 7.96l-1.37-1.37c-.4-.4-.92-.59-1.43-.59-.52 0-1.04.2-1.43.59L10.3 9.45l-7.72 7.72c-.78.78-.78 2.05 0 2.83L4 21.41c.39.39.9.59 1.41.59.51 0 1.02-.2 1.41-.59l7.78-7.78 2.81-2.81c.8-.78.8-2.07 0-2.86zM5.41 20L4 18.59l7.72-7.72 1.47 1.35L5.41 20z\"/>\n",
              "  </svg>\n",
              "      </button>\n",
              "      \n",
              "  <style>\n",
              "    .colab-df-container {\n",
              "      display:flex;\n",
              "      flex-wrap:wrap;\n",
              "      gap: 12px;\n",
              "    }\n",
              "\n",
              "    .colab-df-convert {\n",
              "      background-color: #E8F0FE;\n",
              "      border: none;\n",
              "      border-radius: 50%;\n",
              "      cursor: pointer;\n",
              "      display: none;\n",
              "      fill: #1967D2;\n",
              "      height: 32px;\n",
              "      padding: 0 0 0 0;\n",
              "      width: 32px;\n",
              "    }\n",
              "\n",
              "    .colab-df-convert:hover {\n",
              "      background-color: #E2EBFA;\n",
              "      box-shadow: 0px 1px 2px rgba(60, 64, 67, 0.3), 0px 1px 3px 1px rgba(60, 64, 67, 0.15);\n",
              "      fill: #174EA6;\n",
              "    }\n",
              "\n",
              "    [theme=dark] .colab-df-convert {\n",
              "      background-color: #3B4455;\n",
              "      fill: #D2E3FC;\n",
              "    }\n",
              "\n",
              "    [theme=dark] .colab-df-convert:hover {\n",
              "      background-color: #434B5C;\n",
              "      box-shadow: 0px 1px 3px 1px rgba(0, 0, 0, 0.15);\n",
              "      filter: drop-shadow(0px 1px 2px rgba(0, 0, 0, 0.3));\n",
              "      fill: #FFFFFF;\n",
              "    }\n",
              "  </style>\n",
              "\n",
              "      <script>\n",
              "        const buttonEl =\n",
              "          document.querySelector('#df-34a682c9-19f8-409c-bea2-9a377d961c14 button.colab-df-convert');\n",
              "        buttonEl.style.display =\n",
              "          google.colab.kernel.accessAllowed ? 'block' : 'none';\n",
              "\n",
              "        async function convertToInteractive(key) {\n",
              "          const element = document.querySelector('#df-34a682c9-19f8-409c-bea2-9a377d961c14');\n",
              "          const dataTable =\n",
              "            await google.colab.kernel.invokeFunction('convertToInteractive',\n",
              "                                                     [key], {});\n",
              "          if (!dataTable) return;\n",
              "\n",
              "          const docLinkHtml = 'Like what you see? Visit the ' +\n",
              "            '<a target=\"_blank\" href=https://colab.research.google.com/notebooks/data_table.ipynb>data table notebook</a>'\n",
              "            + ' to learn more about interactive tables.';\n",
              "          element.innerHTML = '';\n",
              "          dataTable['output_type'] = 'display_data';\n",
              "          await google.colab.output.renderOutput(dataTable, element);\n",
              "          const docLink = document.createElement('div');\n",
              "          docLink.innerHTML = docLinkHtml;\n",
              "          element.appendChild(docLink);\n",
              "        }\n",
              "      </script>\n",
              "    </div>\n",
              "  </div>\n",
              "  "
            ]
          },
          "metadata": {},
          "execution_count": 58
        }
      ]
    },
    {
      "cell_type": "code",
      "source": [
        "testing['text'].values"
      ],
      "metadata": {
        "colab": {
          "base_uri": "https://localhost:8080/"
        },
        "id": "Gia29xNbLQ_E",
        "outputId": "7db8ed1f-db36-47a5-9f08-a85535e40cc9"
      },
      "execution_count": null,
      "outputs": [
        {
          "output_type": "execute_result",
          "data": {
            "text/plain": [
              "array(['Anathi Khanyile', 'Tony bahut funny hai Hill climbing racing my favourite game', 'Teturwu',\n",
              "       'Hoooooooooooyaaaaaaaaa what a game hooooooooooooyaaaaaaaa', ..., 'Nice', 'Disturbing too much as YouTube ad',\n",
              "       'Koub valo vai', 'I want to grow my account'], dtype=object)"
            ]
          },
          "metadata": {},
          "execution_count": 61
        }
      ]
    },
    {
      "cell_type": "code",
      "source": [
        "testing = testing[testing['text'].notna()]\n",
        "testing['text'].values.shape"
      ],
      "metadata": {
        "id": "AilOxJ-xlkAj"
      },
      "execution_count": null,
      "outputs": []
    },
    {
      "cell_type": "code",
      "source": [
        "sentence_embeddings = []\n",
        "for i in testing['text'].values:\n",
        "  try:\n",
        "\n",
        "    sentence_embeddings.append(model.encode([i]))\n",
        "  except:\n",
        "    print(i)\n",
        "\n",
        "\n",
        "sentence_embeddings = np.array(sentence_embeddings).squeeze()\n",
        "print(sentence_embeddings.shape)\n",
        "X_testing = sentence_embeddings"
      ],
      "metadata": {
        "colab": {
          "base_uri": "https://localhost:8080/"
        },
        "id": "bzHCAgTsK_h1",
        "outputId": "c043aad4-72eb-4fc7-ada4-c0a73b58d006"
      },
      "execution_count": null,
      "outputs": [
        {
          "output_type": "stream",
          "name": "stdout",
          "text": [
            "nan\n",
            "(29999, 768)\n"
          ]
        }
      ]
    },
    {
      "cell_type": "code",
      "source": [
        "result = model_1.predict(X_testing)"
      ],
      "metadata": {
        "id": "mQluCL3_iC1_"
      },
      "execution_count": null,
      "outputs": []
    },
    {
      "cell_type": "code",
      "source": [
        "result_label = [1 if prediction>=0.5 else 0 for prediction in result]\n",
        "result_accr_percent = [prediction*100 for prediction in result]"
      ],
      "metadata": {
        "id": "_AOvw0G-i_4D"
      },
      "execution_count": null,
      "outputs": []
    },
    {
      "cell_type": "code",
      "source": [
        "testing['predicted_labels']=result_label\n",
        "testing['grammatical_accuracy']=result_accr_percent"
      ],
      "metadata": {
        "id": "qY5F2Mhlj1v0"
      },
      "execution_count": null,
      "outputs": []
    },
    {
      "cell_type": "code",
      "source": [
        "testing.head()"
      ],
      "metadata": {
        "colab": {
          "base_uri": "https://localhost:8080/",
          "height": 206
        },
        "id": "u1DrI-YKkOS-",
        "outputId": "27d178e7-a692-4f46-95ab-817bf5d385e6"
      },
      "execution_count": null,
      "outputs": [
        {
          "output_type": "execute_result",
          "data": {
            "text/plain": [
              "                                                text  star  \\\n",
              "0                                    Anathi Khanyile     5   \n",
              "1  Tony bahut funny hai Hill climbing racing my f...     5   \n",
              "2                                            Teturwu     1   \n",
              "3  Hoooooooooooyaaaaaaaaa what a game hoooooooooo...     5   \n",
              "4                                  This game is nice     5   \n",
              "\n",
              "                     app_id reviewDate  predicted_labels grammatical_accuracy  \n",
              "0  com.fingersoft.hillclimb   18/03/21                 0          [40.050106]  \n",
              "1  com.fingersoft.hillclimb   18/03/21                 0          [41.626587]  \n",
              "2  com.fingersoft.hillclimb   18/03/21                 0          [5.4914923]  \n",
              "3  com.fingersoft.hillclimb   18/03/21                 1          [99.335785]  \n",
              "4  com.fingersoft.hillclimb   18/03/21                 1           [80.43008]  "
            ],
            "text/html": [
              "\n",
              "  <div id=\"df-fffaa398-e131-4238-a5e0-d1e9ba2a289e\">\n",
              "    <div class=\"colab-df-container\">\n",
              "      <div>\n",
              "<style scoped>\n",
              "    .dataframe tbody tr th:only-of-type {\n",
              "        vertical-align: middle;\n",
              "    }\n",
              "\n",
              "    .dataframe tbody tr th {\n",
              "        vertical-align: top;\n",
              "    }\n",
              "\n",
              "    .dataframe thead th {\n",
              "        text-align: right;\n",
              "    }\n",
              "</style>\n",
              "<table border=\"1\" class=\"dataframe\">\n",
              "  <thead>\n",
              "    <tr style=\"text-align: right;\">\n",
              "      <th></th>\n",
              "      <th>text</th>\n",
              "      <th>star</th>\n",
              "      <th>app_id</th>\n",
              "      <th>reviewDate</th>\n",
              "      <th>predicted_labels</th>\n",
              "      <th>grammatical_accuracy</th>\n",
              "    </tr>\n",
              "  </thead>\n",
              "  <tbody>\n",
              "    <tr>\n",
              "      <th>0</th>\n",
              "      <td>Anathi Khanyile</td>\n",
              "      <td>5</td>\n",
              "      <td>com.fingersoft.hillclimb</td>\n",
              "      <td>18/03/21</td>\n",
              "      <td>0</td>\n",
              "      <td>[40.050106]</td>\n",
              "    </tr>\n",
              "    <tr>\n",
              "      <th>1</th>\n",
              "      <td>Tony bahut funny hai Hill climbing racing my f...</td>\n",
              "      <td>5</td>\n",
              "      <td>com.fingersoft.hillclimb</td>\n",
              "      <td>18/03/21</td>\n",
              "      <td>0</td>\n",
              "      <td>[41.626587]</td>\n",
              "    </tr>\n",
              "    <tr>\n",
              "      <th>2</th>\n",
              "      <td>Teturwu</td>\n",
              "      <td>1</td>\n",
              "      <td>com.fingersoft.hillclimb</td>\n",
              "      <td>18/03/21</td>\n",
              "      <td>0</td>\n",
              "      <td>[5.4914923]</td>\n",
              "    </tr>\n",
              "    <tr>\n",
              "      <th>3</th>\n",
              "      <td>Hoooooooooooyaaaaaaaaa what a game hoooooooooo...</td>\n",
              "      <td>5</td>\n",
              "      <td>com.fingersoft.hillclimb</td>\n",
              "      <td>18/03/21</td>\n",
              "      <td>1</td>\n",
              "      <td>[99.335785]</td>\n",
              "    </tr>\n",
              "    <tr>\n",
              "      <th>4</th>\n",
              "      <td>This game is nice</td>\n",
              "      <td>5</td>\n",
              "      <td>com.fingersoft.hillclimb</td>\n",
              "      <td>18/03/21</td>\n",
              "      <td>1</td>\n",
              "      <td>[80.43008]</td>\n",
              "    </tr>\n",
              "  </tbody>\n",
              "</table>\n",
              "</div>\n",
              "      <button class=\"colab-df-convert\" onclick=\"convertToInteractive('df-fffaa398-e131-4238-a5e0-d1e9ba2a289e')\"\n",
              "              title=\"Convert this dataframe to an interactive table.\"\n",
              "              style=\"display:none;\">\n",
              "        \n",
              "  <svg xmlns=\"http://www.w3.org/2000/svg\" height=\"24px\"viewBox=\"0 0 24 24\"\n",
              "       width=\"24px\">\n",
              "    <path d=\"M0 0h24v24H0V0z\" fill=\"none\"/>\n",
              "    <path d=\"M18.56 5.44l.94 2.06.94-2.06 2.06-.94-2.06-.94-.94-2.06-.94 2.06-2.06.94zm-11 1L8.5 8.5l.94-2.06 2.06-.94-2.06-.94L8.5 2.5l-.94 2.06-2.06.94zm10 10l.94 2.06.94-2.06 2.06-.94-2.06-.94-.94-2.06-.94 2.06-2.06.94z\"/><path d=\"M17.41 7.96l-1.37-1.37c-.4-.4-.92-.59-1.43-.59-.52 0-1.04.2-1.43.59L10.3 9.45l-7.72 7.72c-.78.78-.78 2.05 0 2.83L4 21.41c.39.39.9.59 1.41.59.51 0 1.02-.2 1.41-.59l7.78-7.78 2.81-2.81c.8-.78.8-2.07 0-2.86zM5.41 20L4 18.59l7.72-7.72 1.47 1.35L5.41 20z\"/>\n",
              "  </svg>\n",
              "      </button>\n",
              "      \n",
              "  <style>\n",
              "    .colab-df-container {\n",
              "      display:flex;\n",
              "      flex-wrap:wrap;\n",
              "      gap: 12px;\n",
              "    }\n",
              "\n",
              "    .colab-df-convert {\n",
              "      background-color: #E8F0FE;\n",
              "      border: none;\n",
              "      border-radius: 50%;\n",
              "      cursor: pointer;\n",
              "      display: none;\n",
              "      fill: #1967D2;\n",
              "      height: 32px;\n",
              "      padding: 0 0 0 0;\n",
              "      width: 32px;\n",
              "    }\n",
              "\n",
              "    .colab-df-convert:hover {\n",
              "      background-color: #E2EBFA;\n",
              "      box-shadow: 0px 1px 2px rgba(60, 64, 67, 0.3), 0px 1px 3px 1px rgba(60, 64, 67, 0.15);\n",
              "      fill: #174EA6;\n",
              "    }\n",
              "\n",
              "    [theme=dark] .colab-df-convert {\n",
              "      background-color: #3B4455;\n",
              "      fill: #D2E3FC;\n",
              "    }\n",
              "\n",
              "    [theme=dark] .colab-df-convert:hover {\n",
              "      background-color: #434B5C;\n",
              "      box-shadow: 0px 1px 3px 1px rgba(0, 0, 0, 0.15);\n",
              "      filter: drop-shadow(0px 1px 2px rgba(0, 0, 0, 0.3));\n",
              "      fill: #FFFFFF;\n",
              "    }\n",
              "  </style>\n",
              "\n",
              "      <script>\n",
              "        const buttonEl =\n",
              "          document.querySelector('#df-fffaa398-e131-4238-a5e0-d1e9ba2a289e button.colab-df-convert');\n",
              "        buttonEl.style.display =\n",
              "          google.colab.kernel.accessAllowed ? 'block' : 'none';\n",
              "\n",
              "        async function convertToInteractive(key) {\n",
              "          const element = document.querySelector('#df-fffaa398-e131-4238-a5e0-d1e9ba2a289e');\n",
              "          const dataTable =\n",
              "            await google.colab.kernel.invokeFunction('convertToInteractive',\n",
              "                                                     [key], {});\n",
              "          if (!dataTable) return;\n",
              "\n",
              "          const docLinkHtml = 'Like what you see? Visit the ' +\n",
              "            '<a target=\"_blank\" href=https://colab.research.google.com/notebooks/data_table.ipynb>data table notebook</a>'\n",
              "            + ' to learn more about interactive tables.';\n",
              "          element.innerHTML = '';\n",
              "          dataTable['output_type'] = 'display_data';\n",
              "          await google.colab.output.renderOutput(dataTable, element);\n",
              "          const docLink = document.createElement('div');\n",
              "          docLink.innerHTML = docLinkHtml;\n",
              "          element.appendChild(docLink);\n",
              "        }\n",
              "      </script>\n",
              "    </div>\n",
              "  </div>\n",
              "  "
            ]
          },
          "metadata": {},
          "execution_count": 75
        }
      ]
    }
  ],
  "metadata": {
    "kernelspec": {
      "display_name": "Python 3 (ipykernel)",
      "language": "python",
      "name": "python3"
    },
    "language_info": {
      "codemirror_mode": {
        "name": "ipython",
        "version": 3
      },
      "file_extension": ".py",
      "mimetype": "text/x-python",
      "name": "python",
      "nbconvert_exporter": "python",
      "pygments_lexer": "ipython3",
      "version": "3.7.9"
    },
    "colab": {
      "name": "nextLab_assignment_question2.ipynb",
      "provenance": [],
      "include_colab_link": true
    }
  },
  "nbformat": 4,
  "nbformat_minor": 0
}