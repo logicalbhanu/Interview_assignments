{
  "cells": [
    {
      "cell_type": "markdown",
      "metadata": {
        "id": "view-in-github",
        "colab_type": "text"
      },
      "source": [
        "<a href=\"https://colab.research.google.com/github/logicalbhanu/Interview_assignments/blob/main/nextlab_assignment_quesiton_1.ipynb\" target=\"_parent\"><img src=\"https://colab.research.google.com/assets/colab-badge.svg\" alt=\"Open In Colab\"/></a>"
      ]
    },
    {
      "cell_type": "markdown",
      "source": [
        "### Regex i.e. Question 1.1"
      ],
      "metadata": {
        "id": "_NVXqp_4t0kQ"
      },
      "id": "_NVXqp_4t0kQ"
    },
    {
      "cell_type": "code",
      "execution_count": 1,
      "id": "2e5f08ae-7c4a-4a50-a53c-37bf817d6131",
      "metadata": {
        "id": "2e5f08ae-7c4a-4a50-a53c-37bf817d6131"
      },
      "outputs": [],
      "source": [
        "data = '''{\"orders\":[{\"id\":1},{\"id\":2},{\"id\":3},{\"id\":4},{\"id\":5},{\"id\":6},{\"id\":7},{\"id\":8},{\"id\":9},{\"id\":10},{\"id\":11},{\"i\n",
        "d\":648},{\"id\":649},{\"id\":650},{\"id\":651},{\"id\":652},{\"id\":653}],\"errors\":[{\"code\":3,\"message\":\"[PHP Warning #2] count(): Parameter must be an array or an object that implements Countable'''"
      ]
    },
    {
      "cell_type": "code",
      "execution_count": 2,
      "id": "5b7d35ee-c39c-45e9-9574-feac05e84095",
      "metadata": {
        "colab": {
          "base_uri": "https://localhost:8080/"
        },
        "id": "5b7d35ee-c39c-45e9-9574-feac05e84095",
        "outputId": "63882289-21a2-49b7-c6cc-7a36ae5f438a"
      },
      "outputs": [
        {
          "output_type": "stream",
          "name": "stdout",
          "text": [
            "{\"orders\":[{\"id\":1},{\"id\":2},{\"id\":3},{\"id\":4},{\"id\":5},{\"id\":6},{\"id\":7},{\"id\":8},{\"id\":9},{\"id\":10},{\"id\":11},{\"i\n",
            "d\":648},{\"id\":649},{\"id\":650},{\"id\":651},{\"id\":652},{\"id\":653}],\"errors\":[{\"code\":3,\"message\":\"[PHP Warning #2] count(): Parameter must be an array or an object that implements Countable\n"
          ]
        }
      ],
      "source": [
        "print(data)"
      ]
    },
    {
      "cell_type": "code",
      "execution_count": 3,
      "id": "2a58b656-ed42-4091-afec-523e4a843e0c",
      "metadata": {
        "colab": {
          "base_uri": "https://localhost:8080/"
        },
        "id": "2a58b656-ed42-4091-afec-523e4a843e0c",
        "outputId": "9c93fdde-d18f-48fc-8023-fb06ed8ac736"
      },
      "outputs": [
        {
          "output_type": "stream",
          "name": "stdout",
          "text": [
            "1, 2, 3, 4, 5, 6, 7, 8, 9, 10, 11, 648, 649, 650, 651, 652, 653, 3, "
          ]
        }
      ],
      "source": [
        "import re\n",
        "pattern = '\\d+[\\},]'  \n",
        "result = re.findall(pattern, data)\n",
        "for i in result:\n",
        "    print(i[:-1], end=', ')"
      ]
    },
    {
      "cell_type": "markdown",
      "source": [
        "### Finding Faulty Reviews i.e. question 1.2"
      ],
      "metadata": {
        "id": "CPDvFDaltuqP"
      },
      "id": "CPDvFDaltuqP"
    },
    {
      "cell_type": "code",
      "source": [
        "!pip install gdown\n"
      ],
      "metadata": {
        "colab": {
          "base_uri": "https://localhost:8080/"
        },
        "id": "lzBDXHyFi7aX",
        "outputId": "946abae1-5244-4a2f-b30a-14320ef44e57"
      },
      "id": "lzBDXHyFi7aX",
      "execution_count": 4,
      "outputs": [
        {
          "output_type": "stream",
          "name": "stdout",
          "text": [
            "Requirement already satisfied: gdown in /usr/local/lib/python3.7/dist-packages (4.4.0)\n",
            "Requirement already satisfied: tqdm in /usr/local/lib/python3.7/dist-packages (from gdown) (4.64.0)\n",
            "Requirement already satisfied: beautifulsoup4 in /usr/local/lib/python3.7/dist-packages (from gdown) (4.6.3)\n",
            "Requirement already satisfied: filelock in /usr/local/lib/python3.7/dist-packages (from gdown) (3.6.0)\n",
            "Requirement already satisfied: six in /usr/local/lib/python3.7/dist-packages (from gdown) (1.15.0)\n",
            "Requirement already satisfied: requests[socks] in /usr/local/lib/python3.7/dist-packages (from gdown) (2.23.0)\n",
            "Requirement already satisfied: chardet<4,>=3.0.2 in /usr/local/lib/python3.7/dist-packages (from requests[socks]->gdown) (3.0.4)\n",
            "Requirement already satisfied: urllib3!=1.25.0,!=1.25.1,<1.26,>=1.21.1 in /usr/local/lib/python3.7/dist-packages (from requests[socks]->gdown) (1.24.3)\n",
            "Requirement already satisfied: certifi>=2017.4.17 in /usr/local/lib/python3.7/dist-packages (from requests[socks]->gdown) (2021.10.8)\n",
            "Requirement already satisfied: idna<3,>=2.5 in /usr/local/lib/python3.7/dist-packages (from requests[socks]->gdown) (2.10)\n",
            "Requirement already satisfied: PySocks!=1.5.7,>=1.5.6 in /usr/local/lib/python3.7/dist-packages (from requests[socks]->gdown) (1.7.1)\n"
          ]
        }
      ]
    },
    {
      "cell_type": "code",
      "source": [
        "!gdown 1SuiFw4MYxOBlqsRgyXLfch28-gzx8bX6"
      ],
      "metadata": {
        "colab": {
          "base_uri": "https://localhost:8080/"
        },
        "id": "DmLGS2etjAYB",
        "outputId": "eb38bc99-8d58-422b-b889-b0d9af4f3a4d"
      },
      "id": "DmLGS2etjAYB",
      "execution_count": 5,
      "outputs": [
        {
          "output_type": "stream",
          "name": "stdout",
          "text": [
            "Downloading...\n",
            "From: https://drive.google.com/uc?id=1SuiFw4MYxOBlqsRgyXLfch28-gzx8bX6\n",
            "To: /content/chrome_reviews.csv\n",
            "\r  0% 0.00/1.98M [00:00<?, ?B/s]\r100% 1.98M/1.98M [00:00<00:00, 125MB/s]\n"
          ]
        }
      ]
    },
    {
      "cell_type": "code",
      "execution_count": 6,
      "id": "d88ae5c3-a70b-4589-a800-b6252404d346",
      "metadata": {
        "id": "d88ae5c3-a70b-4589-a800-b6252404d346"
      },
      "outputs": [],
      "source": [
        "import pandas as pd\n",
        "df = pd.read_csv('chrome_reviews.csv')"
      ]
    },
    {
      "cell_type": "code",
      "execution_count": 7,
      "id": "926dae62-7e65-4791-9665-a9b896010b55",
      "metadata": {
        "colab": {
          "base_uri": "https://localhost:8080/"
        },
        "id": "926dae62-7e65-4791-9665-a9b896010b55",
        "outputId": "93bd6f66-9ca1-4cd5-be65-a9625b6422dd"
      },
      "outputs": [
        {
          "output_type": "execute_result",
          "data": {
            "text/plain": [
              "Index(['ID', 'Review URL', 'Text', 'Star', 'Thumbs Up', 'User Name',\n",
              "       'Developer Reply', 'Version', 'Review Date', 'App ID'],\n",
              "      dtype='object')"
            ]
          },
          "metadata": {},
          "execution_count": 7
        }
      ],
      "source": [
        "df.columns"
      ]
    },
    {
      "cell_type": "code",
      "execution_count": 8,
      "id": "50fc3602-23ab-4f31-a634-aba0ad90506d",
      "metadata": {
        "colab": {
          "base_uri": "https://localhost:8080/",
          "height": 206
        },
        "id": "50fc3602-23ab-4f31-a634-aba0ad90506d",
        "outputId": "6ad5e761-eba6-4dfb-bfa9-25a68bd821d7"
      },
      "outputs": [
        {
          "output_type": "execute_result",
          "data": {
            "text/plain": [
              "     ID                                         Review URL  \\\n",
              "0  3886  https://play.google.com/store/apps/details?id=...   \n",
              "1  3887  https://play.google.com/store/apps/details?id=...   \n",
              "2  3888  https://play.google.com/store/apps/details?id=...   \n",
              "3  3889  https://play.google.com/store/apps/details?id=...   \n",
              "4  3890  https://play.google.com/store/apps/details?id=...   \n",
              "\n",
              "                                             Text  Star  Thumbs Up  \\\n",
              "0                      This is very helpfull aap.     5          0   \n",
              "1                                            Good     3          2   \n",
              "2  Not able to update. Neither able to uninstall.     1          0   \n",
              "3                                        Nice app     4          0   \n",
              "4                               Many unwanted ads     1          0   \n",
              "\n",
              "          User Name Developer Reply        Version Review Date  \\\n",
              "0  INDIAN Knowledge             NaN  83.0.4103.106  2020-12-19   \n",
              "1  Ijeoma Happiness             NaN  85.0.4183.127  2020-12-19   \n",
              "2  Priti D BtCFs-29             NaN  85.0.4183.127  2020-12-19   \n",
              "3        Ajeet Raja             NaN  77.0.3865.116  2020-12-19   \n",
              "4           Rams Mp             NaN   87.0.4280.66  2020-12-19   \n",
              "\n",
              "               App ID  \n",
              "0  com.android.chrome  \n",
              "1  com.android.chrome  \n",
              "2  com.android.chrome  \n",
              "3  com.android.chrome  \n",
              "4  com.android.chrome  "
            ],
            "text/html": [
              "\n",
              "  <div id=\"df-40f8cb6c-b87b-4294-acb1-8b5eac899a93\">\n",
              "    <div class=\"colab-df-container\">\n",
              "      <div>\n",
              "<style scoped>\n",
              "    .dataframe tbody tr th:only-of-type {\n",
              "        vertical-align: middle;\n",
              "    }\n",
              "\n",
              "    .dataframe tbody tr th {\n",
              "        vertical-align: top;\n",
              "    }\n",
              "\n",
              "    .dataframe thead th {\n",
              "        text-align: right;\n",
              "    }\n",
              "</style>\n",
              "<table border=\"1\" class=\"dataframe\">\n",
              "  <thead>\n",
              "    <tr style=\"text-align: right;\">\n",
              "      <th></th>\n",
              "      <th>ID</th>\n",
              "      <th>Review URL</th>\n",
              "      <th>Text</th>\n",
              "      <th>Star</th>\n",
              "      <th>Thumbs Up</th>\n",
              "      <th>User Name</th>\n",
              "      <th>Developer Reply</th>\n",
              "      <th>Version</th>\n",
              "      <th>Review Date</th>\n",
              "      <th>App ID</th>\n",
              "    </tr>\n",
              "  </thead>\n",
              "  <tbody>\n",
              "    <tr>\n",
              "      <th>0</th>\n",
              "      <td>3886</td>\n",
              "      <td>https://play.google.com/store/apps/details?id=...</td>\n",
              "      <td>This is very helpfull aap.</td>\n",
              "      <td>5</td>\n",
              "      <td>0</td>\n",
              "      <td>INDIAN Knowledge</td>\n",
              "      <td>NaN</td>\n",
              "      <td>83.0.4103.106</td>\n",
              "      <td>2020-12-19</td>\n",
              "      <td>com.android.chrome</td>\n",
              "    </tr>\n",
              "    <tr>\n",
              "      <th>1</th>\n",
              "      <td>3887</td>\n",
              "      <td>https://play.google.com/store/apps/details?id=...</td>\n",
              "      <td>Good</td>\n",
              "      <td>3</td>\n",
              "      <td>2</td>\n",
              "      <td>Ijeoma Happiness</td>\n",
              "      <td>NaN</td>\n",
              "      <td>85.0.4183.127</td>\n",
              "      <td>2020-12-19</td>\n",
              "      <td>com.android.chrome</td>\n",
              "    </tr>\n",
              "    <tr>\n",
              "      <th>2</th>\n",
              "      <td>3888</td>\n",
              "      <td>https://play.google.com/store/apps/details?id=...</td>\n",
              "      <td>Not able to update. Neither able to uninstall.</td>\n",
              "      <td>1</td>\n",
              "      <td>0</td>\n",
              "      <td>Priti D BtCFs-29</td>\n",
              "      <td>NaN</td>\n",
              "      <td>85.0.4183.127</td>\n",
              "      <td>2020-12-19</td>\n",
              "      <td>com.android.chrome</td>\n",
              "    </tr>\n",
              "    <tr>\n",
              "      <th>3</th>\n",
              "      <td>3889</td>\n",
              "      <td>https://play.google.com/store/apps/details?id=...</td>\n",
              "      <td>Nice app</td>\n",
              "      <td>4</td>\n",
              "      <td>0</td>\n",
              "      <td>Ajeet Raja</td>\n",
              "      <td>NaN</td>\n",
              "      <td>77.0.3865.116</td>\n",
              "      <td>2020-12-19</td>\n",
              "      <td>com.android.chrome</td>\n",
              "    </tr>\n",
              "    <tr>\n",
              "      <th>4</th>\n",
              "      <td>3890</td>\n",
              "      <td>https://play.google.com/store/apps/details?id=...</td>\n",
              "      <td>Many unwanted ads</td>\n",
              "      <td>1</td>\n",
              "      <td>0</td>\n",
              "      <td>Rams Mp</td>\n",
              "      <td>NaN</td>\n",
              "      <td>87.0.4280.66</td>\n",
              "      <td>2020-12-19</td>\n",
              "      <td>com.android.chrome</td>\n",
              "    </tr>\n",
              "  </tbody>\n",
              "</table>\n",
              "</div>\n",
              "      <button class=\"colab-df-convert\" onclick=\"convertToInteractive('df-40f8cb6c-b87b-4294-acb1-8b5eac899a93')\"\n",
              "              title=\"Convert this dataframe to an interactive table.\"\n",
              "              style=\"display:none;\">\n",
              "        \n",
              "  <svg xmlns=\"http://www.w3.org/2000/svg\" height=\"24px\"viewBox=\"0 0 24 24\"\n",
              "       width=\"24px\">\n",
              "    <path d=\"M0 0h24v24H0V0z\" fill=\"none\"/>\n",
              "    <path d=\"M18.56 5.44l.94 2.06.94-2.06 2.06-.94-2.06-.94-.94-2.06-.94 2.06-2.06.94zm-11 1L8.5 8.5l.94-2.06 2.06-.94-2.06-.94L8.5 2.5l-.94 2.06-2.06.94zm10 10l.94 2.06.94-2.06 2.06-.94-2.06-.94-.94-2.06-.94 2.06-2.06.94z\"/><path d=\"M17.41 7.96l-1.37-1.37c-.4-.4-.92-.59-1.43-.59-.52 0-1.04.2-1.43.59L10.3 9.45l-7.72 7.72c-.78.78-.78 2.05 0 2.83L4 21.41c.39.39.9.59 1.41.59.51 0 1.02-.2 1.41-.59l7.78-7.78 2.81-2.81c.8-.78.8-2.07 0-2.86zM5.41 20L4 18.59l7.72-7.72 1.47 1.35L5.41 20z\"/>\n",
              "  </svg>\n",
              "      </button>\n",
              "      \n",
              "  <style>\n",
              "    .colab-df-container {\n",
              "      display:flex;\n",
              "      flex-wrap:wrap;\n",
              "      gap: 12px;\n",
              "    }\n",
              "\n",
              "    .colab-df-convert {\n",
              "      background-color: #E8F0FE;\n",
              "      border: none;\n",
              "      border-radius: 50%;\n",
              "      cursor: pointer;\n",
              "      display: none;\n",
              "      fill: #1967D2;\n",
              "      height: 32px;\n",
              "      padding: 0 0 0 0;\n",
              "      width: 32px;\n",
              "    }\n",
              "\n",
              "    .colab-df-convert:hover {\n",
              "      background-color: #E2EBFA;\n",
              "      box-shadow: 0px 1px 2px rgba(60, 64, 67, 0.3), 0px 1px 3px 1px rgba(60, 64, 67, 0.15);\n",
              "      fill: #174EA6;\n",
              "    }\n",
              "\n",
              "    [theme=dark] .colab-df-convert {\n",
              "      background-color: #3B4455;\n",
              "      fill: #D2E3FC;\n",
              "    }\n",
              "\n",
              "    [theme=dark] .colab-df-convert:hover {\n",
              "      background-color: #434B5C;\n",
              "      box-shadow: 0px 1px 3px 1px rgba(0, 0, 0, 0.15);\n",
              "      filter: drop-shadow(0px 1px 2px rgba(0, 0, 0, 0.3));\n",
              "      fill: #FFFFFF;\n",
              "    }\n",
              "  </style>\n",
              "\n",
              "      <script>\n",
              "        const buttonEl =\n",
              "          document.querySelector('#df-40f8cb6c-b87b-4294-acb1-8b5eac899a93 button.colab-df-convert');\n",
              "        buttonEl.style.display =\n",
              "          google.colab.kernel.accessAllowed ? 'block' : 'none';\n",
              "\n",
              "        async function convertToInteractive(key) {\n",
              "          const element = document.querySelector('#df-40f8cb6c-b87b-4294-acb1-8b5eac899a93');\n",
              "          const dataTable =\n",
              "            await google.colab.kernel.invokeFunction('convertToInteractive',\n",
              "                                                     [key], {});\n",
              "          if (!dataTable) return;\n",
              "\n",
              "          const docLinkHtml = 'Like what you see? Visit the ' +\n",
              "            '<a target=\"_blank\" href=https://colab.research.google.com/notebooks/data_table.ipynb>data table notebook</a>'\n",
              "            + ' to learn more about interactive tables.';\n",
              "          element.innerHTML = '';\n",
              "          dataTable['output_type'] = 'display_data';\n",
              "          await google.colab.output.renderOutput(dataTable, element);\n",
              "          const docLink = document.createElement('div');\n",
              "          docLink.innerHTML = docLinkHtml;\n",
              "          element.appendChild(docLink);\n",
              "        }\n",
              "      </script>\n",
              "    </div>\n",
              "  </div>\n",
              "  "
            ]
          },
          "metadata": {},
          "execution_count": 8
        }
      ],
      "source": [
        "df.head()"
      ]
    },
    {
      "cell_type": "code",
      "execution_count": 9,
      "id": "92dcf97c-678f-4eee-aab2-83142e14f30f",
      "metadata": {
        "colab": {
          "base_uri": "https://localhost:8080/"
        },
        "id": "92dcf97c-678f-4eee-aab2-83142e14f30f",
        "outputId": "bf2bb91b-abf9-4870-8ade-f8b031162287"
      },
      "outputs": [
        {
          "output_type": "execute_result",
          "data": {
            "text/plain": [
              "(0, 1)"
            ]
          },
          "metadata": {},
          "execution_count": 9
        }
      ],
      "source": [
        "df['Star'].isna().sum(), df['Text'].isna().sum()"
      ]
    },
    {
      "cell_type": "code",
      "execution_count": 10,
      "id": "44263860-6b1f-439d-a809-c8b85ed9cd76",
      "metadata": {
        "id": "44263860-6b1f-439d-a809-c8b85ed9cd76"
      },
      "outputs": [],
      "source": [
        "df = df[df['Text'].notnull()]"
      ]
    },
    {
      "cell_type": "code",
      "execution_count": 11,
      "id": "000f4413-e3da-4454-8b88-7328f41b6bbf",
      "metadata": {
        "colab": {
          "base_uri": "https://localhost:8080/"
        },
        "id": "000f4413-e3da-4454-8b88-7328f41b6bbf",
        "outputId": "2d490de9-dd83-4287-fffb-f24815960796"
      },
      "outputs": [
        {
          "output_type": "execute_result",
          "data": {
            "text/plain": [
              "(0, 0)"
            ]
          },
          "metadata": {},
          "execution_count": 11
        }
      ],
      "source": [
        "df['Star'].isna().sum(), df['Text'].isna().sum()"
      ]
    },
    {
      "cell_type": "code",
      "execution_count": 12,
      "id": "03a95f05-a8db-409c-b1b1-1ffab4e458d5",
      "metadata": {
        "colab": {
          "base_uri": "https://localhost:8080/"
        },
        "id": "03a95f05-a8db-409c-b1b1-1ffab4e458d5",
        "outputId": "65fe8f86-7481-40a3-a556-49ddff71beae"
      },
      "outputs": [
        {
          "output_type": "execute_result",
          "data": {
            "text/plain": [
              "5    3870\n",
              "1    1894\n",
              "4     652\n",
              "3     451\n",
              "2     336\n",
              "Name: Star, dtype: int64"
            ]
          },
          "metadata": {},
          "execution_count": 12
        }
      ],
      "source": [
        "df['Star'].value_counts()"
      ]
    },
    {
      "cell_type": "code",
      "source": [
        "!pip install happytransformer"
      ],
      "metadata": {
        "colab": {
          "base_uri": "https://localhost:8080/"
        },
        "id": "XV9g75G6jvED",
        "outputId": "b7fa414e-d921-4378-f02d-675ba6e0eaeb"
      },
      "id": "XV9g75G6jvED",
      "execution_count": 14,
      "outputs": [
        {
          "output_type": "stream",
          "name": "stdout",
          "text": [
            "Collecting happytransformer\n",
            "  Downloading happytransformer-2.4.1-py3-none-any.whl (45 kB)\n",
            "\u001b[K     |████████████████████████████████| 45 kB 1.8 MB/s \n",
            "\u001b[?25hCollecting sentencepiece\n",
            "  Downloading sentencepiece-0.1.96-cp37-cp37m-manylinux_2_17_x86_64.manylinux2014_x86_64.whl (1.2 MB)\n",
            "\u001b[K     |████████████████████████████████| 1.2 MB 9.9 MB/s \n",
            "\u001b[?25hCollecting transformers>=4.4.0\n",
            "  Downloading transformers-4.19.2-py3-none-any.whl (4.2 MB)\n",
            "\u001b[K     |████████████████████████████████| 4.2 MB 30.4 MB/s \n",
            "\u001b[?25hRequirement already satisfied: tqdm>=4.43 in /usr/local/lib/python3.7/dist-packages (from happytransformer) (4.64.0)\n",
            "Requirement already satisfied: protobuf in /usr/local/lib/python3.7/dist-packages (from happytransformer) (3.17.3)\n",
            "Requirement already satisfied: torch>=1.0 in /usr/local/lib/python3.7/dist-packages (from happytransformer) (1.11.0+cu113)\n",
            "Collecting datasets>=1.6.0\n",
            "  Downloading datasets-2.2.1-py3-none-any.whl (342 kB)\n",
            "\u001b[K     |████████████████████████████████| 342 kB 41.3 MB/s \n",
            "\u001b[?25hRequirement already satisfied: multiprocess in /usr/local/lib/python3.7/dist-packages (from datasets>=1.6.0->happytransformer) (0.70.12.2)\n",
            "Requirement already satisfied: pandas in /usr/local/lib/python3.7/dist-packages (from datasets>=1.6.0->happytransformer) (1.3.5)\n",
            "Requirement already satisfied: requests>=2.19.0 in /usr/local/lib/python3.7/dist-packages (from datasets>=1.6.0->happytransformer) (2.23.0)\n",
            "Collecting xxhash\n",
            "  Downloading xxhash-3.0.0-cp37-cp37m-manylinux_2_17_x86_64.manylinux2014_x86_64.whl (212 kB)\n",
            "\u001b[K     |████████████████████████████████| 212 kB 52.1 MB/s \n",
            "\u001b[?25hCollecting huggingface-hub<1.0.0,>=0.1.0\n",
            "  Downloading huggingface_hub-0.6.0-py3-none-any.whl (84 kB)\n",
            "\u001b[K     |████████████████████████████████| 84 kB 3.5 MB/s \n",
            "\u001b[?25hRequirement already satisfied: packaging in /usr/local/lib/python3.7/dist-packages (from datasets>=1.6.0->happytransformer) (21.3)\n",
            "Requirement already satisfied: pyarrow>=6.0.0 in /usr/local/lib/python3.7/dist-packages (from datasets>=1.6.0->happytransformer) (6.0.1)\n",
            "Requirement already satisfied: dill in /usr/local/lib/python3.7/dist-packages (from datasets>=1.6.0->happytransformer) (0.3.4)\n",
            "Collecting aiohttp\n",
            "  Downloading aiohttp-3.8.1-cp37-cp37m-manylinux_2_5_x86_64.manylinux1_x86_64.manylinux_2_12_x86_64.manylinux2010_x86_64.whl (1.1 MB)\n",
            "\u001b[K     |████████████████████████████████| 1.1 MB 49.3 MB/s \n",
            "\u001b[?25hCollecting fsspec[http]>=2021.05.0\n",
            "  Downloading fsspec-2022.3.0-py3-none-any.whl (136 kB)\n",
            "\u001b[K     |████████████████████████████████| 136 kB 67.4 MB/s \n",
            "\u001b[?25hCollecting responses<0.19\n",
            "  Downloading responses-0.18.0-py3-none-any.whl (38 kB)\n",
            "Requirement already satisfied: importlib-metadata in /usr/local/lib/python3.7/dist-packages (from datasets>=1.6.0->happytransformer) (4.11.3)\n",
            "Requirement already satisfied: numpy>=1.17 in /usr/local/lib/python3.7/dist-packages (from datasets>=1.6.0->happytransformer) (1.21.6)\n",
            "Requirement already satisfied: typing-extensions>=3.7.4.3 in /usr/local/lib/python3.7/dist-packages (from huggingface-hub<1.0.0,>=0.1.0->datasets>=1.6.0->happytransformer) (4.2.0)\n",
            "Requirement already satisfied: filelock in /usr/local/lib/python3.7/dist-packages (from huggingface-hub<1.0.0,>=0.1.0->datasets>=1.6.0->happytransformer) (3.6.0)\n",
            "Requirement already satisfied: pyyaml in /usr/local/lib/python3.7/dist-packages (from huggingface-hub<1.0.0,>=0.1.0->datasets>=1.6.0->happytransformer) (3.13)\n",
            "Requirement already satisfied: pyparsing!=3.0.5,>=2.0.2 in /usr/local/lib/python3.7/dist-packages (from packaging->datasets>=1.6.0->happytransformer) (3.0.8)\n",
            "Requirement already satisfied: urllib3!=1.25.0,!=1.25.1,<1.26,>=1.21.1 in /usr/local/lib/python3.7/dist-packages (from requests>=2.19.0->datasets>=1.6.0->happytransformer) (1.24.3)\n",
            "Requirement already satisfied: idna<3,>=2.5 in /usr/local/lib/python3.7/dist-packages (from requests>=2.19.0->datasets>=1.6.0->happytransformer) (2.10)\n",
            "Requirement already satisfied: certifi>=2017.4.17 in /usr/local/lib/python3.7/dist-packages (from requests>=2.19.0->datasets>=1.6.0->happytransformer) (2021.10.8)\n",
            "Requirement already satisfied: chardet<4,>=3.0.2 in /usr/local/lib/python3.7/dist-packages (from requests>=2.19.0->datasets>=1.6.0->happytransformer) (3.0.4)\n",
            "Collecting urllib3!=1.25.0,!=1.25.1,<1.26,>=1.21.1\n",
            "  Downloading urllib3-1.25.11-py2.py3-none-any.whl (127 kB)\n",
            "\u001b[K     |████████████████████████████████| 127 kB 50.2 MB/s \n",
            "\u001b[?25hRequirement already satisfied: regex!=2019.12.17 in /usr/local/lib/python3.7/dist-packages (from transformers>=4.4.0->happytransformer) (2019.12.20)\n",
            "Collecting tokenizers!=0.11.3,<0.13,>=0.11.1\n",
            "  Downloading tokenizers-0.12.1-cp37-cp37m-manylinux_2_12_x86_64.manylinux2010_x86_64.whl (6.6 MB)\n",
            "\u001b[K     |████████████████████████████████| 6.6 MB 44.1 MB/s \n",
            "\u001b[?25hCollecting pyyaml\n",
            "  Downloading PyYAML-6.0-cp37-cp37m-manylinux_2_5_x86_64.manylinux1_x86_64.manylinux_2_12_x86_64.manylinux2010_x86_64.whl (596 kB)\n",
            "\u001b[K     |████████████████████████████████| 596 kB 59.9 MB/s \n",
            "\u001b[?25hCollecting asynctest==0.13.0\n",
            "  Downloading asynctest-0.13.0-py3-none-any.whl (26 kB)\n",
            "Collecting async-timeout<5.0,>=4.0.0a3\n",
            "  Downloading async_timeout-4.0.2-py3-none-any.whl (5.8 kB)\n",
            "Collecting yarl<2.0,>=1.0\n",
            "  Downloading yarl-1.7.2-cp37-cp37m-manylinux_2_5_x86_64.manylinux1_x86_64.manylinux_2_12_x86_64.manylinux2010_x86_64.whl (271 kB)\n",
            "\u001b[K     |████████████████████████████████| 271 kB 57.0 MB/s \n",
            "\u001b[?25hCollecting aiosignal>=1.1.2\n",
            "  Downloading aiosignal-1.2.0-py3-none-any.whl (8.2 kB)\n",
            "Collecting frozenlist>=1.1.1\n",
            "  Downloading frozenlist-1.3.0-cp37-cp37m-manylinux_2_5_x86_64.manylinux1_x86_64.manylinux_2_17_x86_64.manylinux2014_x86_64.whl (144 kB)\n",
            "\u001b[K     |████████████████████████████████| 144 kB 57.7 MB/s \n",
            "\u001b[?25hCollecting multidict<7.0,>=4.5\n",
            "  Downloading multidict-6.0.2-cp37-cp37m-manylinux_2_17_x86_64.manylinux2014_x86_64.whl (94 kB)\n",
            "\u001b[K     |████████████████████████████████| 94 kB 3.7 MB/s \n",
            "\u001b[?25hRequirement already satisfied: attrs>=17.3.0 in /usr/local/lib/python3.7/dist-packages (from aiohttp->datasets>=1.6.0->happytransformer) (21.4.0)\n",
            "Requirement already satisfied: charset-normalizer<3.0,>=2.0 in /usr/local/lib/python3.7/dist-packages (from aiohttp->datasets>=1.6.0->happytransformer) (2.0.12)\n",
            "Requirement already satisfied: zipp>=0.5 in /usr/local/lib/python3.7/dist-packages (from importlib-metadata->datasets>=1.6.0->happytransformer) (3.8.0)\n",
            "Requirement already satisfied: python-dateutil>=2.7.3 in /usr/local/lib/python3.7/dist-packages (from pandas->datasets>=1.6.0->happytransformer) (2.8.2)\n",
            "Requirement already satisfied: pytz>=2017.3 in /usr/local/lib/python3.7/dist-packages (from pandas->datasets>=1.6.0->happytransformer) (2022.1)\n",
            "Requirement already satisfied: six>=1.5 in /usr/local/lib/python3.7/dist-packages (from python-dateutil>=2.7.3->pandas->datasets>=1.6.0->happytransformer) (1.15.0)\n",
            "Installing collected packages: multidict, frozenlist, yarl, urllib3, asynctest, async-timeout, aiosignal, pyyaml, fsspec, aiohttp, xxhash, tokenizers, responses, huggingface-hub, transformers, sentencepiece, datasets, happytransformer\n",
            "  Attempting uninstall: urllib3\n",
            "    Found existing installation: urllib3 1.24.3\n",
            "    Uninstalling urllib3-1.24.3:\n",
            "      Successfully uninstalled urllib3-1.24.3\n",
            "  Attempting uninstall: pyyaml\n",
            "    Found existing installation: PyYAML 3.13\n",
            "    Uninstalling PyYAML-3.13:\n",
            "      Successfully uninstalled PyYAML-3.13\n",
            "\u001b[31mERROR: pip's dependency resolver does not currently take into account all the packages that are installed. This behaviour is the source of the following dependency conflicts.\n",
            "datascience 0.10.6 requires folium==0.2.1, but you have folium 0.8.3 which is incompatible.\u001b[0m\n",
            "Successfully installed aiohttp-3.8.1 aiosignal-1.2.0 async-timeout-4.0.2 asynctest-0.13.0 datasets-2.2.1 frozenlist-1.3.0 fsspec-2022.3.0 happytransformer-2.4.1 huggingface-hub-0.6.0 multidict-6.0.2 pyyaml-6.0 responses-0.18.0 sentencepiece-0.1.96 tokenizers-0.12.1 transformers-4.19.2 urllib3-1.25.11 xxhash-3.0.0 yarl-1.7.2\n"
          ]
        }
      ]
    },
    {
      "cell_type": "code",
      "execution_count": 15,
      "id": "8c2f7dd5-1361-4c53-aaf5-faa30efc91f3",
      "metadata": {
        "id": "8c2f7dd5-1361-4c53-aaf5-faa30efc91f3"
      },
      "outputs": [],
      "source": [
        "from happytransformer import HappyTextClassification"
      ]
    },
    {
      "cell_type": "code",
      "execution_count": 16,
      "id": "2abb473f-d252-486d-9ed8-ef82b8f97a1f",
      "metadata": {
        "colab": {
          "base_uri": "https://localhost:8080/",
          "height": 162,
          "referenced_widgets": [
            "a241e017e5624c09af27350334dbc2f1",
            "3cbf132b737f40dc80197c25c5098cd8",
            "ef9f0cbe2ebd4ea3915250085eac5d45",
            "a739df3de5034decb488e12a24177717",
            "ed8f121df7434f9790ba34bb106fd932",
            "6497e3a2ee47416c9b7631e426c9100d",
            "830cd398bd3342b68651f7a2a8c7dc9f",
            "160f3006dc764e6791d5768ff81f1eb5",
            "eeaa562920e24cf6a7a9452738d10fc5",
            "c10cf973e58a4a3eac22ec8c71b93f70",
            "e5041e4f584b4ae9bd954fdea70541b6",
            "5c9e231a13534f7e831efffa380b3bf4",
            "5ef42d1847744b93a038d97ed18f3bc0",
            "245bb8934b7b47cfb9e6ec0d64171333",
            "bcf203952e394f5eb1b11a5eca96067f",
            "540528c8aad74d43aaf1354957f5b53f",
            "a2bbf5dac3a7451d8265655bb9ad08ac",
            "587c13167c1941d983d8db71a0121dff",
            "88b53397d6814b4d96b019167ffc5d5e",
            "c71ee5fca0df4c40a66d5b42e387be6c",
            "a0bf508161d44fe9a17c11332517d534",
            "85c86789bc7c46d1a5640a9c80ec23bc",
            "969be010655a45dabf2fff3dc91c2104",
            "9fe96348290d4774a628a8c4cf2d7cdd",
            "f273009ee1ee459fb0dda50d68a66f05",
            "1370602df5484995834f5d115811de8b",
            "06a6cfd99242453ab616d4832db17c6d",
            "9fb671083d2f451ca2669c2d9fa72c72",
            "86cb3ab22c0340f7902927381de2c5f3",
            "d722dd90f0334d4f8cadaef3a5d38d74",
            "81bdb4184e87409b9ef318b896d7f51d",
            "01d7a05eda184b199a63c8d6be0c3ad0",
            "ea288c848ed047bf9f8700b64c74407a",
            "ed120567645841fc841924aef5018951",
            "20053593308a4255ae4b38fe7acfaa1a",
            "12bcfea3aed4424fa49ab7a643f98b82",
            "58c4e8a761d94f47aabbb53bbaff5155",
            "24e04a87b6da4f78b8d6baf29a3263d5",
            "09e5e2180a6349e09b50f945ac901989",
            "e193c926363045f1976148746367af1c",
            "92e41eafce9f4f569e83a7697fdc43c7",
            "50b7aa5e3aa349d6b2ed6258e9d9a448",
            "6e1cdf1362ec4848aee6be1dc8d5e200",
            "76c8b95628824e70b05646669771dd93"
          ]
        },
        "id": "2abb473f-d252-486d-9ed8-ef82b8f97a1f",
        "outputId": "1cb89de8-4f8c-4c52-f8ea-e9766d1f74ae"
      },
      "outputs": [
        {
          "output_type": "display_data",
          "data": {
            "text/plain": [
              "Downloading:   0%|          | 0.00/629 [00:00<?, ?B/s]"
            ],
            "application/vnd.jupyter.widget-view+json": {
              "version_major": 2,
              "version_minor": 0,
              "model_id": "a241e017e5624c09af27350334dbc2f1"
            }
          },
          "metadata": {}
        },
        {
          "output_type": "display_data",
          "data": {
            "text/plain": [
              "Downloading:   0%|          | 0.00/255M [00:00<?, ?B/s]"
            ],
            "application/vnd.jupyter.widget-view+json": {
              "version_major": 2,
              "version_minor": 0,
              "model_id": "5c9e231a13534f7e831efffa380b3bf4"
            }
          },
          "metadata": {}
        },
        {
          "output_type": "display_data",
          "data": {
            "text/plain": [
              "Downloading:   0%|          | 0.00/48.0 [00:00<?, ?B/s]"
            ],
            "application/vnd.jupyter.widget-view+json": {
              "version_major": 2,
              "version_minor": 0,
              "model_id": "969be010655a45dabf2fff3dc91c2104"
            }
          },
          "metadata": {}
        },
        {
          "output_type": "display_data",
          "data": {
            "text/plain": [
              "Downloading:   0%|          | 0.00/226k [00:00<?, ?B/s]"
            ],
            "application/vnd.jupyter.widget-view+json": {
              "version_major": 2,
              "version_minor": 0,
              "model_id": "ed120567645841fc841924aef5018951"
            }
          },
          "metadata": {}
        },
        {
          "output_type": "stream",
          "name": "stderr",
          "text": [
            "05/17/2022 05:49:10 - INFO - happytransformer.happy_transformer -   Using model: cpu\n"
          ]
        }
      ],
      "source": [
        "classifier = HappyTextClassification(model_type=\"DISTILBERT\", model_name=\"distilbert-base-uncased-finetuned-sst-2-english\", num_labels=2)"
      ]
    },
    {
      "cell_type": "code",
      "execution_count": 17,
      "id": "742afd31-102c-43d6-8bff-936f3118e65a",
      "metadata": {
        "colab": {
          "base_uri": "https://localhost:8080/"
        },
        "id": "742afd31-102c-43d6-8bff-936f3118e65a",
        "outputId": "37ccd6c7-acec-49e7-918f-d7be364fe351"
      },
      "outputs": [
        {
          "output_type": "execute_result",
          "data": {
            "text/plain": [
              "array(['This is very helpfull aap.', 'Good',\n",
              "       'Not able to update. Neither able to uninstall.', ...,\n",
              "       \"One thing that I have to say I can't spelled to good but I don't have any problem try to spell to my best\",\n",
              "       'Excellent',\n",
              "       'After update it lag and always slow same goes to googleee ;)))))) !!!! I want to do my work but 🌚'],\n",
              "      dtype=object)"
            ]
          },
          "metadata": {},
          "execution_count": 17
        }
      ],
      "source": [
        "df['Text'].values"
      ]
    },
    {
      "cell_type": "code",
      "execution_count": 18,
      "id": "e455840e-f317-483d-9556-c834e820c1bb",
      "metadata": {
        "id": "e455840e-f317-483d-9556-c834e820c1bb"
      },
      "outputs": [],
      "source": [
        "results = []\n",
        "for i in df['Text'].values:\n",
        "    results.append(classifier.classify_text(i))\n",
        "    "
      ]
    },
    {
      "cell_type": "code",
      "execution_count": 19,
      "id": "67768672-e028-47dd-827a-da6ba789e962",
      "metadata": {
        "tags": [],
        "id": "67768672-e028-47dd-827a-da6ba789e962"
      },
      "outputs": [],
      "source": [
        "results = [1 if res.label=='POSITIVE' else 0 for res in results]"
      ]
    },
    {
      "cell_type": "code",
      "execution_count": 20,
      "id": "46845d14-5962-4c52-88d7-319c3cfe3b4b",
      "metadata": {
        "colab": {
          "base_uri": "https://localhost:8080/"
        },
        "id": "46845d14-5962-4c52-88d7-319c3cfe3b4b",
        "outputId": "db7c8b70-4ebb-4118-ffd0-e9c41c9cb947"
      },
      "outputs": [
        {
          "output_type": "execute_result",
          "data": {
            "text/plain": [
              "[1, 1, 0, 1, 0, 1, 1, 1, 0, 0]"
            ]
          },
          "metadata": {},
          "execution_count": 20
        }
      ],
      "source": [
        "results[:10]"
      ]
    },
    {
      "cell_type": "code",
      "execution_count": 21,
      "id": "be66bda5-b221-4d79-9981-7b40ca822b6f",
      "metadata": {
        "id": "be66bda5-b221-4d79-9981-7b40ca822b6f"
      },
      "outputs": [],
      "source": [
        "df['sentiment'] = results"
      ]
    },
    {
      "cell_type": "markdown",
      "source": [
        "**Considering reviews less than 2.5 as negative reviews**"
      ],
      "metadata": {
        "id": "QJcUr6Tckxh5"
      },
      "id": "QJcUr6Tckxh5"
    },
    {
      "cell_type": "markdown",
      "source": [
        "###Final Faulty Reviews"
      ],
      "metadata": {
        "id": "Vxf_v-39tZ9s"
      },
      "id": "Vxf_v-39tZ9s"
    },
    {
      "cell_type": "code",
      "execution_count": 23,
      "id": "aa7fda57-cdd1-47e7-993d-60151927ad51",
      "metadata": {
        "colab": {
          "base_uri": "https://localhost:8080/",
          "height": 423
        },
        "id": "aa7fda57-cdd1-47e7-993d-60151927ad51",
        "outputId": "07ac42bf-c204-4d56-cef2-c708d115d608"
      },
      "outputs": [
        {
          "output_type": "execute_result",
          "data": {
            "text/plain": [
              "                                                   Text  Star\n",
              "15                Very coming in real status. Thank you     1\n",
              "42                          Okk kind but bad then brave     1\n",
              "84                                    App updated issue     1\n",
              "91                    Jelek..........?!!!!!!!!!!!!!!!!!     1\n",
              "101                                                Good     1\n",
              "...                                                 ...   ...\n",
              "7051                                           Helpfull     1\n",
              "7076                                             Second     2\n",
              "7101                                              Wirst     1\n",
              "7113                                                Idk     1\n",
              "7195  Chrome is good, I trust this update will make ...     1\n",
              "\n",
              "[329 rows x 2 columns]"
            ],
            "text/html": [
              "\n",
              "  <div id=\"df-8540e04f-35a8-4b64-8573-a13f6f0c3b93\">\n",
              "    <div class=\"colab-df-container\">\n",
              "      <div>\n",
              "<style scoped>\n",
              "    .dataframe tbody tr th:only-of-type {\n",
              "        vertical-align: middle;\n",
              "    }\n",
              "\n",
              "    .dataframe tbody tr th {\n",
              "        vertical-align: top;\n",
              "    }\n",
              "\n",
              "    .dataframe thead th {\n",
              "        text-align: right;\n",
              "    }\n",
              "</style>\n",
              "<table border=\"1\" class=\"dataframe\">\n",
              "  <thead>\n",
              "    <tr style=\"text-align: right;\">\n",
              "      <th></th>\n",
              "      <th>Text</th>\n",
              "      <th>Star</th>\n",
              "    </tr>\n",
              "  </thead>\n",
              "  <tbody>\n",
              "    <tr>\n",
              "      <th>15</th>\n",
              "      <td>Very coming in real status. Thank you</td>\n",
              "      <td>1</td>\n",
              "    </tr>\n",
              "    <tr>\n",
              "      <th>42</th>\n",
              "      <td>Okk kind but bad then brave</td>\n",
              "      <td>1</td>\n",
              "    </tr>\n",
              "    <tr>\n",
              "      <th>84</th>\n",
              "      <td>App updated issue</td>\n",
              "      <td>1</td>\n",
              "    </tr>\n",
              "    <tr>\n",
              "      <th>91</th>\n",
              "      <td>Jelek..........?!!!!!!!!!!!!!!!!!</td>\n",
              "      <td>1</td>\n",
              "    </tr>\n",
              "    <tr>\n",
              "      <th>101</th>\n",
              "      <td>Good</td>\n",
              "      <td>1</td>\n",
              "    </tr>\n",
              "    <tr>\n",
              "      <th>...</th>\n",
              "      <td>...</td>\n",
              "      <td>...</td>\n",
              "    </tr>\n",
              "    <tr>\n",
              "      <th>7051</th>\n",
              "      <td>Helpfull</td>\n",
              "      <td>1</td>\n",
              "    </tr>\n",
              "    <tr>\n",
              "      <th>7076</th>\n",
              "      <td>Second</td>\n",
              "      <td>2</td>\n",
              "    </tr>\n",
              "    <tr>\n",
              "      <th>7101</th>\n",
              "      <td>Wirst</td>\n",
              "      <td>1</td>\n",
              "    </tr>\n",
              "    <tr>\n",
              "      <th>7113</th>\n",
              "      <td>Idk</td>\n",
              "      <td>1</td>\n",
              "    </tr>\n",
              "    <tr>\n",
              "      <th>7195</th>\n",
              "      <td>Chrome is good, I trust this update will make ...</td>\n",
              "      <td>1</td>\n",
              "    </tr>\n",
              "  </tbody>\n",
              "</table>\n",
              "<p>329 rows × 2 columns</p>\n",
              "</div>\n",
              "      <button class=\"colab-df-convert\" onclick=\"convertToInteractive('df-8540e04f-35a8-4b64-8573-a13f6f0c3b93')\"\n",
              "              title=\"Convert this dataframe to an interactive table.\"\n",
              "              style=\"display:none;\">\n",
              "        \n",
              "  <svg xmlns=\"http://www.w3.org/2000/svg\" height=\"24px\"viewBox=\"0 0 24 24\"\n",
              "       width=\"24px\">\n",
              "    <path d=\"M0 0h24v24H0V0z\" fill=\"none\"/>\n",
              "    <path d=\"M18.56 5.44l.94 2.06.94-2.06 2.06-.94-2.06-.94-.94-2.06-.94 2.06-2.06.94zm-11 1L8.5 8.5l.94-2.06 2.06-.94-2.06-.94L8.5 2.5l-.94 2.06-2.06.94zm10 10l.94 2.06.94-2.06 2.06-.94-2.06-.94-.94-2.06-.94 2.06-2.06.94z\"/><path d=\"M17.41 7.96l-1.37-1.37c-.4-.4-.92-.59-1.43-.59-.52 0-1.04.2-1.43.59L10.3 9.45l-7.72 7.72c-.78.78-.78 2.05 0 2.83L4 21.41c.39.39.9.59 1.41.59.51 0 1.02-.2 1.41-.59l7.78-7.78 2.81-2.81c.8-.78.8-2.07 0-2.86zM5.41 20L4 18.59l7.72-7.72 1.47 1.35L5.41 20z\"/>\n",
              "  </svg>\n",
              "      </button>\n",
              "      \n",
              "  <style>\n",
              "    .colab-df-container {\n",
              "      display:flex;\n",
              "      flex-wrap:wrap;\n",
              "      gap: 12px;\n",
              "    }\n",
              "\n",
              "    .colab-df-convert {\n",
              "      background-color: #E8F0FE;\n",
              "      border: none;\n",
              "      border-radius: 50%;\n",
              "      cursor: pointer;\n",
              "      display: none;\n",
              "      fill: #1967D2;\n",
              "      height: 32px;\n",
              "      padding: 0 0 0 0;\n",
              "      width: 32px;\n",
              "    }\n",
              "\n",
              "    .colab-df-convert:hover {\n",
              "      background-color: #E2EBFA;\n",
              "      box-shadow: 0px 1px 2px rgba(60, 64, 67, 0.3), 0px 1px 3px 1px rgba(60, 64, 67, 0.15);\n",
              "      fill: #174EA6;\n",
              "    }\n",
              "\n",
              "    [theme=dark] .colab-df-convert {\n",
              "      background-color: #3B4455;\n",
              "      fill: #D2E3FC;\n",
              "    }\n",
              "\n",
              "    [theme=dark] .colab-df-convert:hover {\n",
              "      background-color: #434B5C;\n",
              "      box-shadow: 0px 1px 3px 1px rgba(0, 0, 0, 0.15);\n",
              "      filter: drop-shadow(0px 1px 2px rgba(0, 0, 0, 0.3));\n",
              "      fill: #FFFFFF;\n",
              "    }\n",
              "  </style>\n",
              "\n",
              "      <script>\n",
              "        const buttonEl =\n",
              "          document.querySelector('#df-8540e04f-35a8-4b64-8573-a13f6f0c3b93 button.colab-df-convert');\n",
              "        buttonEl.style.display =\n",
              "          google.colab.kernel.accessAllowed ? 'block' : 'none';\n",
              "\n",
              "        async function convertToInteractive(key) {\n",
              "          const element = document.querySelector('#df-8540e04f-35a8-4b64-8573-a13f6f0c3b93');\n",
              "          const dataTable =\n",
              "            await google.colab.kernel.invokeFunction('convertToInteractive',\n",
              "                                                     [key], {});\n",
              "          if (!dataTable) return;\n",
              "\n",
              "          const docLinkHtml = 'Like what you see? Visit the ' +\n",
              "            '<a target=\"_blank\" href=https://colab.research.google.com/notebooks/data_table.ipynb>data table notebook</a>'\n",
              "            + ' to learn more about interactive tables.';\n",
              "          element.innerHTML = '';\n",
              "          dataTable['output_type'] = 'display_data';\n",
              "          await google.colab.output.renderOutput(dataTable, element);\n",
              "          const docLink = document.createElement('div');\n",
              "          docLink.innerHTML = docLinkHtml;\n",
              "          element.appendChild(docLink);\n",
              "        }\n",
              "      </script>\n",
              "    </div>\n",
              "  </div>\n",
              "  "
            ]
          },
          "metadata": {},
          "execution_count": 23
        }
      ],
      "source": [
        "df[(df['sentiment']==1) & (df['Star']<2.5)][['Text', 'Star']]"
      ]
    },
    {
      "cell_type": "markdown",
      "source": [
        "## Finding correlation between attributes i.e. quesiton 1.3"
      ],
      "metadata": {
        "id": "h9-bBj_Or91N"
      },
      "id": "h9-bBj_Or91N"
    },
    {
      "cell_type": "code",
      "source": [
        "!gdown 1yuDyU7EjJ8Nai83FDdIF2w4inm17NzBF"
      ],
      "metadata": {
        "id": "OqIQjDOtsIkc"
      },
      "id": "OqIQjDOtsIkc",
      "execution_count": null,
      "outputs": []
    },
    {
      "cell_type": "code",
      "execution_count": null,
      "id": "77802659-0a73-4b5e-b49f-51271a649866",
      "metadata": {
        "id": "77802659-0a73-4b5e-b49f-51271a649866"
      },
      "outputs": [],
      "source": [
        "df_ranking = pd.read_csv('browser_rankings_data.csv', header=1)"
      ]
    },
    {
      "cell_type": "markdown",
      "source": [
        "**Some Preprocessing**"
      ],
      "metadata": {
        "id": "7xHJEi8ItTvJ"
      },
      "id": "7xHJEi8ItTvJ"
    },
    {
      "cell_type": "code",
      "execution_count": null,
      "id": "730e5a11-0b00-45db-aefc-f79232497146",
      "metadata": {
        "id": "730e5a11-0b00-45db-aefc-f79232497146",
        "outputId": "af33cfc3-459f-4c55-ab28-58fd80be9aa0"
      },
      "outputs": [
        {
          "data": {
            "text/html": [
              "<div>\n",
              "<style scoped>\n",
              "    .dataframe tbody tr th:only-of-type {\n",
              "        vertical-align: middle;\n",
              "    }\n",
              "\n",
              "    .dataframe tbody tr th {\n",
              "        vertical-align: top;\n",
              "    }\n",
              "\n",
              "    .dataframe thead th {\n",
              "        text-align: right;\n",
              "    }\n",
              "</style>\n",
              "<table border=\"1\" class=\"dataframe\">\n",
              "  <thead>\n",
              "    <tr style=\"text-align: right;\">\n",
              "      <th></th>\n",
              "      <th>ID</th>\n",
              "      <th>Rank</th>\n",
              "    </tr>\n",
              "  </thead>\n",
              "  <tbody>\n",
              "    <tr>\n",
              "      <th>count</th>\n",
              "      <td>3066.000000</td>\n",
              "      <td>3050.000000</td>\n",
              "    </tr>\n",
              "    <tr>\n",
              "      <th>mean</th>\n",
              "      <td>57109.156230</td>\n",
              "      <td>15.155738</td>\n",
              "    </tr>\n",
              "    <tr>\n",
              "      <th>std</th>\n",
              "      <td>39290.651658</td>\n",
              "      <td>24.268403</td>\n",
              "    </tr>\n",
              "    <tr>\n",
              "      <th>min</th>\n",
              "      <td>1.000000</td>\n",
              "      <td>1.000000</td>\n",
              "    </tr>\n",
              "    <tr>\n",
              "      <th>25%</th>\n",
              "      <td>22484.000000</td>\n",
              "      <td>2.000000</td>\n",
              "    </tr>\n",
              "    <tr>\n",
              "      <th>50%</th>\n",
              "      <td>52427.000000</td>\n",
              "      <td>5.000000</td>\n",
              "    </tr>\n",
              "    <tr>\n",
              "      <th>75%</th>\n",
              "      <td>90683.750000</td>\n",
              "      <td>16.000000</td>\n",
              "    </tr>\n",
              "    <tr>\n",
              "      <th>max</th>\n",
              "      <td>131576.000000</td>\n",
              "      <td>134.000000</td>\n",
              "    </tr>\n",
              "  </tbody>\n",
              "</table>\n",
              "</div>"
            ],
            "text/plain": [
              "                  ID         Rank\n",
              "count    3066.000000  3050.000000\n",
              "mean    57109.156230    15.155738\n",
              "std     39290.651658    24.268403\n",
              "min         1.000000     1.000000\n",
              "25%     22484.000000     2.000000\n",
              "50%     52427.000000     5.000000\n",
              "75%     90683.750000    16.000000\n",
              "max    131576.000000   134.000000"
            ]
          },
          "execution_count": 22,
          "metadata": {},
          "output_type": "execute_result"
        }
      ],
      "source": [
        "df_ranking.describe()"
      ]
    },
    {
      "cell_type": "code",
      "execution_count": null,
      "id": "8f11b0b1-7f76-4a44-8ce8-e06f8e9fe725",
      "metadata": {
        "id": "8f11b0b1-7f76-4a44-8ce8-e06f8e9fe725",
        "outputId": "c59791a8-dba0-4e5d-fd96-568a7baba140"
      },
      "outputs": [
        {
          "data": {
            "text/html": [
              "<div>\n",
              "<style scoped>\n",
              "    .dataframe tbody tr th:only-of-type {\n",
              "        vertical-align: middle;\n",
              "    }\n",
              "\n",
              "    .dataframe tbody tr th {\n",
              "        vertical-align: top;\n",
              "    }\n",
              "\n",
              "    .dataframe thead th {\n",
              "        text-align: right;\n",
              "    }\n",
              "</style>\n",
              "<table border=\"1\" class=\"dataframe\">\n",
              "  <thead>\n",
              "    <tr style=\"text-align: right;\">\n",
              "      <th></th>\n",
              "      <th>ID</th>\n",
              "      <th>Keyword</th>\n",
              "      <th>Rank</th>\n",
              "      <th>Country</th>\n",
              "      <th>Language</th>\n",
              "      <th>Date</th>\n",
              "      <th>App ID</th>\n",
              "      <th>Date of Last Description Change</th>\n",
              "      <th>Short Description</th>\n",
              "      <th>Long Description</th>\n",
              "    </tr>\n",
              "  </thead>\n",
              "  <tbody>\n",
              "    <tr>\n",
              "      <th>0</th>\n",
              "      <td>1</td>\n",
              "      <td>browser</td>\n",
              "      <td>2.0</td>\n",
              "      <td>in</td>\n",
              "      <td>en</td>\n",
              "      <td>2020-12-16</td>\n",
              "      <td>net.fast.web.browser</td>\n",
              "      <td>2020-12-18</td>\n",
              "      <td>The small, fastest, secure Web Browser, best m...</td>\n",
              "      <td>One of the smallest, fastest, secure Web Brows...</td>\n",
              "    </tr>\n",
              "    <tr>\n",
              "      <th>1</th>\n",
              "      <td>2</td>\n",
              "      <td>browser</td>\n",
              "      <td>3.0</td>\n",
              "      <td>in</td>\n",
              "      <td>en</td>\n",
              "      <td>2020-12-16</td>\n",
              "      <td>com.android.chrome</td>\n",
              "      <td>2020-12-18</td>\n",
              "      <td>Fast, simple, and secure. Google Chrome browse...</td>\n",
              "      <td>Google Chrome is a fast, easy to use, and secu...</td>\n",
              "    </tr>\n",
              "    <tr>\n",
              "      <th>2</th>\n",
              "      <td>3</td>\n",
              "      <td>browser</td>\n",
              "      <td>4.0</td>\n",
              "      <td>in</td>\n",
              "      <td>en</td>\n",
              "      <td>2020-12-16</td>\n",
              "      <td>com.opera.browser</td>\n",
              "      <td>2021-02-27</td>\n",
              "      <td>Fast, safe web browser: free VPN, Ad blocker, ...</td>\n",
              "      <td>Fast, safe and private, introducing the latest...</td>\n",
              "    </tr>\n",
              "    <tr>\n",
              "      <th>3</th>\n",
              "      <td>3</td>\n",
              "      <td>browser</td>\n",
              "      <td>4.0</td>\n",
              "      <td>in</td>\n",
              "      <td>en</td>\n",
              "      <td>2020-12-16</td>\n",
              "      <td>com.opera.browser</td>\n",
              "      <td>2020-12-18</td>\n",
              "      <td>Fast, safe web browser: free VPN, Ad blocker, ...</td>\n",
              "      <td>Opera is a fast, safe web browser for your And...</td>\n",
              "    </tr>\n",
              "    <tr>\n",
              "      <th>4</th>\n",
              "      <td>4</td>\n",
              "      <td>browser</td>\n",
              "      <td>1.0</td>\n",
              "      <td>in</td>\n",
              "      <td>en</td>\n",
              "      <td>2020-12-16</td>\n",
              "      <td>com.cloudmosa.puffinTV</td>\n",
              "      <td>2021-02-07</td>\n",
              "      <td>Puffin TV Browser - One App to Watch All Video...</td>\n",
              "      <td>Puffin TV Browser is a special edition of Puff...</td>\n",
              "    </tr>\n",
              "  </tbody>\n",
              "</table>\n",
              "</div>"
            ],
            "text/plain": [
              "   ID  Keyword  Rank Country Language        Date                  App ID  \\\n",
              "0   1  browser   2.0      in       en  2020-12-16    net.fast.web.browser   \n",
              "1   2  browser   3.0      in       en  2020-12-16      com.android.chrome   \n",
              "2   3  browser   4.0      in       en  2020-12-16       com.opera.browser   \n",
              "3   3  browser   4.0      in       en  2020-12-16       com.opera.browser   \n",
              "4   4  browser   1.0      in       en  2020-12-16  com.cloudmosa.puffinTV   \n",
              "\n",
              "  Date of Last Description Change  \\\n",
              "0                      2020-12-18   \n",
              "1                      2020-12-18   \n",
              "2                      2021-02-27   \n",
              "3                      2020-12-18   \n",
              "4                      2021-02-07   \n",
              "\n",
              "                                   Short Description  \\\n",
              "0  The small, fastest, secure Web Browser, best m...   \n",
              "1  Fast, simple, and secure. Google Chrome browse...   \n",
              "2  Fast, safe web browser: free VPN, Ad blocker, ...   \n",
              "3  Fast, safe web browser: free VPN, Ad blocker, ...   \n",
              "4  Puffin TV Browser - One App to Watch All Video...   \n",
              "\n",
              "                                    Long Description  \n",
              "0  One of the smallest, fastest, secure Web Brows...  \n",
              "1  Google Chrome is a fast, easy to use, and secu...  \n",
              "2  Fast, safe and private, introducing the latest...  \n",
              "3  Opera is a fast, safe web browser for your And...  \n",
              "4  Puffin TV Browser is a special edition of Puff...  "
            ]
          },
          "execution_count": 23,
          "metadata": {},
          "output_type": "execute_result"
        }
      ],
      "source": [
        "df_ranking.head()"
      ]
    },
    {
      "cell_type": "code",
      "execution_count": null,
      "id": "e9dfc5e4-d99b-4f1d-9a6c-2ae170a0e382",
      "metadata": {
        "id": "e9dfc5e4-d99b-4f1d-9a6c-2ae170a0e382",
        "outputId": "994bf80c-aad3-4938-9e57-546cdd2f441a"
      },
      "outputs": [
        {
          "data": {
            "text/plain": [
              "Index(['ID', 'Keyword', 'Rank', 'Country', 'Language', 'Date', 'App ID',\n",
              "       'Date of Last Description Change', 'Short Description',\n",
              "       'Long Description'],\n",
              "      dtype='object')"
            ]
          },
          "execution_count": 24,
          "metadata": {},
          "output_type": "execute_result"
        }
      ],
      "source": [
        "df_ranking.columns"
      ]
    },
    {
      "cell_type": "code",
      "execution_count": null,
      "id": "2ba009dc-b38a-4335-aa99-1052d68da638",
      "metadata": {
        "id": "2ba009dc-b38a-4335-aa99-1052d68da638",
        "outputId": "bdc96e05-1173-45cb-ffe5-69d40b897716"
      },
      "outputs": [
        {
          "data": {
            "text/html": [
              "<div>\n",
              "<style scoped>\n",
              "    .dataframe tbody tr th:only-of-type {\n",
              "        vertical-align: middle;\n",
              "    }\n",
              "\n",
              "    .dataframe tbody tr th {\n",
              "        vertical-align: top;\n",
              "    }\n",
              "\n",
              "    .dataframe thead th {\n",
              "        text-align: right;\n",
              "    }\n",
              "</style>\n",
              "<table border=\"1\" class=\"dataframe\">\n",
              "  <thead>\n",
              "    <tr style=\"text-align: right;\">\n",
              "      <th></th>\n",
              "      <th>ID</th>\n",
              "      <th>Rank</th>\n",
              "    </tr>\n",
              "  </thead>\n",
              "  <tbody>\n",
              "    <tr>\n",
              "      <th>count</th>\n",
              "      <td>3066.000000</td>\n",
              "      <td>3050.000000</td>\n",
              "    </tr>\n",
              "    <tr>\n",
              "      <th>mean</th>\n",
              "      <td>57109.156230</td>\n",
              "      <td>15.155738</td>\n",
              "    </tr>\n",
              "    <tr>\n",
              "      <th>std</th>\n",
              "      <td>39290.651658</td>\n",
              "      <td>24.268403</td>\n",
              "    </tr>\n",
              "    <tr>\n",
              "      <th>min</th>\n",
              "      <td>1.000000</td>\n",
              "      <td>1.000000</td>\n",
              "    </tr>\n",
              "    <tr>\n",
              "      <th>25%</th>\n",
              "      <td>22484.000000</td>\n",
              "      <td>2.000000</td>\n",
              "    </tr>\n",
              "    <tr>\n",
              "      <th>50%</th>\n",
              "      <td>52427.000000</td>\n",
              "      <td>5.000000</td>\n",
              "    </tr>\n",
              "    <tr>\n",
              "      <th>75%</th>\n",
              "      <td>90683.750000</td>\n",
              "      <td>16.000000</td>\n",
              "    </tr>\n",
              "    <tr>\n",
              "      <th>max</th>\n",
              "      <td>131576.000000</td>\n",
              "      <td>134.000000</td>\n",
              "    </tr>\n",
              "  </tbody>\n",
              "</table>\n",
              "</div>"
            ],
            "text/plain": [
              "                  ID         Rank\n",
              "count    3066.000000  3050.000000\n",
              "mean    57109.156230    15.155738\n",
              "std     39290.651658    24.268403\n",
              "min         1.000000     1.000000\n",
              "25%     22484.000000     2.000000\n",
              "50%     52427.000000     5.000000\n",
              "75%     90683.750000    16.000000\n",
              "max    131576.000000   134.000000"
            ]
          },
          "execution_count": 25,
          "metadata": {},
          "output_type": "execute_result"
        }
      ],
      "source": [
        "df_ranking.describe()"
      ]
    },
    {
      "cell_type": "code",
      "execution_count": null,
      "id": "be66a4c1-4abd-49b3-aa25-dec9b140a496",
      "metadata": {
        "id": "be66a4c1-4abd-49b3-aa25-dec9b140a496",
        "outputId": "bd6046b1-fbd7-43b6-c086-836e0e65741e"
      },
      "outputs": [
        {
          "data": {
            "text/plain": [
              "79.0"
            ]
          },
          "execution_count": 26,
          "metadata": {},
          "output_type": "execute_result"
        }
      ],
      "source": [
        "\n",
        "df_ranking.Rank.quantile(0.95)"
      ]
    },
    {
      "cell_type": "code",
      "execution_count": null,
      "id": "daf9c867-1cf8-4d7d-9050-b0229b8e82db",
      "metadata": {
        "id": "daf9c867-1cf8-4d7d-9050-b0229b8e82db",
        "outputId": "80115f4b-781e-44bf-e3c8-e3b44158f379"
      },
      "outputs": [
        {
          "data": {
            "text/plain": [
              "browser                         608\n",
              "android browser                 608\n",
              "privacy browser                 370\n",
              "privacy browsers for android    370\n",
              "best privacy browsers           370\n",
              "fast browser                    370\n",
              "ad free browser                 370\n",
              "Name: Keyword, dtype: int64"
            ]
          },
          "execution_count": 27,
          "metadata": {},
          "output_type": "execute_result"
        }
      ],
      "source": [
        "df_ranking['Keyword'].value_counts()"
      ]
    },
    {
      "cell_type": "code",
      "execution_count": null,
      "id": "653afb9d-c9e3-4ae2-8280-6f60e3ba9081",
      "metadata": {
        "id": "653afb9d-c9e3-4ae2-8280-6f60e3ba9081",
        "outputId": "4b022734-a02f-43b4-8a8c-643ff973c922"
      },
      "outputs": [
        {
          "data": {
            "text/plain": [
              "[]"
            ]
          },
          "execution_count": 28,
          "metadata": {},
          "output_type": "execute_result"
        },
        {
          "data": {
            "image/png": "[encoded data removed]",
            "text/plain": [
              "<Figure size 432x288 with 1 Axes>"
            ]
          },
          "metadata": {
            "needs_background": "light"
          },
          "output_type": "display_data"
        }
      ],
      "source": [
        "import matplotlib.pyplot as plt\n",
        "plt.boxplot(x=df_ranking[df_ranking['Keyword']=='browser']['Rank'])\n",
        "plt.title('Keyword : browser')\n",
        "plt.plot()"
      ]
    },
    {
      "cell_type": "code",
      "execution_count": null,
      "id": "a90b4a59-5591-487e-bb01-2f871f18bf1e",
      "metadata": {
        "id": "a90b4a59-5591-487e-bb01-2f871f18bf1e",
        "outputId": "093cb076-f578-4ef4-c1c9-affc42da0d4f"
      },
      "outputs": [
        {
          "data": {
            "text/plain": [
              "[]"
            ]
          },
          "execution_count": 29,
          "metadata": {},
          "output_type": "execute_result"
        },
        {
          "data": {
            "image/png": "[encoded data removed]",
            "text/plain": [
              "<Figure size 432x288 with 1 Axes>"
            ]
          },
          "metadata": {
            "needs_background": "light"
          },
          "output_type": "display_data"
        }
      ],
      "source": [
        "plt.boxplot(x=df_ranking[df_ranking['Keyword']=='android browser']['Rank'])\n",
        "plt.title('Keyword : android browser')\n",
        "plt.plot()"
      ]
    },
    {
      "cell_type": "code",
      "execution_count": null,
      "id": "e4ef7fbf-b55c-468e-a6f6-1a0cde6a9930",
      "metadata": {
        "id": "e4ef7fbf-b55c-468e-a6f6-1a0cde6a9930"
      },
      "outputs": [],
      "source": [
        "df_ranking['Keyword_codes'] = pd.factorize(df_ranking['Keyword'])[0]"
      ]
    },
    {
      "cell_type": "code",
      "execution_count": null,
      "id": "3853bdce-82c9-41c9-8b08-990155ac8f02",
      "metadata": {
        "id": "3853bdce-82c9-41c9-8b08-990155ac8f02",
        "outputId": "fce6a329-f85b-4bb0-a443-0147b419b937"
      },
      "outputs": [
        {
          "data": {
            "text/plain": [
              "0    608\n",
              "1    608\n",
              "2    370\n",
              "3    370\n",
              "4    370\n",
              "5    370\n",
              "6    370\n",
              "Name: Keyword_codes, dtype: int64"
            ]
          },
          "execution_count": 31,
          "metadata": {},
          "output_type": "execute_result"
        }
      ],
      "source": [
        "df_ranking['Keyword_codes'].value_counts()"
      ]
    },
    {
      "cell_type": "code",
      "execution_count": null,
      "id": "5cc7d5e1-79bc-473c-b6ee-d6b31a1a5ee7",
      "metadata": {
        "id": "5cc7d5e1-79bc-473c-b6ee-d6b31a1a5ee7",
        "outputId": "42b86574-a6b2-468b-c97f-c497b2f467f8"
      },
      "outputs": [
        {
          "data": {
            "text/plain": [
              "<matplotlib.collections.PathCollection at 0x7fc8967184d0>"
            ]
          },
          "execution_count": 32,
          "metadata": {},
          "output_type": "execute_result"
        },
        {
          "data": {
            "image/png": "[encoded data removed]",
            "text/plain": [
              "<Figure size 432x288 with 1 Axes>"
            ]
          },
          "metadata": {
            "needs_background": "light"
          },
          "output_type": "display_data"
        }
      ],
      "source": [
        "plt.scatter(y=df_ranking['Keyword_codes'], x=df_ranking['Rank'])"
      ]
    },
    {
      "cell_type": "code",
      "execution_count": null,
      "id": "b2cb86cc-2216-44e9-9594-411cdb63d6f1",
      "metadata": {
        "id": "b2cb86cc-2216-44e9-9594-411cdb63d6f1",
        "outputId": "ac8ffb75-9923-433e-9a7b-b945161fe24c"
      },
      "outputs": [
        {
          "name": "stdout",
          "output_type": "stream",
          "text": [
            "                     ID      Rank  Keyword_codes\n",
            "ID             1.000000  0.008355       0.004043\n",
            "Rank           0.008355  1.000000       0.329200\n",
            "Keyword_codes  0.004043  0.329200       1.000000\n"
          ]
        }
      ],
      "source": [
        "corr = df_ranking.corr()\n",
        "print(corr)"
      ]
    },
    {
      "cell_type": "markdown",
      "source": [
        "**Adding the length of short and long description as features**"
      ],
      "metadata": {
        "id": "OtLu_odHtGZ4"
      },
      "id": "OtLu_odHtGZ4"
    },
    {
      "cell_type": "code",
      "execution_count": null,
      "id": "ec52fa5e-58f9-483e-be14-97be5817a28c",
      "metadata": {
        "id": "ec52fa5e-58f9-483e-be14-97be5817a28c"
      },
      "outputs": [],
      "source": [
        "df_ranking['short_des_len']=df_ranking['Short Description'].apply(len)"
      ]
    },
    {
      "cell_type": "code",
      "execution_count": null,
      "id": "242898d4-e9c7-4873-8970-a295781965ae",
      "metadata": {
        "id": "242898d4-e9c7-4873-8970-a295781965ae",
        "outputId": "353f8e59-59d4-4736-d654-a2b0d8e05040"
      },
      "outputs": [
        {
          "data": {
            "text/plain": [
              "0       80\n",
              "1       79\n",
              "2       84\n",
              "3       84\n",
              "4       58\n",
              "        ..\n",
              "3061    84\n",
              "3062    58\n",
              "3063    58\n",
              "3064    59\n",
              "3065    59\n",
              "Name: short_des_len, Length: 3066, dtype: int64"
            ]
          },
          "execution_count": 35,
          "metadata": {},
          "output_type": "execute_result"
        }
      ],
      "source": [
        "df_ranking['short_des_len']"
      ]
    },
    {
      "cell_type": "code",
      "execution_count": null,
      "id": "131721d0-09e8-4081-b471-b26aa2378b6f",
      "metadata": {
        "id": "131721d0-09e8-4081-b471-b26aa2378b6f"
      },
      "outputs": [],
      "source": [
        "df_ranking['long_des_len']=df_ranking['Long Description'].apply(len)"
      ]
    },
    {
      "cell_type": "code",
      "execution_count": null,
      "id": "007999fe-a925-4c59-8a8f-4e252d4567fd",
      "metadata": {
        "id": "007999fe-a925-4c59-8a8f-4e252d4567fd",
        "outputId": "e9b2768c-296e-41e6-8e53-6f639d3e6b45"
      },
      "outputs": [
        {
          "data": {
            "text/plain": [
              "Index(['ID', 'Keyword', 'Rank', 'Country', 'Language', 'Date', 'App ID',\n",
              "       'Date of Last Description Change', 'Short Description',\n",
              "       'Long Description', 'Keyword_codes', 'short_des_len', 'long_des_len'],\n",
              "      dtype='object')"
            ]
          },
          "execution_count": 37,
          "metadata": {},
          "output_type": "execute_result"
        }
      ],
      "source": [
        "df_ranking.columns"
      ]
    },
    {
      "cell_type": "code",
      "execution_count": null,
      "id": "7591d3c6-d60a-43e9-8756-e5d86582242c",
      "metadata": {
        "id": "7591d3c6-d60a-43e9-8756-e5d86582242c",
        "outputId": "4cb38d03-79d7-4ddb-c61e-462cd25fa1c9"
      },
      "outputs": [
        {
          "data": {
            "text/html": [
              "<div>\n",
              "<style scoped>\n",
              "    .dataframe tbody tr th:only-of-type {\n",
              "        vertical-align: middle;\n",
              "    }\n",
              "\n",
              "    .dataframe tbody tr th {\n",
              "        vertical-align: top;\n",
              "    }\n",
              "\n",
              "    .dataframe thead th {\n",
              "        text-align: right;\n",
              "    }\n",
              "</style>\n",
              "<table border=\"1\" class=\"dataframe\">\n",
              "  <thead>\n",
              "    <tr style=\"text-align: right;\">\n",
              "      <th></th>\n",
              "      <th>ID</th>\n",
              "      <th>Rank</th>\n",
              "      <th>Keyword_codes</th>\n",
              "      <th>short_des_len</th>\n",
              "      <th>long_des_len</th>\n",
              "    </tr>\n",
              "  </thead>\n",
              "  <tbody>\n",
              "    <tr>\n",
              "      <th>count</th>\n",
              "      <td>3066.000000</td>\n",
              "      <td>3050.000000</td>\n",
              "      <td>3066.000000</td>\n",
              "      <td>3066.000000</td>\n",
              "      <td>3066.000000</td>\n",
              "    </tr>\n",
              "    <tr>\n",
              "      <th>mean</th>\n",
              "      <td>57109.156230</td>\n",
              "      <td>15.155738</td>\n",
              "      <td>2.611872</td>\n",
              "      <td>72.825179</td>\n",
              "      <td>2407.330072</td>\n",
              "    </tr>\n",
              "    <tr>\n",
              "      <th>std</th>\n",
              "      <td>39290.651658</td>\n",
              "      <td>24.268403</td>\n",
              "      <td>2.058851</td>\n",
              "      <td>8.665137</td>\n",
              "      <td>934.209784</td>\n",
              "    </tr>\n",
              "    <tr>\n",
              "      <th>min</th>\n",
              "      <td>1.000000</td>\n",
              "      <td>1.000000</td>\n",
              "      <td>0.000000</td>\n",
              "      <td>58.000000</td>\n",
              "      <td>1283.000000</td>\n",
              "    </tr>\n",
              "    <tr>\n",
              "      <th>25%</th>\n",
              "      <td>22484.000000</td>\n",
              "      <td>2.000000</td>\n",
              "      <td>1.000000</td>\n",
              "      <td>69.000000</td>\n",
              "      <td>1440.000000</td>\n",
              "    </tr>\n",
              "    <tr>\n",
              "      <th>50%</th>\n",
              "      <td>52427.000000</td>\n",
              "      <td>5.000000</td>\n",
              "      <td>2.000000</td>\n",
              "      <td>75.000000</td>\n",
              "      <td>2771.000000</td>\n",
              "    </tr>\n",
              "    <tr>\n",
              "      <th>75%</th>\n",
              "      <td>90683.750000</td>\n",
              "      <td>16.000000</td>\n",
              "      <td>4.000000</td>\n",
              "      <td>80.000000</td>\n",
              "      <td>3229.000000</td>\n",
              "    </tr>\n",
              "    <tr>\n",
              "      <th>max</th>\n",
              "      <td>131576.000000</td>\n",
              "      <td>134.000000</td>\n",
              "      <td>6.000000</td>\n",
              "      <td>84.000000</td>\n",
              "      <td>3939.000000</td>\n",
              "    </tr>\n",
              "  </tbody>\n",
              "</table>\n",
              "</div>"
            ],
            "text/plain": [
              "                  ID         Rank  Keyword_codes  short_des_len  long_des_len\n",
              "count    3066.000000  3050.000000    3066.000000    3066.000000   3066.000000\n",
              "mean    57109.156230    15.155738       2.611872      72.825179   2407.330072\n",
              "std     39290.651658    24.268403       2.058851       8.665137    934.209784\n",
              "min         1.000000     1.000000       0.000000      58.000000   1283.000000\n",
              "25%     22484.000000     2.000000       1.000000      69.000000   1440.000000\n",
              "50%     52427.000000     5.000000       2.000000      75.000000   2771.000000\n",
              "75%     90683.750000    16.000000       4.000000      80.000000   3229.000000\n",
              "max    131576.000000   134.000000       6.000000      84.000000   3939.000000"
            ]
          },
          "execution_count": 38,
          "metadata": {},
          "output_type": "execute_result"
        }
      ],
      "source": [
        "df_ranking.describe()"
      ]
    },
    {
      "cell_type": "code",
      "execution_count": null,
      "id": "48bfb547-633f-40f0-b927-4648057c1f91",
      "metadata": {
        "id": "48bfb547-633f-40f0-b927-4648057c1f91"
      },
      "outputs": [],
      "source": [
        ""
      ]
    },
    {
      "cell_type": "code",
      "execution_count": null,
      "id": "64fbec03-37b4-4f6a-aa6a-e7bf04c5136a",
      "metadata": {
        "id": "64fbec03-37b4-4f6a-aa6a-e7bf04c5136a",
        "outputId": "6bff60e8-5335-42b9-ec76-22e627029af0"
      },
      "outputs": [
        {
          "data": {
            "text/html": [
              "<div>\n",
              "<style scoped>\n",
              "    .dataframe tbody tr th:only-of-type {\n",
              "        vertical-align: middle;\n",
              "    }\n",
              "\n",
              "    .dataframe tbody tr th {\n",
              "        vertical-align: top;\n",
              "    }\n",
              "\n",
              "    .dataframe thead th {\n",
              "        text-align: right;\n",
              "    }\n",
              "</style>\n",
              "<table border=\"1\" class=\"dataframe\">\n",
              "  <thead>\n",
              "    <tr style=\"text-align: right;\">\n",
              "      <th></th>\n",
              "      <th>ID</th>\n",
              "      <th>Rank</th>\n",
              "      <th>Keyword_codes</th>\n",
              "      <th>short_des_len</th>\n",
              "      <th>long_des_len</th>\n",
              "    </tr>\n",
              "  </thead>\n",
              "  <tbody>\n",
              "    <tr>\n",
              "      <th>ID</th>\n",
              "      <td>1.000000</td>\n",
              "      <td>0.008355</td>\n",
              "      <td>0.004043</td>\n",
              "      <td>0.001208</td>\n",
              "      <td>0.001040</td>\n",
              "    </tr>\n",
              "    <tr>\n",
              "      <th>Rank</th>\n",
              "      <td>0.008355</td>\n",
              "      <td>1.000000</td>\n",
              "      <td>0.329200</td>\n",
              "      <td>0.208939</td>\n",
              "      <td>0.365600</td>\n",
              "    </tr>\n",
              "    <tr>\n",
              "      <th>Keyword_codes</th>\n",
              "      <td>0.004043</td>\n",
              "      <td>0.329200</td>\n",
              "      <td>1.000000</td>\n",
              "      <td>0.210166</td>\n",
              "      <td>0.181085</td>\n",
              "    </tr>\n",
              "    <tr>\n",
              "      <th>short_des_len</th>\n",
              "      <td>0.001208</td>\n",
              "      <td>0.208939</td>\n",
              "      <td>0.210166</td>\n",
              "      <td>1.000000</td>\n",
              "      <td>0.728093</td>\n",
              "    </tr>\n",
              "    <tr>\n",
              "      <th>long_des_len</th>\n",
              "      <td>0.001040</td>\n",
              "      <td>0.365600</td>\n",
              "      <td>0.181085</td>\n",
              "      <td>0.728093</td>\n",
              "      <td>1.000000</td>\n",
              "    </tr>\n",
              "  </tbody>\n",
              "</table>\n",
              "</div>"
            ],
            "text/plain": [
              "                     ID      Rank  Keyword_codes  short_des_len  long_des_len\n",
              "ID             1.000000  0.008355       0.004043       0.001208      0.001040\n",
              "Rank           0.008355  1.000000       0.329200       0.208939      0.365600\n",
              "Keyword_codes  0.004043  0.329200       1.000000       0.210166      0.181085\n",
              "short_des_len  0.001208  0.208939       0.210166       1.000000      0.728093\n",
              "long_des_len   0.001040  0.365600       0.181085       0.728093      1.000000"
            ]
          },
          "execution_count": 39,
          "metadata": {},
          "output_type": "execute_result"
        }
      ],
      "source": [
        "df_ranking.corr()"
      ]
    },
    {
      "cell_type": "markdown",
      "source": [
        "**setting a number which represent the position occurence of keyword in Short and Long Description**"
      ],
      "metadata": {
        "id": "PDpZ7L99sxLb"
      },
      "id": "PDpZ7L99sxLb"
    },
    {
      "cell_type": "code",
      "execution_count": null,
      "id": "a2b3c9e0-1a63-46bd-8663-5b711d09ec43",
      "metadata": {
        "id": "a2b3c9e0-1a63-46bd-8663-5b711d09ec43",
        "outputId": "81fb01c8-907d-4bd3-91c1-c4c7772b9c7a"
      },
      "outputs": [
        {
          "name": "stdout",
          "output_type": "stream",
          "text": [
            "positions original [52, 40, 15, 15, -1, -1, -1, -1, -1, -1]\n",
            "max_short_len 84\n",
            "positions after change [52, 40, 15, 15, 84, 84, 84, 84, 84, 84]\n"
          ]
        }
      ],
      "source": [
        "position = []\n",
        "for ind,descrp in enumerate(df_ranking['Short Description'].values):\n",
        "    pos = descrp.find(df_ranking['Keyword'].iloc[ind])\n",
        "    position.append(pos)\n",
        "\n",
        "print('positions original',position[:10])\n",
        "\n",
        "max_short_len = max(df_ranking['Short Description'].apply(len))\n",
        "print('max_short_len',max_short_len)\n",
        "\n",
        "position = [max_short_len if length==-1 else length for length in position]\n",
        "print('positions after change',position[:10])\n",
        "\n",
        "df_ranking['Short_des_key_pos'] = position "
      ]
    },
    {
      "cell_type": "code",
      "execution_count": null,
      "id": "9bdcfdb4-67f3-4e6b-b04b-c8eda2753cf9",
      "metadata": {
        "id": "9bdcfdb4-67f3-4e6b-b04b-c8eda2753cf9",
        "outputId": "d9202746-3a62-446f-db42-ca6c64eea8da"
      },
      "outputs": [
        {
          "name": "stdout",
          "output_type": "stream",
          "text": [
            "positions original [308, 53, 72, 26, 244, 286, 212, 212, -1, -1]\n",
            "max_long_len 3939\n",
            "positions after change [308, 53, 72, 26, 244, 286, 212, 212, 3939, 3939]\n"
          ]
        }
      ],
      "source": [
        "position = []\n",
        "for ind,descrp in enumerate(df_ranking['Long Description'].values):\n",
        "    pos = descrp.find(df_ranking['Keyword'].iloc[ind])\n",
        "    position.append(pos)\n",
        "\n",
        "print('positions original', position[:10])\n",
        "\n",
        "max_long_len = max(df_ranking['Long Description'].apply(len))\n",
        "print('max_long_len',max_long_len)\n",
        "\n",
        "position = [max_long_len if length==-1 else length for length in position]\n",
        "print('positions after change',position[:10])\n",
        "\n",
        "df_ranking['Long_des_key_pos'] = position "
      ]
    },
    {
      "cell_type": "markdown",
      "source": [
        "**Final Correlation stats**"
      ],
      "metadata": {
        "id": "b7kQ4W2Zsdhq"
      },
      "id": "b7kQ4W2Zsdhq"
    },
    {
      "cell_type": "code",
      "execution_count": null,
      "id": "2673a218-b776-4021-b52c-7f6d32048874",
      "metadata": {
        "id": "2673a218-b776-4021-b52c-7f6d32048874",
        "outputId": "468359a7-7055-4157-e458-48d4cffebcc2"
      },
      "outputs": [
        {
          "data": {
            "text/html": [
              "<div>\n",
              "<style scoped>\n",
              "    .dataframe tbody tr th:only-of-type {\n",
              "        vertical-align: middle;\n",
              "    }\n",
              "\n",
              "    .dataframe tbody tr th {\n",
              "        vertical-align: top;\n",
              "    }\n",
              "\n",
              "    .dataframe thead th {\n",
              "        text-align: right;\n",
              "    }\n",
              "</style>\n",
              "<table border=\"1\" class=\"dataframe\">\n",
              "  <thead>\n",
              "    <tr style=\"text-align: right;\">\n",
              "      <th></th>\n",
              "      <th>ID</th>\n",
              "      <th>Rank</th>\n",
              "      <th>Keyword_codes</th>\n",
              "      <th>short_des_len</th>\n",
              "      <th>long_des_len</th>\n",
              "      <th>Short_des_key_pos</th>\n",
              "      <th>Long_des_key_pos</th>\n",
              "    </tr>\n",
              "  </thead>\n",
              "  <tbody>\n",
              "    <tr>\n",
              "      <th>ID</th>\n",
              "      <td>1.000000</td>\n",
              "      <td>0.008355</td>\n",
              "      <td>0.004043</td>\n",
              "      <td>0.001208</td>\n",
              "      <td>0.001040</td>\n",
              "      <td>0.001882</td>\n",
              "      <td>0.002562</td>\n",
              "    </tr>\n",
              "    <tr>\n",
              "      <th>Rank</th>\n",
              "      <td>0.008355</td>\n",
              "      <td>1.000000</td>\n",
              "      <td>0.329200</td>\n",
              "      <td>0.208939</td>\n",
              "      <td>0.365600</td>\n",
              "      <td>0.130368</td>\n",
              "      <td>0.261694</td>\n",
              "    </tr>\n",
              "    <tr>\n",
              "      <th>Keyword_codes</th>\n",
              "      <td>0.004043</td>\n",
              "      <td>0.329200</td>\n",
              "      <td>1.000000</td>\n",
              "      <td>0.210166</td>\n",
              "      <td>0.181085</td>\n",
              "      <td>0.401324</td>\n",
              "      <td>0.598432</td>\n",
              "    </tr>\n",
              "    <tr>\n",
              "      <th>short_des_len</th>\n",
              "      <td>0.001208</td>\n",
              "      <td>0.208939</td>\n",
              "      <td>0.210166</td>\n",
              "      <td>1.000000</td>\n",
              "      <td>0.728093</td>\n",
              "      <td>-0.348606</td>\n",
              "      <td>0.054996</td>\n",
              "    </tr>\n",
              "    <tr>\n",
              "      <th>long_des_len</th>\n",
              "      <td>0.001040</td>\n",
              "      <td>0.365600</td>\n",
              "      <td>0.181085</td>\n",
              "      <td>0.728093</td>\n",
              "      <td>1.000000</td>\n",
              "      <td>-0.209832</td>\n",
              "      <td>0.053649</td>\n",
              "    </tr>\n",
              "    <tr>\n",
              "      <th>Short_des_key_pos</th>\n",
              "      <td>0.001882</td>\n",
              "      <td>0.130368</td>\n",
              "      <td>0.401324</td>\n",
              "      <td>-0.348606</td>\n",
              "      <td>-0.209832</td>\n",
              "      <td>1.000000</td>\n",
              "      <td>0.607237</td>\n",
              "    </tr>\n",
              "    <tr>\n",
              "      <th>Long_des_key_pos</th>\n",
              "      <td>0.002562</td>\n",
              "      <td>0.261694</td>\n",
              "      <td>0.598432</td>\n",
              "      <td>0.054996</td>\n",
              "      <td>0.053649</td>\n",
              "      <td>0.607237</td>\n",
              "      <td>1.000000</td>\n",
              "    </tr>\n",
              "  </tbody>\n",
              "</table>\n",
              "</div>"
            ],
            "text/plain": [
              "                         ID      Rank  Keyword_codes  short_des_len  \\\n",
              "ID                 1.000000  0.008355       0.004043       0.001208   \n",
              "Rank               0.008355  1.000000       0.329200       0.208939   \n",
              "Keyword_codes      0.004043  0.329200       1.000000       0.210166   \n",
              "short_des_len      0.001208  0.208939       0.210166       1.000000   \n",
              "long_des_len       0.001040  0.365600       0.181085       0.728093   \n",
              "Short_des_key_pos  0.001882  0.130368       0.401324      -0.348606   \n",
              "Long_des_key_pos   0.002562  0.261694       0.598432       0.054996   \n",
              "\n",
              "                   long_des_len  Short_des_key_pos  Long_des_key_pos  \n",
              "ID                     0.001040           0.001882          0.002562  \n",
              "Rank                   0.365600           0.130368          0.261694  \n",
              "Keyword_codes          0.181085           0.401324          0.598432  \n",
              "short_des_len          0.728093          -0.348606          0.054996  \n",
              "long_des_len           1.000000          -0.209832          0.053649  \n",
              "Short_des_key_pos     -0.209832           1.000000          0.607237  \n",
              "Long_des_key_pos       0.053649           0.607237          1.000000  "
            ]
          },
          "execution_count": 49,
          "metadata": {},
          "output_type": "execute_result"
        }
      ],
      "source": [
        "df_ranking.corr()"
      ]
    },
    {
      "cell_type": "markdown",
      "source": [
        "#### Final thoughts on Correlations between attributes"
      ],
      "metadata": {
        "id": "CHWX_TlPuIRV"
      },
      "id": "CHWX_TlPuIRV"
    },
    {
      "cell_type": "markdown",
      "source": [
        "1. Rank is correlated with keyword and long_description at 30%\n",
        "2. Keywords are correlated with long description with almost 60% and with short description at 40%\n",
        "3. short and long descriptions lengths are highly correlated to each other\n",
        "4. App is not all significantly correlated with any of the attributes."
      ],
      "metadata": {
        "id": "Q8XSmZ3PuOWB"
      },
      "id": "Q8XSmZ3PuOWB"
    },
    {
      "cell_type": "code",
      "source": [
        ""
      ],
      "metadata": {
        "id": "1NAB-vdL1iRu"
      },
      "id": "1NAB-vdL1iRu",
      "execution_count": null,
      "outputs": []
    }
  ],
  "metadata": {
    "kernelspec": {
      "display_name": "Python 3 (ipykernel)",
      "language": "python",
      "name": "python3"
    },
    "language_info": {
      "codemirror_mode": {
        "name": "ipython",
        "version": 3
      },
      "file_extension": ".py",
      "mimetype": "text/x-python",
      "name": "python",
      "nbconvert_exporter": "python",
      "pygments_lexer": "ipython3",
      "version": "3.7.9"
    },
    "colab": {
      "name": "nextlab_assignment_quesiton_1.ipynb",
      "provenance": [],
      "include_colab_link": true
    },
    "widgets": {
      "application/vnd.jupyter.widget-state+json": {
        "a241e017e5624c09af27350334dbc2f1": {
          "model_module": "@jupyter-widgets/controls",
          "model_name": "HBoxModel",
          "model_module_version": "1.5.0",
          "state": {
            "_dom_classes": [],
            "_model_module": "@jupyter-widgets/controls",
            "_model_module_version": "1.5.0",
            "_model_name": "HBoxModel",
            "_view_count": null,
            "_view_module": "@jupyter-widgets/controls",
            "_view_module_version": "1.5.0",
            "_view_name": "HBoxView",
            "box_style": "",
            "children": [
              "IPY_MODEL_3cbf132b737f40dc80197c25c5098cd8",
              "IPY_MODEL_ef9f0cbe2ebd4ea3915250085eac5d45",
              "IPY_MODEL_a739df3de5034decb488e12a24177717"
            ],
            "layout": "IPY_MODEL_ed8f121df7434f9790ba34bb106fd932"
          }
        },
        "3cbf132b737f40dc80197c25c5098cd8": {
          "model_module": "@jupyter-widgets/controls",
          "model_name": "HTMLModel",
          "model_module_version": "1.5.0",
          "state": {
            "_dom_classes": [],
            "_model_module": "@jupyter-widgets/controls",
            "_model_module_version": "1.5.0",
            "_model_name": "HTMLModel",
            "_view_count": null,
            "_view_module": "@jupyter-widgets/controls",
            "_view_module_version": "1.5.0",
            "_view_name": "HTMLView",
            "description": "",
            "description_tooltip": null,
            "layout": "IPY_MODEL_6497e3a2ee47416c9b7631e426c9100d",
            "placeholder": "​",
            "style": "IPY_MODEL_830cd398bd3342b68651f7a2a8c7dc9f",
            "value": "Downloading: 100%"
          }
        },
        "ef9f0cbe2ebd4ea3915250085eac5d45": {
          "model_module": "@jupyter-widgets/controls",
          "model_name": "FloatProgressModel",
          "model_module_version": "1.5.0",
          "state": {
            "_dom_classes": [],
            "_model_module": "@jupyter-widgets/controls",
            "_model_module_version": "1.5.0",
            "_model_name": "FloatProgressModel",
            "_view_count": null,
            "_view_module": "@jupyter-widgets/controls",
            "_view_module_version": "1.5.0",
            "_view_name": "ProgressView",
            "bar_style": "success",
            "description": "",
            "description_tooltip": null,
            "layout": "IPY_MODEL_160f3006dc764e6791d5768ff81f1eb5",
            "max": 629,
            "min": 0,
            "orientation": "horizontal",
            "style": "IPY_MODEL_eeaa562920e24cf6a7a9452738d10fc5",
            "value": 629
          }
        },
        "a739df3de5034decb488e12a24177717": {
          "model_module": "@jupyter-widgets/controls",
          "model_name": "HTMLModel",
          "model_module_version": "1.5.0",
          "state": {
            "_dom_classes": [],
            "_model_module": "@jupyter-widgets/controls",
            "_model_module_version": "1.5.0",
            "_model_name": "HTMLModel",
            "_view_count": null,
            "_view_module": "@jupyter-widgets/controls",
            "_view_module_version": "1.5.0",
            "_view_name": "HTMLView",
            "description": "",
            "description_tooltip": null,
            "layout": "IPY_MODEL_c10cf973e58a4a3eac22ec8c71b93f70",
            "placeholder": "​",
            "style": "IPY_MODEL_e5041e4f584b4ae9bd954fdea70541b6",
            "value": " 629/629 [00:00&lt;00:00, 11.6kB/s]"
          }
        },
        "ed8f121df7434f9790ba34bb106fd932": {
          "model_module": "@jupyter-widgets/base",
          "model_name": "LayoutModel",
          "model_module_version": "1.2.0",
          "state": {
            "_model_module": "@jupyter-widgets/base",
            "_model_module_version": "1.2.0",
            "_model_name": "LayoutModel",
            "_view_count": null,
            "_view_module": "@jupyter-widgets/base",
            "_view_module_version": "1.2.0",
            "_view_name": "LayoutView",
            "align_content": null,
            "align_items": null,
            "align_self": null,
            "border": null,
            "bottom": null,
            "display": null,
            "flex": null,
            "flex_flow": null,
            "grid_area": null,
            "grid_auto_columns": null,
            "grid_auto_flow": null,
            "grid_auto_rows": null,
            "grid_column": null,
            "grid_gap": null,
            "grid_row": null,
            "grid_template_areas": null,
            "grid_template_columns": null,
            "grid_template_rows": null,
            "height": null,
            "justify_content": null,
            "justify_items": null,
            "left": null,
            "margin": null,
            "max_height": null,
            "max_width": null,
            "min_height": null,
            "min_width": null,
            "object_fit": null,
            "object_position": null,
            "order": null,
            "overflow": null,
            "overflow_x": null,
            "overflow_y": null,
            "padding": null,
            "right": null,
            "top": null,
            "visibility": null,
            "width": null
          }
        },
        "6497e3a2ee47416c9b7631e426c9100d": {
          "model_module": "@jupyter-widgets/base",
          "model_name": "LayoutModel",
          "model_module_version": "1.2.0",
          "state": {
            "_model_module": "@jupyter-widgets/base",
            "_model_module_version": "1.2.0",
            "_model_name": "LayoutModel",
            "_view_count": null,
            "_view_module": "@jupyter-widgets/base",
            "_view_module_version": "1.2.0",
            "_view_name": "LayoutView",
            "align_content": null,
            "align_items": null,
            "align_self": null,
            "border": null,
            "bottom": null,
            "display": null,
            "flex": null,
            "flex_flow": null,
            "grid_area": null,
            "grid_auto_columns": null,
            "grid_auto_flow": null,
            "grid_auto_rows": null,
            "grid_column": null,
            "grid_gap": null,
            "grid_row": null,
            "grid_template_areas": null,
            "grid_template_columns": null,
            "grid_template_rows": null,
            "height": null,
            "justify_content": null,
            "justify_items": null,
            "left": null,
            "margin": null,
            "max_height": null,
            "max_width": null,
            "min_height": null,
            "min_width": null,
            "object_fit": null,
            "object_position": null,
            "order": null,
            "overflow": null,
            "overflow_x": null,
            "overflow_y": null,
            "padding": null,
            "right": null,
            "top": null,
            "visibility": null,
            "width": null
          }
        },
        "830cd398bd3342b68651f7a2a8c7dc9f": {
          "model_module": "@jupyter-widgets/controls",
          "model_name": "DescriptionStyleModel",
          "model_module_version": "1.5.0",
          "state": {
            "_model_module": "@jupyter-widgets/controls",
            "_model_module_version": "1.5.0",
            "_model_name": "DescriptionStyleModel",
            "_view_count": null,
            "_view_module": "@jupyter-widgets/base",
            "_view_module_version": "1.2.0",
            "_view_name": "StyleView",
            "description_width": ""
          }
        },
        "160f3006dc764e6791d5768ff81f1eb5": {
          "model_module": "@jupyter-widgets/base",
          "model_name": "LayoutModel",
          "model_module_version": "1.2.0",
          "state": {
            "_model_module": "@jupyter-widgets/base",
            "_model_module_version": "1.2.0",
            "_model_name": "LayoutModel",
            "_view_count": null,
            "_view_module": "@jupyter-widgets/base",
            "_view_module_version": "1.2.0",
            "_view_name": "LayoutView",
            "align_content": null,
            "align_items": null,
            "align_self": null,
            "border": null,
            "bottom": null,
            "display": null,
            "flex": null,
            "flex_flow": null,
            "grid_area": null,
            "grid_auto_columns": null,
            "grid_auto_flow": null,
            "grid_auto_rows": null,
            "grid_column": null,
            "grid_gap": null,
            "grid_row": null,
            "grid_template_areas": null,
            "grid_template_columns": null,
            "grid_template_rows": null,
            "height": null,
            "justify_content": null,
            "justify_items": null,
            "left": null,
            "margin": null,
            "max_height": null,
            "max_width": null,
            "min_height": null,
            "min_width": null,
            "object_fit": null,
            "object_position": null,
            "order": null,
            "overflow": null,
            "overflow_x": null,
            "overflow_y": null,
            "padding": null,
            "right": null,
            "top": null,
            "visibility": null,
            "width": null
          }
        },
        "eeaa562920e24cf6a7a9452738d10fc5": {
          "model_module": "@jupyter-widgets/controls",
          "model_name": "ProgressStyleModel",
          "model_module_version": "1.5.0",
          "state": {
            "_model_module": "@jupyter-widgets/controls",
            "_model_module_version": "1.5.0",
            "_model_name": "ProgressStyleModel",
            "_view_count": null,
            "_view_module": "@jupyter-widgets/base",
            "_view_module_version": "1.2.0",
            "_view_name": "StyleView",
            "bar_color": null,
            "description_width": ""
          }
        },
        "c10cf973e58a4a3eac22ec8c71b93f70": {
          "model_module": "@jupyter-widgets/base",
          "model_name": "LayoutModel",
          "model_module_version": "1.2.0",
          "state": {
            "_model_module": "@jupyter-widgets/base",
            "_model_module_version": "1.2.0",
            "_model_name": "LayoutModel",
            "_view_count": null,
            "_view_module": "@jupyter-widgets/base",
            "_view_module_version": "1.2.0",
            "_view_name": "LayoutView",
            "align_content": null,
            "align_items": null,
            "align_self": null,
            "border": null,
            "bottom": null,
            "display": null,
            "flex": null,
            "flex_flow": null,
            "grid_area": null,
            "grid_auto_columns": null,
            "grid_auto_flow": null,
            "grid_auto_rows": null,
            "grid_column": null,
            "grid_gap": null,
            "grid_row": null,
            "grid_template_areas": null,
            "grid_template_columns": null,
            "grid_template_rows": null,
            "height": null,
            "justify_content": null,
            "justify_items": null,
            "left": null,
            "margin": null,
            "max_height": null,
            "max_width": null,
            "min_height": null,
            "min_width": null,
            "object_fit": null,
            "object_position": null,
            "order": null,
            "overflow": null,
            "overflow_x": null,
            "overflow_y": null,
            "padding": null,
            "right": null,
            "top": null,
            "visibility": null,
            "width": null
          }
        },
        "e5041e4f584b4ae9bd954fdea70541b6": {
          "model_module": "@jupyter-widgets/controls",
          "model_name": "DescriptionStyleModel",
          "model_module_version": "1.5.0",
          "state": {
            "_model_module": "@jupyter-widgets/controls",
            "_model_module_version": "1.5.0",
            "_model_name": "DescriptionStyleModel",
            "_view_count": null,
            "_view_module": "@jupyter-widgets/base",
            "_view_module_version": "1.2.0",
            "_view_name": "StyleView",
            "description_width": ""
          }
        },
        "5c9e231a13534f7e831efffa380b3bf4": {
          "model_module": "@jupyter-widgets/controls",
          "model_name": "HBoxModel",
          "model_module_version": "1.5.0",
          "state": {
            "_dom_classes": [],
            "_model_module": "@jupyter-widgets/controls",
            "_model_module_version": "1.5.0",
            "_model_name": "HBoxModel",
            "_view_count": null,
            "_view_module": "@jupyter-widgets/controls",
            "_view_module_version": "1.5.0",
            "_view_name": "HBoxView",
            "box_style": "",
            "children": [
              "IPY_MODEL_5ef42d1847744b93a038d97ed18f3bc0",
              "IPY_MODEL_245bb8934b7b47cfb9e6ec0d64171333",
              "IPY_MODEL_bcf203952e394f5eb1b11a5eca96067f"
            ],
            "layout": "IPY_MODEL_540528c8aad74d43aaf1354957f5b53f"
          }
        },
        "5ef42d1847744b93a038d97ed18f3bc0": {
          "model_module": "@jupyter-widgets/controls",
          "model_name": "HTMLModel",
          "model_module_version": "1.5.0",
          "state": {
            "_dom_classes": [],
            "_model_module": "@jupyter-widgets/controls",
            "_model_module_version": "1.5.0",
            "_model_name": "HTMLModel",
            "_view_count": null,
            "_view_module": "@jupyter-widgets/controls",
            "_view_module_version": "1.5.0",
            "_view_name": "HTMLView",
            "description": "",
            "description_tooltip": null,
            "layout": "IPY_MODEL_a2bbf5dac3a7451d8265655bb9ad08ac",
            "placeholder": "​",
            "style": "IPY_MODEL_587c13167c1941d983d8db71a0121dff",
            "value": "Downloading: 100%"
          }
        },
        "245bb8934b7b47cfb9e6ec0d64171333": {
          "model_module": "@jupyter-widgets/controls",
          "model_name": "FloatProgressModel",
          "model_module_version": "1.5.0",
          "state": {
            "_dom_classes": [],
            "_model_module": "@jupyter-widgets/controls",
            "_model_module_version": "1.5.0",
            "_model_name": "FloatProgressModel",
            "_view_count": null,
            "_view_module": "@jupyter-widgets/controls",
            "_view_module_version": "1.5.0",
            "_view_name": "ProgressView",
            "bar_style": "success",
            "description": "",
            "description_tooltip": null,
            "layout": "IPY_MODEL_88b53397d6814b4d96b019167ffc5d5e",
            "max": 267844284,
            "min": 0,
            "orientation": "horizontal",
            "style": "IPY_MODEL_c71ee5fca0df4c40a66d5b42e387be6c",
            "value": 267844284
          }
        },
        "bcf203952e394f5eb1b11a5eca96067f": {
          "model_module": "@jupyter-widgets/controls",
          "model_name": "HTMLModel",
          "model_module_version": "1.5.0",
          "state": {
            "_dom_classes": [],
            "_model_module": "@jupyter-widgets/controls",
            "_model_module_version": "1.5.0",
            "_model_name": "HTMLModel",
            "_view_count": null,
            "_view_module": "@jupyter-widgets/controls",
            "_view_module_version": "1.5.0",
            "_view_name": "HTMLView",
            "description": "",
            "description_tooltip": null,
            "layout": "IPY_MODEL_a0bf508161d44fe9a17c11332517d534",
            "placeholder": "​",
            "style": "IPY_MODEL_85c86789bc7c46d1a5640a9c80ec23bc",
            "value": " 255M/255M [00:05&lt;00:00, 50.3MB/s]"
          }
        },
        "540528c8aad74d43aaf1354957f5b53f": {
          "model_module": "@jupyter-widgets/base",
          "model_name": "LayoutModel",
          "model_module_version": "1.2.0",
          "state": {
            "_model_module": "@jupyter-widgets/base",
            "_model_module_version": "1.2.0",
            "_model_name": "LayoutModel",
            "_view_count": null,
            "_view_module": "@jupyter-widgets/base",
            "_view_module_version": "1.2.0",
            "_view_name": "LayoutView",
            "align_content": null,
            "align_items": null,
            "align_self": null,
            "border": null,
            "bottom": null,
            "display": null,
            "flex": null,
            "flex_flow": null,
            "grid_area": null,
            "grid_auto_columns": null,
            "grid_auto_flow": null,
            "grid_auto_rows": null,
            "grid_column": null,
            "grid_gap": null,
            "grid_row": null,
            "grid_template_areas": null,
            "grid_template_columns": null,
            "grid_template_rows": null,
            "height": null,
            "justify_content": null,
            "justify_items": null,
            "left": null,
            "margin": null,
            "max_height": null,
            "max_width": null,
            "min_height": null,
            "min_width": null,
            "object_fit": null,
            "object_position": null,
            "order": null,
            "overflow": null,
            "overflow_x": null,
            "overflow_y": null,
            "padding": null,
            "right": null,
            "top": null,
            "visibility": null,
            "width": null
          }
        },
        "a2bbf5dac3a7451d8265655bb9ad08ac": {
          "model_module": "@jupyter-widgets/base",
          "model_name": "LayoutModel",
          "model_module_version": "1.2.0",
          "state": {
            "_model_module": "@jupyter-widgets/base",
            "_model_module_version": "1.2.0",
            "_model_name": "LayoutModel",
            "_view_count": null,
            "_view_module": "@jupyter-widgets/base",
            "_view_module_version": "1.2.0",
            "_view_name": "LayoutView",
            "align_content": null,
            "align_items": null,
            "align_self": null,
            "border": null,
            "bottom": null,
            "display": null,
            "flex": null,
            "flex_flow": null,
            "grid_area": null,
            "grid_auto_columns": null,
            "grid_auto_flow": null,
            "grid_auto_rows": null,
            "grid_column": null,
            "grid_gap": null,
            "grid_row": null,
            "grid_template_areas": null,
            "grid_template_columns": null,
            "grid_template_rows": null,
            "height": null,
            "justify_content": null,
            "justify_items": null,
            "left": null,
            "margin": null,
            "max_height": null,
            "max_width": null,
            "min_height": null,
            "min_width": null,
            "object_fit": null,
            "object_position": null,
            "order": null,
            "overflow": null,
            "overflow_x": null,
            "overflow_y": null,
            "padding": null,
            "right": null,
            "top": null,
            "visibility": null,
            "width": null
          }
        },
        "587c13167c1941d983d8db71a0121dff": {
          "model_module": "@jupyter-widgets/controls",
          "model_name": "DescriptionStyleModel",
          "model_module_version": "1.5.0",
          "state": {
            "_model_module": "@jupyter-widgets/controls",
            "_model_module_version": "1.5.0",
            "_model_name": "DescriptionStyleModel",
            "_view_count": null,
            "_view_module": "@jupyter-widgets/base",
            "_view_module_version": "1.2.0",
            "_view_name": "StyleView",
            "description_width": ""
          }
        },
        "88b53397d6814b4d96b019167ffc5d5e": {
          "model_module": "@jupyter-widgets/base",
          "model_name": "LayoutModel",
          "model_module_version": "1.2.0",
          "state": {
            "_model_module": "@jupyter-widgets/base",
            "_model_module_version": "1.2.0",
            "_model_name": "LayoutModel",
            "_view_count": null,
            "_view_module": "@jupyter-widgets/base",
            "_view_module_version": "1.2.0",
            "_view_name": "LayoutView",
            "align_content": null,
            "align_items": null,
            "align_self": null,
            "border": null,
            "bottom": null,
            "display": null,
            "flex": null,
            "flex_flow": null,
            "grid_area": null,
            "grid_auto_columns": null,
            "grid_auto_flow": null,
            "grid_auto_rows": null,
            "grid_column": null,
            "grid_gap": null,
            "grid_row": null,
            "grid_template_areas": null,
            "grid_template_columns": null,
            "grid_template_rows": null,
            "height": null,
            "justify_content": null,
            "justify_items": null,
            "left": null,
            "margin": null,
            "max_height": null,
            "max_width": null,
            "min_height": null,
            "min_width": null,
            "object_fit": null,
            "object_position": null,
            "order": null,
            "overflow": null,
            "overflow_x": null,
            "overflow_y": null,
            "padding": null,
            "right": null,
            "top": null,
            "visibility": null,
            "width": null
          }
        },
        "c71ee5fca0df4c40a66d5b42e387be6c": {
          "model_module": "@jupyter-widgets/controls",
          "model_name": "ProgressStyleModel",
          "model_module_version": "1.5.0",
          "state": {
            "_model_module": "@jupyter-widgets/controls",
            "_model_module_version": "1.5.0",
            "_model_name": "ProgressStyleModel",
            "_view_count": null,
            "_view_module": "@jupyter-widgets/base",
            "_view_module_version": "1.2.0",
            "_view_name": "StyleView",
            "bar_color": null,
            "description_width": ""
          }
        },
        "a0bf508161d44fe9a17c11332517d534": {
          "model_module": "@jupyter-widgets/base",
          "model_name": "LayoutModel",
          "model_module_version": "1.2.0",
          "state": {
            "_model_module": "@jupyter-widgets/base",
            "_model_module_version": "1.2.0",
            "_model_name": "LayoutModel",
            "_view_count": null,
            "_view_module": "@jupyter-widgets/base",
            "_view_module_version": "1.2.0",
            "_view_name": "LayoutView",
            "align_content": null,
            "align_items": null,
            "align_self": null,
            "border": null,
            "bottom": null,
            "display": null,
            "flex": null,
            "flex_flow": null,
            "grid_area": null,
            "grid_auto_columns": null,
            "grid_auto_flow": null,
            "grid_auto_rows": null,
            "grid_column": null,
            "grid_gap": null,
            "grid_row": null,
            "grid_template_areas": null,
            "grid_template_columns": null,
            "grid_template_rows": null,
            "height": null,
            "justify_content": null,
            "justify_items": null,
            "left": null,
            "margin": null,
            "max_height": null,
            "max_width": null,
            "min_height": null,
            "min_width": null,
            "object_fit": null,
            "object_position": null,
            "order": null,
            "overflow": null,
            "overflow_x": null,
            "overflow_y": null,
            "padding": null,
            "right": null,
            "top": null,
            "visibility": null,
            "width": null
          }
        },
        "85c86789bc7c46d1a5640a9c80ec23bc": {
          "model_module": "@jupyter-widgets/controls",
          "model_name": "DescriptionStyleModel",
          "model_module_version": "1.5.0",
          "state": {
            "_model_module": "@jupyter-widgets/controls",
            "_model_module_version": "1.5.0",
            "_model_name": "DescriptionStyleModel",
            "_view_count": null,
            "_view_module": "@jupyter-widgets/base",
            "_view_module_version": "1.2.0",
            "_view_name": "StyleView",
            "description_width": ""
          }
        },
        "969be010655a45dabf2fff3dc91c2104": {
          "model_module": "@jupyter-widgets/controls",
          "model_name": "HBoxModel",
          "model_module_version": "1.5.0",
          "state": {
            "_dom_classes": [],
            "_model_module": "@jupyter-widgets/controls",
            "_model_module_version": "1.5.0",
            "_model_name": "HBoxModel",
            "_view_count": null,
            "_view_module": "@jupyter-widgets/controls",
            "_view_module_version": "1.5.0",
            "_view_name": "HBoxView",
            "box_style": "",
            "children": [
              "IPY_MODEL_9fe96348290d4774a628a8c4cf2d7cdd",
              "IPY_MODEL_f273009ee1ee459fb0dda50d68a66f05",
              "IPY_MODEL_1370602df5484995834f5d115811de8b"
            ],
            "layout": "IPY_MODEL_06a6cfd99242453ab616d4832db17c6d"
          }
        },
        "9fe96348290d4774a628a8c4cf2d7cdd": {
          "model_module": "@jupyter-widgets/controls",
          "model_name": "HTMLModel",
          "model_module_version": "1.5.0",
          "state": {
            "_dom_classes": [],
            "_model_module": "@jupyter-widgets/controls",
            "_model_module_version": "1.5.0",
            "_model_name": "HTMLModel",
            "_view_count": null,
            "_view_module": "@jupyter-widgets/controls",
            "_view_module_version": "1.5.0",
            "_view_name": "HTMLView",
            "description": "",
            "description_tooltip": null,
            "layout": "IPY_MODEL_9fb671083d2f451ca2669c2d9fa72c72",
            "placeholder": "​",
            "style": "IPY_MODEL_86cb3ab22c0340f7902927381de2c5f3",
            "value": "Downloading: 100%"
          }
        },
        "f273009ee1ee459fb0dda50d68a66f05": {
          "model_module": "@jupyter-widgets/controls",
          "model_name": "FloatProgressModel",
          "model_module_version": "1.5.0",
          "state": {
            "_dom_classes": [],
            "_model_module": "@jupyter-widgets/controls",
            "_model_module_version": "1.5.0",
            "_model_name": "FloatProgressModel",
            "_view_count": null,
            "_view_module": "@jupyter-widgets/controls",
            "_view_module_version": "1.5.0",
            "_view_name": "ProgressView",
            "bar_style": "success",
            "description": "",
            "description_tooltip": null,
            "layout": "IPY_MODEL_d722dd90f0334d4f8cadaef3a5d38d74",
            "max": 48,
            "min": 0,
            "orientation": "horizontal",
            "style": "IPY_MODEL_81bdb4184e87409b9ef318b896d7f51d",
            "value": 48
          }
        },
        "1370602df5484995834f5d115811de8b": {
          "model_module": "@jupyter-widgets/controls",
          "model_name": "HTMLModel",
          "model_module_version": "1.5.0",
          "state": {
            "_dom_classes": [],
            "_model_module": "@jupyter-widgets/controls",
            "_model_module_version": "1.5.0",
            "_model_name": "HTMLModel",
            "_view_count": null,
            "_view_module": "@jupyter-widgets/controls",
            "_view_module_version": "1.5.0",
            "_view_name": "HTMLView",
            "description": "",
            "description_tooltip": null,
            "layout": "IPY_MODEL_01d7a05eda184b199a63c8d6be0c3ad0",
            "placeholder": "​",
            "style": "IPY_MODEL_ea288c848ed047bf9f8700b64c74407a",
            "value": " 48.0/48.0 [00:00&lt;00:00, 668B/s]"
          }
        },
        "06a6cfd99242453ab616d4832db17c6d": {
          "model_module": "@jupyter-widgets/base",
          "model_name": "LayoutModel",
          "model_module_version": "1.2.0",
          "state": {
            "_model_module": "@jupyter-widgets/base",
            "_model_module_version": "1.2.0",
            "_model_name": "LayoutModel",
            "_view_count": null,
            "_view_module": "@jupyter-widgets/base",
            "_view_module_version": "1.2.0",
            "_view_name": "LayoutView",
            "align_content": null,
            "align_items": null,
            "align_self": null,
            "border": null,
            "bottom": null,
            "display": null,
            "flex": null,
            "flex_flow": null,
            "grid_area": null,
            "grid_auto_columns": null,
            "grid_auto_flow": null,
            "grid_auto_rows": null,
            "grid_column": null,
            "grid_gap": null,
            "grid_row": null,
            "grid_template_areas": null,
            "grid_template_columns": null,
            "grid_template_rows": null,
            "height": null,
            "justify_content": null,
            "justify_items": null,
            "left": null,
            "margin": null,
            "max_height": null,
            "max_width": null,
            "min_height": null,
            "min_width": null,
            "object_fit": null,
            "object_position": null,
            "order": null,
            "overflow": null,
            "overflow_x": null,
            "overflow_y": null,
            "padding": null,
            "right": null,
            "top": null,
            "visibility": null,
            "width": null
          }
        },
        "9fb671083d2f451ca2669c2d9fa72c72": {
          "model_module": "@jupyter-widgets/base",
          "model_name": "LayoutModel",
          "model_module_version": "1.2.0",
          "state": {
            "_model_module": "@jupyter-widgets/base",
            "_model_module_version": "1.2.0",
            "_model_name": "LayoutModel",
            "_view_count": null,
            "_view_module": "@jupyter-widgets/base",
            "_view_module_version": "1.2.0",
            "_view_name": "LayoutView",
            "align_content": null,
            "align_items": null,
            "align_self": null,
            "border": null,
            "bottom": null,
            "display": null,
            "flex": null,
            "flex_flow": null,
            "grid_area": null,
            "grid_auto_columns": null,
            "grid_auto_flow": null,
            "grid_auto_rows": null,
            "grid_column": null,
            "grid_gap": null,
            "grid_row": null,
            "grid_template_areas": null,
            "grid_template_columns": null,
            "grid_template_rows": null,
            "height": null,
            "justify_content": null,
            "justify_items": null,
            "left": null,
            "margin": null,
            "max_height": null,
            "max_width": null,
            "min_height": null,
            "min_width": null,
            "object_fit": null,
            "object_position": null,
            "order": null,
            "overflow": null,
            "overflow_x": null,
            "overflow_y": null,
            "padding": null,
            "right": null,
            "top": null,
            "visibility": null,
            "width": null
          }
        },
        "86cb3ab22c0340f7902927381de2c5f3": {
          "model_module": "@jupyter-widgets/controls",
          "model_name": "DescriptionStyleModel",
          "model_module_version": "1.5.0",
          "state": {
            "_model_module": "@jupyter-widgets/controls",
            "_model_module_version": "1.5.0",
            "_model_name": "DescriptionStyleModel",
            "_view_count": null,
            "_view_module": "@jupyter-widgets/base",
            "_view_module_version": "1.2.0",
            "_view_name": "StyleView",
            "description_width": ""
          }
        },
        "d722dd90f0334d4f8cadaef3a5d38d74": {
          "model_module": "@jupyter-widgets/base",
          "model_name": "LayoutModel",
          "model_module_version": "1.2.0",
          "state": {
            "_model_module": "@jupyter-widgets/base",
            "_model_module_version": "1.2.0",
            "_model_name": "LayoutModel",
            "_view_count": null,
            "_view_module": "@jupyter-widgets/base",
            "_view_module_version": "1.2.0",
            "_view_name": "LayoutView",
            "align_content": null,
            "align_items": null,
            "align_self": null,
            "border": null,
            "bottom": null,
            "display": null,
            "flex": null,
            "flex_flow": null,
            "grid_area": null,
            "grid_auto_columns": null,
            "grid_auto_flow": null,
            "grid_auto_rows": null,
            "grid_column": null,
            "grid_gap": null,
            "grid_row": null,
            "grid_template_areas": null,
            "grid_template_columns": null,
            "grid_template_rows": null,
            "height": null,
            "justify_content": null,
            "justify_items": null,
            "left": null,
            "margin": null,
            "max_height": null,
            "max_width": null,
            "min_height": null,
            "min_width": null,
            "object_fit": null,
            "object_position": null,
            "order": null,
            "overflow": null,
            "overflow_x": null,
            "overflow_y": null,
            "padding": null,
            "right": null,
            "top": null,
            "visibility": null,
            "width": null
          }
        },
        "81bdb4184e87409b9ef318b896d7f51d": {
          "model_module": "@jupyter-widgets/controls",
          "model_name": "ProgressStyleModel",
          "model_module_version": "1.5.0",
          "state": {
            "_model_module": "@jupyter-widgets/controls",
            "_model_module_version": "1.5.0",
            "_model_name": "ProgressStyleModel",
            "_view_count": null,
            "_view_module": "@jupyter-widgets/base",
            "_view_module_version": "1.2.0",
            "_view_name": "StyleView",
            "bar_color": null,
            "description_width": ""
          }
        },
        "01d7a05eda184b199a63c8d6be0c3ad0": {
          "model_module": "@jupyter-widgets/base",
          "model_name": "LayoutModel",
          "model_module_version": "1.2.0",
          "state": {
            "_model_module": "@jupyter-widgets/base",
            "_model_module_version": "1.2.0",
            "_model_name": "LayoutModel",
            "_view_count": null,
            "_view_module": "@jupyter-widgets/base",
            "_view_module_version": "1.2.0",
            "_view_name": "LayoutView",
            "align_content": null,
            "align_items": null,
            "align_self": null,
            "border": null,
            "bottom": null,
            "display": null,
            "flex": null,
            "flex_flow": null,
            "grid_area": null,
            "grid_auto_columns": null,
            "grid_auto_flow": null,
            "grid_auto_rows": null,
            "grid_column": null,
            "grid_gap": null,
            "grid_row": null,
            "grid_template_areas": null,
            "grid_template_columns": null,
            "grid_template_rows": null,
            "height": null,
            "justify_content": null,
            "justify_items": null,
            "left": null,
            "margin": null,
            "max_height": null,
            "max_width": null,
            "min_height": null,
            "min_width": null,
            "object_fit": null,
            "object_position": null,
            "order": null,
            "overflow": null,
            "overflow_x": null,
            "overflow_y": null,
            "padding": null,
            "right": null,
            "top": null,
            "visibility": null,
            "width": null
          }
        },
        "ea288c848ed047bf9f8700b64c74407a": {
          "model_module": "@jupyter-widgets/controls",
          "model_name": "DescriptionStyleModel",
          "model_module_version": "1.5.0",
          "state": {
            "_model_module": "@jupyter-widgets/controls",
            "_model_module_version": "1.5.0",
            "_model_name": "DescriptionStyleModel",
            "_view_count": null,
            "_view_module": "@jupyter-widgets/base",
            "_view_module_version": "1.2.0",
            "_view_name": "StyleView",
            "description_width": ""
          }
        },
        "ed120567645841fc841924aef5018951": {
          "model_module": "@jupyter-widgets/controls",
          "model_name": "HBoxModel",
          "model_module_version": "1.5.0",
          "state": {
            "_dom_classes": [],
            "_model_module": "@jupyter-widgets/controls",
            "_model_module_version": "1.5.0",
            "_model_name": "HBoxModel",
            "_view_count": null,
            "_view_module": "@jupyter-widgets/controls",
            "_view_module_version": "1.5.0",
            "_view_name": "HBoxView",
            "box_style": "",
            "children": [
              "IPY_MODEL_20053593308a4255ae4b38fe7acfaa1a",
              "IPY_MODEL_12bcfea3aed4424fa49ab7a643f98b82",
              "IPY_MODEL_58c4e8a761d94f47aabbb53bbaff5155"
            ],
            "layout": "IPY_MODEL_24e04a87b6da4f78b8d6baf29a3263d5"
          }
        },
        "20053593308a4255ae4b38fe7acfaa1a": {
          "model_module": "@jupyter-widgets/controls",
          "model_name": "HTMLModel",
          "model_module_version": "1.5.0",
          "state": {
            "_dom_classes": [],
            "_model_module": "@jupyter-widgets/controls",
            "_model_module_version": "1.5.0",
            "_model_name": "HTMLModel",
            "_view_count": null,
            "_view_module": "@jupyter-widgets/controls",
            "_view_module_version": "1.5.0",
            "_view_name": "HTMLView",
            "description": "",
            "description_tooltip": null,
            "layout": "IPY_MODEL_09e5e2180a6349e09b50f945ac901989",
            "placeholder": "​",
            "style": "IPY_MODEL_e193c926363045f1976148746367af1c",
            "value": "Downloading: 100%"
          }
        },
        "12bcfea3aed4424fa49ab7a643f98b82": {
          "model_module": "@jupyter-widgets/controls",
          "model_name": "FloatProgressModel",
          "model_module_version": "1.5.0",
          "state": {
            "_dom_classes": [],
            "_model_module": "@jupyter-widgets/controls",
            "_model_module_version": "1.5.0",
            "_model_name": "FloatProgressModel",
            "_view_count": null,
            "_view_module": "@jupyter-widgets/controls",
            "_view_module_version": "1.5.0",
            "_view_name": "ProgressView",
            "bar_style": "success",
            "description": "",
            "description_tooltip": null,
            "layout": "IPY_MODEL_92e41eafce9f4f569e83a7697fdc43c7",
            "max": 231508,
            "min": 0,
            "orientation": "horizontal",
            "style": "IPY_MODEL_50b7aa5e3aa349d6b2ed6258e9d9a448",
            "value": 231508
          }
        },
        "58c4e8a761d94f47aabbb53bbaff5155": {
          "model_module": "@jupyter-widgets/controls",
          "model_name": "HTMLModel",
          "model_module_version": "1.5.0",
          "state": {
            "_dom_classes": [],
            "_model_module": "@jupyter-widgets/controls",
            "_model_module_version": "1.5.0",
            "_model_name": "HTMLModel",
            "_view_count": null,
            "_view_module": "@jupyter-widgets/controls",
            "_view_module_version": "1.5.0",
            "_view_name": "HTMLView",
            "description": "",
            "description_tooltip": null,
            "layout": "IPY_MODEL_6e1cdf1362ec4848aee6be1dc8d5e200",
            "placeholder": "​",
            "style": "IPY_MODEL_76c8b95628824e70b05646669771dd93",
            "value": " 226k/226k [00:00&lt;00:00, 1.74MB/s]"
          }
        },
        "24e04a87b6da4f78b8d6baf29a3263d5": {
          "model_module": "@jupyter-widgets/base",
          "model_name": "LayoutModel",
          "model_module_version": "1.2.0",
          "state": {
            "_model_module": "@jupyter-widgets/base",
            "_model_module_version": "1.2.0",
            "_model_name": "LayoutModel",
            "_view_count": null,
            "_view_module": "@jupyter-widgets/base",
            "_view_module_version": "1.2.0",
            "_view_name": "LayoutView",
            "align_content": null,
            "align_items": null,
            "align_self": null,
            "border": null,
            "bottom": null,
            "display": null,
            "flex": null,
            "flex_flow": null,
            "grid_area": null,
            "grid_auto_columns": null,
            "grid_auto_flow": null,
            "grid_auto_rows": null,
            "grid_column": null,
            "grid_gap": null,
            "grid_row": null,
            "grid_template_areas": null,
            "grid_template_columns": null,
            "grid_template_rows": null,
            "height": null,
            "justify_content": null,
            "justify_items": null,
            "left": null,
            "margin": null,
            "max_height": null,
            "max_width": null,
            "min_height": null,
            "min_width": null,
            "object_fit": null,
            "object_position": null,
            "order": null,
            "overflow": null,
            "overflow_x": null,
            "overflow_y": null,
            "padding": null,
            "right": null,
            "top": null,
            "visibility": null,
            "width": null
          }
        },
        "09e5e2180a6349e09b50f945ac901989": {
          "model_module": "@jupyter-widgets/base",
          "model_name": "LayoutModel",
          "model_module_version": "1.2.0",
          "state": {
            "_model_module": "@jupyter-widgets/base",
            "_model_module_version": "1.2.0",
            "_model_name": "LayoutModel",
            "_view_count": null,
            "_view_module": "@jupyter-widgets/base",
            "_view_module_version": "1.2.0",
            "_view_name": "LayoutView",
            "align_content": null,
            "align_items": null,
            "align_self": null,
            "border": null,
            "bottom": null,
            "display": null,
            "flex": null,
            "flex_flow": null,
            "grid_area": null,
            "grid_auto_columns": null,
            "grid_auto_flow": null,
            "grid_auto_rows": null,
            "grid_column": null,
            "grid_gap": null,
            "grid_row": null,
            "grid_template_areas": null,
            "grid_template_columns": null,
            "grid_template_rows": null,
            "height": null,
            "justify_content": null,
            "justify_items": null,
            "left": null,
            "margin": null,
            "max_height": null,
            "max_width": null,
            "min_height": null,
            "min_width": null,
            "object_fit": null,
            "object_position": null,
            "order": null,
            "overflow": null,
            "overflow_x": null,
            "overflow_y": null,
            "padding": null,
            "right": null,
            "top": null,
            "visibility": null,
            "width": null
          }
        },
        "e193c926363045f1976148746367af1c": {
          "model_module": "@jupyter-widgets/controls",
          "model_name": "DescriptionStyleModel",
          "model_module_version": "1.5.0",
          "state": {
            "_model_module": "@jupyter-widgets/controls",
            "_model_module_version": "1.5.0",
            "_model_name": "DescriptionStyleModel",
            "_view_count": null,
            "_view_module": "@jupyter-widgets/base",
            "_view_module_version": "1.2.0",
            "_view_name": "StyleView",
            "description_width": ""
          }
        },
        "92e41eafce9f4f569e83a7697fdc43c7": {
          "model_module": "@jupyter-widgets/base",
          "model_name": "LayoutModel",
          "model_module_version": "1.2.0",
          "state": {
            "_model_module": "@jupyter-widgets/base",
            "_model_module_version": "1.2.0",
            "_model_name": "LayoutModel",
            "_view_count": null,
            "_view_module": "@jupyter-widgets/base",
            "_view_module_version": "1.2.0",
            "_view_name": "LayoutView",
            "align_content": null,
            "align_items": null,
            "align_self": null,
            "border": null,
            "bottom": null,
            "display": null,
            "flex": null,
            "flex_flow": null,
            "grid_area": null,
            "grid_auto_columns": null,
            "grid_auto_flow": null,
            "grid_auto_rows": null,
            "grid_column": null,
            "grid_gap": null,
            "grid_row": null,
            "grid_template_areas": null,
            "grid_template_columns": null,
            "grid_template_rows": null,
            "height": null,
            "justify_content": null,
            "justify_items": null,
            "left": null,
            "margin": null,
            "max_height": null,
            "max_width": null,
            "min_height": null,
            "min_width": null,
            "object_fit": null,
            "object_position": null,
            "order": null,
            "overflow": null,
            "overflow_x": null,
            "overflow_y": null,
            "padding": null,
            "right": null,
            "top": null,
            "visibility": null,
            "width": null
          }
        },
        "50b7aa5e3aa349d6b2ed6258e9d9a448": {
          "model_module": "@jupyter-widgets/controls",
          "model_name": "ProgressStyleModel",
          "model_module_version": "1.5.0",
          "state": {
            "_model_module": "@jupyter-widgets/controls",
            "_model_module_version": "1.5.0",
            "_model_name": "ProgressStyleModel",
            "_view_count": null,
            "_view_module": "@jupyter-widgets/base",
            "_view_module_version": "1.2.0",
            "_view_name": "StyleView",
            "bar_color": null,
            "description_width": ""
          }
        },
        "6e1cdf1362ec4848aee6be1dc8d5e200": {
          "model_module": "@jupyter-widgets/base",
          "model_name": "LayoutModel",
          "model_module_version": "1.2.0",
          "state": {
            "_model_module": "@jupyter-widgets/base",
            "_model_module_version": "1.2.0",
            "_model_name": "LayoutModel",
            "_view_count": null,
            "_view_module": "@jupyter-widgets/base",
            "_view_module_version": "1.2.0",
            "_view_name": "LayoutView",
            "align_content": null,
            "align_items": null,
            "align_self": null,
            "border": null,
            "bottom": null,
            "display": null,
            "flex": null,
            "flex_flow": null,
            "grid_area": null,
            "grid_auto_columns": null,
            "grid_auto_flow": null,
            "grid_auto_rows": null,
            "grid_column": null,
            "grid_gap": null,
            "grid_row": null,
            "grid_template_areas": null,
            "grid_template_columns": null,
            "grid_template_rows": null,
            "height": null,
            "justify_content": null,
            "justify_items": null,
            "left": null,
            "margin": null,
            "max_height": null,
            "max_width": null,
            "min_height": null,
            "min_width": null,
            "object_fit": null,
            "object_position": null,
            "order": null,
            "overflow": null,
            "overflow_x": null,
            "overflow_y": null,
            "padding": null,
            "right": null,
            "top": null,
            "visibility": null,
            "width": null
          }
        },
        "76c8b95628824e70b05646669771dd93": {
          "model_module": "@jupyter-widgets/controls",
          "model_name": "DescriptionStyleModel",
          "model_module_version": "1.5.0",
          "state": {
            "_model_module": "@jupyter-widgets/controls",
            "_model_module_version": "1.5.0",
            "_model_name": "DescriptionStyleModel",
            "_view_count": null,
            "_view_module": "@jupyter-widgets/base",
            "_view_module_version": "1.2.0",
            "_view_name": "StyleView",
            "description_width": ""
          }
        }
      }
    }
  },
  "nbformat": 4,
  "nbformat_minor": 5
}
